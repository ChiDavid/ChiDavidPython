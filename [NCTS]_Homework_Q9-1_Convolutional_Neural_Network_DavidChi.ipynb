{
 "cells": [
  {
   "cell_type": "markdown",
   "metadata": {},
   "source": [
    "## 用CNN圖形辨識 - Convolutional Neural Network"
   ]
  },
  {
   "cell_type": "code",
   "execution_count": 1,
   "metadata": {},
   "outputs": [
    {
     "name": "stdout",
     "output_type": "stream",
     "text": [
      "env: KERAS_BACKEND=tensorflow\n"
     ]
    },
    {
     "name": "stderr",
     "output_type": "stream",
     "text": [
      "Using TensorFlow backend.\n"
     ]
    }
   ],
   "source": [
    "%matplotlib inline\n",
    "%env KERAS_BACKEND = tensorflow\n",
    "\n",
    "import time\n",
    "import locale\n",
    "import random\n",
    "import keras\n",
    "import numpy as np\n",
    "import pandas as pd\n",
    "import matplotlib as mpl\n",
    "import matplotlib.pyplot as plt\n",
    "\n",
    "from ipywidgets import interact\n",
    "from ipywidgets import interact_manual\n",
    "from sklearn.linear_model import LinearRegression\n",
    "from matplotlib.font_manager import FontProperties\n",
    "from sklearn.model_selection import train_test_split\n",
    "\n",
    "myfont = FontProperties(fname = r'c:\\windows\\fonts\\simsun.ttc', size = 14)"
   ]
  },
  {
   "cell_type": "code",
   "execution_count": 2,
   "metadata": {},
   "outputs": [],
   "source": [
    "# 由 Keras 讀入 MNIST\n",
    "from keras.datasets import mnist\n",
    "\n",
    "#CNN\n",
    "from keras.models import Sequential, Model\n",
    "from keras.layers import Dense, Activation, Flatten\n",
    "from keras.layers import Conv2D, MaxPool2D\n",
    "from keras.optimizers import SGD, Adam\n",
    "\n",
    "# something userful\n",
    "from keras.utils import np_utils\n",
    "\n",
    "(x_train, y_train), (x_test, y_test) = mnist.load_data()"
   ]
  },
  {
   "cell_type": "code",
   "execution_count": 3,
   "metadata": {},
   "outputs": [
    {
     "data": {
      "text/plain": [
       "((array([[[0, 0, 0, ..., 0, 0, 0],\n",
       "          [0, 0, 0, ..., 0, 0, 0],\n",
       "          [0, 0, 0, ..., 0, 0, 0],\n",
       "          ...,\n",
       "          [0, 0, 0, ..., 0, 0, 0],\n",
       "          [0, 0, 0, ..., 0, 0, 0],\n",
       "          [0, 0, 0, ..., 0, 0, 0]],\n",
       "  \n",
       "         [[0, 0, 0, ..., 0, 0, 0],\n",
       "          [0, 0, 0, ..., 0, 0, 0],\n",
       "          [0, 0, 0, ..., 0, 0, 0],\n",
       "          ...,\n",
       "          [0, 0, 0, ..., 0, 0, 0],\n",
       "          [0, 0, 0, ..., 0, 0, 0],\n",
       "          [0, 0, 0, ..., 0, 0, 0]],\n",
       "  \n",
       "         [[0, 0, 0, ..., 0, 0, 0],\n",
       "          [0, 0, 0, ..., 0, 0, 0],\n",
       "          [0, 0, 0, ..., 0, 0, 0],\n",
       "          ...,\n",
       "          [0, 0, 0, ..., 0, 0, 0],\n",
       "          [0, 0, 0, ..., 0, 0, 0],\n",
       "          [0, 0, 0, ..., 0, 0, 0]],\n",
       "  \n",
       "         ...,\n",
       "  \n",
       "         [[0, 0, 0, ..., 0, 0, 0],\n",
       "          [0, 0, 0, ..., 0, 0, 0],\n",
       "          [0, 0, 0, ..., 0, 0, 0],\n",
       "          ...,\n",
       "          [0, 0, 0, ..., 0, 0, 0],\n",
       "          [0, 0, 0, ..., 0, 0, 0],\n",
       "          [0, 0, 0, ..., 0, 0, 0]],\n",
       "  \n",
       "         [[0, 0, 0, ..., 0, 0, 0],\n",
       "          [0, 0, 0, ..., 0, 0, 0],\n",
       "          [0, 0, 0, ..., 0, 0, 0],\n",
       "          ...,\n",
       "          [0, 0, 0, ..., 0, 0, 0],\n",
       "          [0, 0, 0, ..., 0, 0, 0],\n",
       "          [0, 0, 0, ..., 0, 0, 0]],\n",
       "  \n",
       "         [[0, 0, 0, ..., 0, 0, 0],\n",
       "          [0, 0, 0, ..., 0, 0, 0],\n",
       "          [0, 0, 0, ..., 0, 0, 0],\n",
       "          ...,\n",
       "          [0, 0, 0, ..., 0, 0, 0],\n",
       "          [0, 0, 0, ..., 0, 0, 0],\n",
       "          [0, 0, 0, ..., 0, 0, 0]]], dtype=uint8),\n",
       "  array([5, 0, 4, ..., 5, 6, 8], dtype=uint8)),\n",
       " (array([[[0, 0, 0, ..., 0, 0, 0],\n",
       "          [0, 0, 0, ..., 0, 0, 0],\n",
       "          [0, 0, 0, ..., 0, 0, 0],\n",
       "          ...,\n",
       "          [0, 0, 0, ..., 0, 0, 0],\n",
       "          [0, 0, 0, ..., 0, 0, 0],\n",
       "          [0, 0, 0, ..., 0, 0, 0]],\n",
       "  \n",
       "         [[0, 0, 0, ..., 0, 0, 0],\n",
       "          [0, 0, 0, ..., 0, 0, 0],\n",
       "          [0, 0, 0, ..., 0, 0, 0],\n",
       "          ...,\n",
       "          [0, 0, 0, ..., 0, 0, 0],\n",
       "          [0, 0, 0, ..., 0, 0, 0],\n",
       "          [0, 0, 0, ..., 0, 0, 0]],\n",
       "  \n",
       "         [[0, 0, 0, ..., 0, 0, 0],\n",
       "          [0, 0, 0, ..., 0, 0, 0],\n",
       "          [0, 0, 0, ..., 0, 0, 0],\n",
       "          ...,\n",
       "          [0, 0, 0, ..., 0, 0, 0],\n",
       "          [0, 0, 0, ..., 0, 0, 0],\n",
       "          [0, 0, 0, ..., 0, 0, 0]],\n",
       "  \n",
       "         ...,\n",
       "  \n",
       "         [[0, 0, 0, ..., 0, 0, 0],\n",
       "          [0, 0, 0, ..., 0, 0, 0],\n",
       "          [0, 0, 0, ..., 0, 0, 0],\n",
       "          ...,\n",
       "          [0, 0, 0, ..., 0, 0, 0],\n",
       "          [0, 0, 0, ..., 0, 0, 0],\n",
       "          [0, 0, 0, ..., 0, 0, 0]],\n",
       "  \n",
       "         [[0, 0, 0, ..., 0, 0, 0],\n",
       "          [0, 0, 0, ..., 0, 0, 0],\n",
       "          [0, 0, 0, ..., 0, 0, 0],\n",
       "          ...,\n",
       "          [0, 0, 0, ..., 0, 0, 0],\n",
       "          [0, 0, 0, ..., 0, 0, 0],\n",
       "          [0, 0, 0, ..., 0, 0, 0]],\n",
       "  \n",
       "         [[0, 0, 0, ..., 0, 0, 0],\n",
       "          [0, 0, 0, ..., 0, 0, 0],\n",
       "          [0, 0, 0, ..., 0, 0, 0],\n",
       "          ...,\n",
       "          [0, 0, 0, ..., 0, 0, 0],\n",
       "          [0, 0, 0, ..., 0, 0, 0],\n",
       "          [0, 0, 0, ..., 0, 0, 0]]], dtype=uint8),\n",
       "  array([7, 2, 1, ..., 4, 5, 6], dtype=uint8)))"
      ]
     },
     "execution_count": 3,
     "metadata": {},
     "output_type": "execute_result"
    }
   ],
   "source": [
    "keras.datasets.mnist.load_data()"
   ]
  },
  {
   "cell_type": "code",
   "execution_count": 4,
   "metadata": {},
   "outputs": [
    {
     "name": "stdout",
     "output_type": "stream",
     "text": [
      "Training data : 60000 , with size 28 x 28\n",
      "Testing  data : 10000 , with size 28 x 28\n"
     ]
    }
   ],
   "source": [
    "print(\"Training data : %d , with size %d x %d\" %x_train.shape)\n",
    "print(\"Testing  data : %d , with size %d x %d\" %x_test.shape)"
   ]
  },
  {
   "cell_type": "code",
   "execution_count": 5,
   "metadata": {},
   "outputs": [
    {
     "data": {
      "text/plain": [
       "60000"
      ]
     },
     "execution_count": 5,
     "metadata": {},
     "output_type": "execute_result"
    }
   ],
   "source": [
    "len(x_train)"
   ]
  },
  {
   "cell_type": "code",
   "execution_count": 6,
   "metadata": {
    "scrolled": true
   },
   "outputs": [
    {
     "data": {
      "text/plain": [
       "10000"
      ]
     },
     "execution_count": 6,
     "metadata": {},
     "output_type": "execute_result"
    }
   ],
   "source": [
    "len(x_test)"
   ]
  },
  {
   "cell_type": "markdown",
   "metadata": {},
   "source": [
    "# CNN 要的是 (28, 28, 1)"
   ]
  },
  {
   "cell_type": "code",
   "execution_count": 7,
   "metadata": {},
   "outputs": [],
   "source": [
    "x_train = x_train.reshape(60000, 28, 28, 1)"
   ]
  },
  {
   "cell_type": "code",
   "execution_count": 8,
   "metadata": {},
   "outputs": [],
   "source": [
    "x_test = x_test.reshape(10000, 28, 28, 1)"
   ]
  },
  {
   "cell_type": "code",
   "execution_count": 9,
   "metadata": {},
   "outputs": [
    {
     "data": {
      "text/plain": [
       "(60000, 28, 28, 1)"
      ]
     },
     "execution_count": 9,
     "metadata": {},
     "output_type": "execute_result"
    }
   ],
   "source": [
    "x_train.shape"
   ]
  },
  {
   "cell_type": "code",
   "execution_count": 10,
   "metadata": {},
   "outputs": [
    {
     "data": {
      "text/plain": [
       "(28, 28, 1)"
      ]
     },
     "execution_count": 10,
     "metadata": {},
     "output_type": "execute_result"
    }
   ],
   "source": [
    "x_train[1234].shape"
   ]
  },
  {
   "cell_type": "code",
   "execution_count": 11,
   "metadata": {},
   "outputs": [
    {
     "data": {
      "text/plain": [
       "(10000, 28, 28, 1)"
      ]
     },
     "execution_count": 11,
     "metadata": {},
     "output_type": "execute_result"
    }
   ],
   "source": [
    "x_test.shape"
   ]
  },
  {
   "cell_type": "code",
   "execution_count": 12,
   "metadata": {},
   "outputs": [],
   "source": [
    "X = x_train[1234]"
   ]
  },
  {
   "cell_type": "code",
   "execution_count": 13,
   "metadata": {},
   "outputs": [
    {
     "data": {
      "text/plain": [
       "<matplotlib.image.AxesImage at 0x25d297f7b38>"
      ]
     },
     "execution_count": 13,
     "metadata": {},
     "output_type": "execute_result"
    },
    {
     "data": {
      "image/png": "[encoded data removed]",
      "text/plain": [
       "<Figure size 432x288 with 1 Axes>"
      ]
     },
     "metadata": {},
     "output_type": "display_data"
    }
   ],
   "source": [
    "X = X.reshape(28, 28)\n",
    "plt.imshow(X)"
   ]
  },
  {
   "cell_type": "code",
   "execution_count": 14,
   "metadata": {},
   "outputs": [
    {
     "data": {
      "text/plain": [
       "<matplotlib.image.AxesImage at 0x25d240d03c8>"
      ]
     },
     "execution_count": 14,
     "metadata": {},
     "output_type": "execute_result"
    },
    {
     "data": {
      "image/png": "[encoded data removed]",
      "text/plain": [
       "<Figure size 432x288 with 1 Axes>"
      ]
     },
     "metadata": {},
     "output_type": "display_data"
    }
   ],
   "source": [
    "plt.imshow(X , cmap='Greys')"
   ]
  },
  {
   "cell_type": "markdown",
   "metadata": {},
   "source": [
    "將資料先進行正規化處理，資料線性單位化至[0,1]"
   ]
  },
  {
   "cell_type": "code",
   "execution_count": 15,
   "metadata": {},
   "outputs": [],
   "source": [
    "x_train_normalization = ( x_train - x_train.min() ) / ( x_train.max() - x_train.min() )#[NCTS]DavidChi\n",
    "x_test_normalization = ( x_test - x_test.min() ) / ( x_test.max() - x_test.min() )"
   ]
  },
  {
   "cell_type": "code",
   "execution_count": 16,
   "metadata": {},
   "outputs": [
    {
     "data": {
      "text/plain": [
       "(1.0, 0.0)"
      ]
     },
     "execution_count": 16,
     "metadata": {},
     "output_type": "execute_result"
    }
   ],
   "source": [
    "x_train_normalization.max(), x_train_normalization.min()"
   ]
  },
  {
   "cell_type": "code",
   "execution_count": 17,
   "metadata": {},
   "outputs": [
    {
     "data": {
      "text/plain": [
       "(1.0, 0.0)"
      ]
     },
     "execution_count": 17,
     "metadata": {},
     "output_type": "execute_result"
    }
   ],
   "source": [
    "x_test_normalization.max(), x_test_normalization.min()"
   ]
  },
  {
   "cell_type": "markdown",
   "metadata": {},
   "source": [
    "## 輸出格式處理，用 1-hot 方式處理。"
   ]
  },
  {
   "cell_type": "code",
   "execution_count": 18,
   "metadata": {},
   "outputs": [],
   "source": [
    "y_train = np_utils.to_categorical(y_train, 10)\n",
    "y_test = np_utils.to_categorical(y_test, 10)"
   ]
  },
  {
   "cell_type": "code",
   "execution_count": 19,
   "metadata": {},
   "outputs": [
    {
     "data": {
      "text/plain": [
       "array([0., 0., 0., 1., 0., 0., 0., 0., 0., 0.], dtype=float32)"
      ]
     },
     "execution_count": 19,
     "metadata": {},
     "output_type": "execute_result"
    }
   ],
   "source": [
    "y_train[1234]"
   ]
  },
  {
   "cell_type": "markdown",
   "metadata": {},
   "source": [
    "## 建構神經網路"
   ]
  },
  {
   "cell_type": "markdown",
   "metadata": {},
   "source": [
    "## 【Model 1】打開一個空白的神經網路。"
   ]
  },
  {
   "cell_type": "code",
   "execution_count": 20,
   "metadata": {},
   "outputs": [],
   "source": [
    "model_01 = Sequential()"
   ]
  },
  {
   "cell_type": "markdown",
   "metadata": {},
   "source": [
    "## 【Convolution】\n",
    "Conv2D(4,(5,5))\n",
    "Conv2D : Conv 矩陣\n",
    "Filter : 4 個\n",
    "Size : 5 X 5"
   ]
  },
  {
   "cell_type": "code",
   "execution_count": 21,
   "metadata": {},
   "outputs": [],
   "source": [
    "model_01.add(Conv2D(4,(5,5), padding='same',input_shape=(28, 28, 1)))\n",
    "model_01.add(Activation('relu'))"
   ]
  },
  {
   "cell_type": "markdown",
   "metadata": {},
   "source": [
    "## 【MAX-Pooling】"
   ]
  },
  {
   "cell_type": "code",
   "execution_count": 22,
   "metadata": {},
   "outputs": [],
   "source": [
    "model_01.add(MaxPool2D(pool_size=(2,2)))"
   ]
  },
  {
   "cell_type": "markdown",
   "metadata": {},
   "source": [
    "## 【Convolution】第二次"
   ]
  },
  {
   "cell_type": "code",
   "execution_count": 23,
   "metadata": {},
   "outputs": [],
   "source": [
    "model_01.add(Conv2D(8,(5,5), padding='same'))\n",
    "model_01.add(Activation('relu'))"
   ]
  },
  {
   "cell_type": "markdown",
   "metadata": {},
   "source": [
    "## 【MAX-Pooling】第二次"
   ]
  },
  {
   "cell_type": "code",
   "execution_count": 24,
   "metadata": {},
   "outputs": [],
   "source": [
    "model_01.add(MaxPool2D(pool_size=(2,2)))"
   ]
  },
  {
   "cell_type": "markdown",
   "metadata": {},
   "source": [
    "## 【Convolution】第三次"
   ]
  },
  {
   "cell_type": "code",
   "execution_count": 25,
   "metadata": {},
   "outputs": [],
   "source": [
    "model_01.add(Conv2D(16,(5,5), padding='same'))\n",
    "model_01.add(Activation('relu'))"
   ]
  },
  {
   "cell_type": "markdown",
   "metadata": {},
   "source": [
    "## 【MAX-Pooling】第三次"
   ]
  },
  {
   "cell_type": "code",
   "execution_count": 26,
   "metadata": {},
   "outputs": [],
   "source": [
    "model_01.add(MaxPool2D(pool_size=(2,2)))"
   ]
  },
  {
   "cell_type": "markdown",
   "metadata": {},
   "source": [
    "送進一般的神經網路，並拉平"
   ]
  },
  {
   "cell_type": "code",
   "execution_count": 27,
   "metadata": {},
   "outputs": [],
   "source": [
    "model_01.add(Flatten())\n",
    "model_01.add(Dense(9))\n",
    "model_01.add(Activation('relu'))"
   ]
  },
  {
   "cell_type": "code",
   "execution_count": 28,
   "metadata": {},
   "outputs": [],
   "source": [
    "model_01.add(Dense(10))\n",
    "model_01.add(Activation('softmax'))"
   ]
  },
  {
   "cell_type": "code",
   "execution_count": 29,
   "metadata": {},
   "outputs": [
    {
     "data": {
      "image/png": "[encoded data removed]",
      "text/plain": [
       "<IPython.core.display.Image object>"
      ]
     },
     "execution_count": 29,
     "metadata": {},
     "output_type": "execute_result"
    }
   ],
   "source": [
    "import os\n",
    "os.environ[\"PATH\"] += os.pathsep + 'C:/Program Files (x86)/Graphviz2.38/bin/'\n",
    "\n",
    "import pydot\n",
    "from keras.utils.vis_utils import plot_model\n",
    "plot_model(model_01, to_file='Q9-1_CNN_model_01.png')\n",
    "from IPython.display import Image\n",
    "Image(filename=\"Q9-1_CNN_model_01.png\")"
   ]
  },
  {
   "cell_type": "markdown",
   "metadata": {},
   "source": [
    "## 【Compile & Training】"
   ]
  },
  {
   "cell_type": "code",
   "execution_count": 30,
   "metadata": {},
   "outputs": [
    {
     "name": "stdout",
     "output_type": "stream",
     "text": [
      "Train on 60000 samples, validate on 10000 samples\n",
      "Epoch 1/20\n",
      "60000/60000 [==============================] - 29s 491us/step - loss: 0.0510 - acc: 0.9827 - val_loss: 0.0170 - val_acc: 0.9943\n",
      "Epoch 2/20\n",
      "60000/60000 [==============================] - 29s 482us/step - loss: 0.0189 - acc: 0.9938 - val_loss: 0.0163 - val_acc: 0.9949\n",
      "Epoch 3/20\n",
      "60000/60000 [==============================] - 35s 580us/step - loss: 0.0156 - acc: 0.9949 - val_loss: 0.0209 - val_acc: 0.9936\n",
      "Epoch 4/20\n",
      "60000/60000 [==============================] - 39s 656us/step - loss: 0.0146 - acc: 0.9953 - val_loss: 0.0133 - val_acc: 0.9959\n",
      "Epoch 5/20\n",
      "60000/60000 [==============================] - 44s 734us/step - loss: 0.0141 - acc: 0.9954 - val_loss: 0.0166 - val_acc: 0.9951\n",
      "Epoch 6/20\n",
      "60000/60000 [==============================] - 50s 833us/step - loss: 0.0125 - acc: 0.9960 - val_loss: 0.0131 - val_acc: 0.9961\n",
      "Epoch 7/20\n",
      "60000/60000 [==============================] - 55s 915us/step - loss: 0.0130 - acc: 0.9959 - val_loss: 0.0150 - val_acc: 0.9957\n",
      "Epoch 8/20\n",
      "60000/60000 [==============================] - 54s 893us/step - loss: 0.0126 - acc: 0.9960 - val_loss: 0.0111 - val_acc: 0.9966\n",
      "Epoch 9/20\n",
      "60000/60000 [==============================] - 51s 856us/step - loss: 0.0125 - acc: 0.9961 - val_loss: 0.0194 - val_acc: 0.9946\n",
      "Epoch 10/20\n",
      "60000/60000 [==============================] - 50s 826us/step - loss: 0.0127 - acc: 0.9960 - val_loss: 0.0137 - val_acc: 0.9963\n",
      "Epoch 11/20\n",
      "60000/60000 [==============================] - 50s 828us/step - loss: 0.0124 - acc: 0.9962 - val_loss: 0.0127 - val_acc: 0.9964\n",
      "Epoch 12/20\n",
      "60000/60000 [==============================] - 48s 807us/step - loss: 0.0116 - acc: 0.9963 - val_loss: 0.0137 - val_acc: 0.9964\n",
      "Epoch 13/20\n",
      "60000/60000 [==============================] - 48s 806us/step - loss: 0.0114 - acc: 0.9964 - val_loss: 0.0125 - val_acc: 0.9964\n",
      "Epoch 14/20\n",
      "60000/60000 [==============================] - 51s 848us/step - loss: 0.0112 - acc: 0.9965 - val_loss: 0.0128 - val_acc: 0.9960\n",
      "Epoch 15/20\n",
      "60000/60000 [==============================] - 51s 843us/step - loss: 0.0115 - acc: 0.9965 - val_loss: 0.0142 - val_acc: 0.9959\n",
      "Epoch 16/20\n",
      "60000/60000 [==============================] - 90s 2ms/step - loss: 0.0117 - acc: 0.9964 - val_loss: 0.0144 - val_acc: 0.9962\n",
      "Epoch 17/20\n",
      "60000/60000 [==============================] - 46s 769us/step - loss: 0.0104 - acc: 0.9969 - val_loss: 0.0146 - val_acc: 0.9962\n",
      "Epoch 18/20\n",
      "60000/60000 [==============================] - 56s 937us/step - loss: 0.0116 - acc: 0.9964 - val_loss: 0.0139 - val_acc: 0.9966\n",
      "Epoch 19/20\n",
      "60000/60000 [==============================] - 60s 1ms/step - loss: 0.0111 - acc: 0.9967 - val_loss: 0.0141 - val_acc: 0.9961\n",
      "Epoch 20/20\n",
      "60000/60000 [==============================] - 60s 999us/step - loss: 0.0109 - acc: 0.9967 - val_loss: 0.0107 - val_acc: 0.9971\n"
     ]
    }
   ],
   "source": [
    "model_01.compile(loss = 'binary_crossentropy', optimizer = Adam(lr = 0.01), metrics = ['acc'])\n",
    "model_01_result = model_01.fit(x_train_normalization, y_train, batch_size = 100, epochs = 20, verbose = 1, validation_data = (x_test_normalization, y_test))"
   ]
  },
  {
   "cell_type": "code",
   "execution_count": 31,
   "metadata": {},
   "outputs": [
    {
     "name": "stdout",
     "output_type": "stream",
     "text": [
      "_________________________________________________________________\n",
      "Layer (type)                 Output Shape              Param #   \n",
      "=================================================================\n",
      "conv2d_1 (Conv2D)            (None, 28, 28, 4)         104       \n",
      "_________________________________________________________________\n",
      "activation_1 (Activation)    (None, 28, 28, 4)         0         \n",
      "_________________________________________________________________\n",
      "max_pooling2d_1 (MaxPooling2 (None, 14, 14, 4)         0         \n",
      "_________________________________________________________________\n",
      "conv2d_2 (Conv2D)            (None, 14, 14, 8)         808       \n",
      "_________________________________________________________________\n",
      "activation_2 (Activation)    (None, 14, 14, 8)         0         \n",
      "_________________________________________________________________\n",
      "max_pooling2d_2 (MaxPooling2 (None, 7, 7, 8)           0         \n",
      "_________________________________________________________________\n",
      "conv2d_3 (Conv2D)            (None, 7, 7, 16)          3216      \n",
      "_________________________________________________________________\n",
      "activation_3 (Activation)    (None, 7, 7, 16)          0         \n",
      "_________________________________________________________________\n",
      "max_pooling2d_3 (MaxPooling2 (None, 3, 3, 16)          0         \n",
      "_________________________________________________________________\n",
      "flatten_1 (Flatten)          (None, 144)               0         \n",
      "_________________________________________________________________\n",
      "dense_1 (Dense)              (None, 9)                 1305      \n",
      "_________________________________________________________________\n",
      "activation_4 (Activation)    (None, 9)                 0         \n",
      "_________________________________________________________________\n",
      "dense_2 (Dense)              (None, 10)                100       \n",
      "_________________________________________________________________\n",
      "activation_5 (Activation)    (None, 10)                0         \n",
      "=================================================================\n",
      "Total params: 5,533\n",
      "Trainable params: 5,533\n",
      "Non-trainable params: 0\n",
      "_________________________________________________________________\n"
     ]
    }
   ],
   "source": [
    "model_01.summary()"
   ]
  },
  {
   "cell_type": "markdown",
   "metadata": {},
   "source": [
    "## 【Model 2】 kernel_size : 5 X 5 ---> 3 X 3"
   ]
  },
  {
   "cell_type": "code",
   "execution_count": 32,
   "metadata": {},
   "outputs": [
    {
     "data": {
      "image/png": "[encoded data removed]",
      "text/plain": [
       "<IPython.core.display.Image object>"
      ]
     },
     "execution_count": 32,
     "metadata": {},
     "output_type": "execute_result"
    }
   ],
   "source": [
    "model_02 = Sequential()\n",
    "#【Convolution】\n",
    "#Conv2D(4,(3,3)) Conv2D : Conv 矩陣 Filter : 4 個 Size : 3 X 3\n",
    "\n",
    "model_02.add(Conv2D(4,(3,3), padding='same',input_shape=(28, 28, 1)))\n",
    "model_02.add(Activation('relu'))\n",
    "\n",
    "#【MAX-Pooling】\n",
    "model_02.add(MaxPool2D(pool_size=(2,2)))\n",
    "#【Convolution】第二次\n",
    "model_02.add(Conv2D(8,(3,3), padding='same'))\n",
    "model_02.add(Activation('relu'))\n",
    "#【MAX-Pooling】第二次\n",
    "model_02.add(MaxPool2D(pool_size=(2,2)))\n",
    "#【Convolution】第三次\n",
    "model_02.add(Conv2D(16,(3,3), padding='same'))\n",
    "model_02.add(Activation('relu'))\n",
    "\n",
    "#【MAX-Pooling】第三次\n",
    "model_02.add(MaxPool2D(pool_size=(2,2)))\n",
    "\n",
    "#送進一般的神經網路，並拉平\n",
    "\n",
    "model_02.add(Flatten())\n",
    "model_02.add(Dense(9))\n",
    "model_02.add(Activation('relu'))\n",
    "model_02.add(Dense(10))\n",
    "model_02.add(Activation('softmax'))\n",
    "\n",
    "plot_model(model_02, to_file='Q9-1_CNN_model_02.png')\n",
    "Image(filename=\"Q9-1_CNN_model_02.png\")"
   ]
  },
  {
   "cell_type": "code",
   "execution_count": 33,
   "metadata": {},
   "outputs": [
    {
     "name": "stdout",
     "output_type": "stream",
     "text": [
      "Train on 60000 samples, validate on 10000 samples\n",
      "Epoch 1/20\n",
      "60000/60000 [==============================] - 21s 344us/step - loss: 0.0469 - acc: 0.9839 - val_loss: 0.0205 - val_acc: 0.9928\n",
      "Epoch 2/20\n",
      "60000/60000 [==============================] - 24s 404us/step - loss: 0.0188 - acc: 0.9936 - val_loss: 0.0160 - val_acc: 0.9946\n",
      "Epoch 3/20\n",
      "60000/60000 [==============================] - 26s 436us/step - loss: 0.0152 - acc: 0.9949 - val_loss: 0.0175 - val_acc: 0.9939\n",
      "Epoch 4/20\n",
      "60000/60000 [==============================] - 26s 438us/step - loss: 0.0138 - acc: 0.9953 - val_loss: 0.0102 - val_acc: 0.9966\n",
      "Epoch 5/20\n",
      "60000/60000 [==============================] - 26s 437us/step - loss: 0.0136 - acc: 0.9955 - val_loss: 0.0120 - val_acc: 0.9960\n",
      "Epoch 6/20\n",
      "60000/60000 [==============================] - 27s 450us/step - loss: 0.0124 - acc: 0.9958 - val_loss: 0.0140 - val_acc: 0.9951\n",
      "Epoch 7/20\n",
      "60000/60000 [==============================] - 27s 453us/step - loss: 0.0125 - acc: 0.9959 - val_loss: 0.0145 - val_acc: 0.9948\n",
      "Epoch 8/20\n",
      "60000/60000 [==============================] - 27s 444us/step - loss: 0.0119 - acc: 0.9960 - val_loss: 0.0130 - val_acc: 0.9959\n",
      "Epoch 9/20\n",
      "60000/60000 [==============================] - 29s 479us/step - loss: 0.0119 - acc: 0.9960 - val_loss: 0.0166 - val_acc: 0.9945- loss: 0.\n",
      "Epoch 10/20\n",
      "60000/60000 [==============================] - 28s 467us/step - loss: 0.0120 - acc: 0.9961 - val_loss: 0.0105 - val_acc: 0.9964\n",
      "Epoch 11/20\n",
      "60000/60000 [==============================] - 27s 451us/step - loss: 0.0114 - acc: 0.9963 - val_loss: 0.0122 - val_acc: 0.9961\n",
      "Epoch 12/20\n",
      "60000/60000 [==============================] - 26s 441us/step - loss: 0.0112 - acc: 0.9962 - val_loss: 0.0122 - val_acc: 0.9959\n",
      "Epoch 13/20\n",
      "60000/60000 [==============================] - 28s 464us/step - loss: 0.0117 - acc: 0.9961 - val_loss: 0.0122 - val_acc: 0.9958\n",
      "Epoch 14/20\n",
      "60000/60000 [==============================] - 29s 476us/step - loss: 0.0117 - acc: 0.9963 - val_loss: 0.0143 - val_acc: 0.9953\n",
      "Epoch 15/20\n",
      "60000/60000 [==============================] - 28s 472us/step - loss: 0.0110 - acc: 0.9964 - val_loss: 0.0145 - val_acc: 0.9954\n",
      "Epoch 16/20\n",
      "60000/60000 [==============================] - 28s 471us/step - loss: 0.0104 - acc: 0.9966 - val_loss: 0.0123 - val_acc: 0.9961\n",
      "Epoch 17/20\n",
      "60000/60000 [==============================] - 29s 486us/step - loss: 0.0109 - acc: 0.9965 - val_loss: 0.0132 - val_acc: 0.9956\n",
      "Epoch 18/20\n",
      "60000/60000 [==============================] - 28s 461us/step - loss: 0.0114 - acc: 0.9964 - val_loss: 0.0131 - val_acc: 0.9959\n",
      "Epoch 19/20\n",
      "60000/60000 [==============================] - 27s 454us/step - loss: 0.0105 - acc: 0.9965 - val_loss: 0.0101 - val_acc: 0.9966\n",
      "Epoch 20/20\n",
      "60000/60000 [==============================] - 29s 476us/step - loss: 0.0105 - acc: 0.9966 - val_loss: 0.0132 - val_acc: 0.9956\n"
     ]
    }
   ],
   "source": [
    "model_02.compile(loss = 'binary_crossentropy', optimizer = Adam(lr = 0.01), metrics = ['acc'])\n",
    "model_02_result = model_02.fit(x_train_normalization, y_train, batch_size = 100, epochs = 20, verbose = 1, validation_data = (x_test_normalization, y_test))"
   ]
  },
  {
   "cell_type": "code",
   "execution_count": 34,
   "metadata": {
    "scrolled": false
   },
   "outputs": [
    {
     "name": "stdout",
     "output_type": "stream",
     "text": [
      "_________________________________________________________________\n",
      "Layer (type)                 Output Shape              Param #   \n",
      "=================================================================\n",
      "conv2d_4 (Conv2D)            (None, 28, 28, 4)         40        \n",
      "_________________________________________________________________\n",
      "activation_6 (Activation)    (None, 28, 28, 4)         0         \n",
      "_________________________________________________________________\n",
      "max_pooling2d_4 (MaxPooling2 (None, 14, 14, 4)         0         \n",
      "_________________________________________________________________\n",
      "conv2d_5 (Conv2D)            (None, 14, 14, 8)         296       \n",
      "_________________________________________________________________\n",
      "activation_7 (Activation)    (None, 14, 14, 8)         0         \n",
      "_________________________________________________________________\n",
      "max_pooling2d_5 (MaxPooling2 (None, 7, 7, 8)           0         \n",
      "_________________________________________________________________\n",
      "conv2d_6 (Conv2D)            (None, 7, 7, 16)          1168      \n",
      "_________________________________________________________________\n",
      "activation_8 (Activation)    (None, 7, 7, 16)          0         \n",
      "_________________________________________________________________\n",
      "max_pooling2d_6 (MaxPooling2 (None, 3, 3, 16)          0         \n",
      "_________________________________________________________________\n",
      "flatten_2 (Flatten)          (None, 144)               0         \n",
      "_________________________________________________________________\n",
      "dense_3 (Dense)              (None, 9)                 1305      \n",
      "_________________________________________________________________\n",
      "activation_9 (Activation)    (None, 9)                 0         \n",
      "_________________________________________________________________\n",
      "dense_4 (Dense)              (None, 10)                100       \n",
      "_________________________________________________________________\n",
      "activation_10 (Activation)   (None, 10)                0         \n",
      "=================================================================\n",
      "Total params: 2,909\n",
      "Trainable params: 2,909\n",
      "Non-trainable params: 0\n",
      "_________________________________________________________________\n"
     ]
    }
   ],
   "source": [
    "model_02.summary()"
   ]
  },
  {
   "cell_type": "markdown",
   "metadata": {},
   "source": [
    "## 【Model 3】kernel_size : 5 X 5 ---> 3 X 3，filter : 4:8:16 ---> 2:4:8"
   ]
  },
  {
   "cell_type": "code",
   "execution_count": 35,
   "metadata": {},
   "outputs": [
    {
     "data": {
      "image/png": "[encoded data removed]",
      "text/plain": [
       "<IPython.core.display.Image object>"
      ]
     },
     "execution_count": 35,
     "metadata": {},
     "output_type": "execute_result"
    }
   ],
   "source": [
    "model_03 = Sequential()\n",
    "#【Convolution】\n",
    "#Conv2D(4,(3,3)) Conv2D : Conv 矩陣 Filter : 4 個 Size : 3 X 3\n",
    "\n",
    "model_03.add(Conv2D(2,(3,3), padding='same',input_shape=(28, 28, 1)))\n",
    "model_03.add(Activation('relu'))\n",
    "\n",
    "#【MAX-Pooling】\n",
    "model_03.add(MaxPool2D(pool_size=(2,2)))\n",
    "#【Convolution】第二次\n",
    "model_03.add(Conv2D(4,(3,3), padding='same'))\n",
    "model_03.add(Activation('relu'))\n",
    "#【MAX-Pooling】第二次\n",
    "model_03.add(MaxPool2D(pool_size=(2,2)))\n",
    "#【Convolution】第三次\n",
    "model_03.add(Conv2D(8,(3,3), padding='same'))\n",
    "model_03.add(Activation('relu'))\n",
    "\n",
    "#【MAX-Pooling】第三次\n",
    "model_03.add(MaxPool2D(pool_size=(2,2)))\n",
    "\n",
    "#送進一般的神經網路，並拉平\n",
    "\n",
    "model_03.add(Flatten())\n",
    "model_03.add(Dense(9))\n",
    "model_03.add(Activation('relu'))\n",
    "model_03.add(Dense(10))\n",
    "model_03.add(Activation('softmax'))\n",
    "\n",
    "plot_model(model_03, to_file='Q9-1_CNN_model_03.png')\n",
    "Image(filename=\"Q9-1_CNN_model_03.png\")"
   ]
  },
  {
   "cell_type": "code",
   "execution_count": 36,
   "metadata": {},
   "outputs": [
    {
     "name": "stdout",
     "output_type": "stream",
     "text": [
      "Train on 60000 samples, validate on 10000 samples\n",
      "Epoch 1/20\n",
      "60000/60000 [==============================] - 21s 347us/step - loss: 0.0710 - acc: 0.9747 - val_loss: 0.0332 - val_acc: 0.9886\n",
      "Epoch 2/20\n",
      "60000/60000 [==============================] - 20s 326us/step - loss: 0.0323 - acc: 0.9887 - val_loss: 0.0249 - val_acc: 0.9914\n",
      "Epoch 3/20\n",
      "60000/60000 [==============================] - 14s 231us/step - loss: 0.0280 - acc: 0.9904 - val_loss: 0.0250 - val_acc: 0.9915\n",
      "Epoch 4/20\n",
      "60000/60000 [==============================] - 14s 234us/step - loss: 0.0259 - acc: 0.9910 - val_loss: 0.0269 - val_acc: 0.9906\n",
      "Epoch 5/20\n",
      "60000/60000 [==============================] - 16s 260us/step - loss: 0.0245 - acc: 0.9917 - val_loss: 0.0213 - val_acc: 0.9928\n",
      "Epoch 6/20\n",
      "60000/60000 [==============================] - 14s 241us/step - loss: 0.0241 - acc: 0.9917 - val_loss: 0.0188 - val_acc: 0.9938\n",
      "Epoch 7/20\n",
      "60000/60000 [==============================] - 16s 259us/step - loss: 0.0239 - acc: 0.9916 - val_loss: 0.0195 - val_acc: 0.9927\n",
      "Epoch 8/20\n",
      "60000/60000 [==============================] - 18s 294us/step - loss: 0.0234 - acc: 0.9919 - val_loss: 0.0187 - val_acc: 0.9935\n",
      "Epoch 9/20\n",
      "60000/60000 [==============================] - 19s 313us/step - loss: 0.0225 - acc: 0.9923 - val_loss: 0.0193 - val_acc: 0.9932\n",
      "Epoch 10/20\n",
      "60000/60000 [==============================] - 21s 356us/step - loss: 0.0219 - acc: 0.9925 - val_loss: 0.0199 - val_acc: 0.9932\n",
      "Epoch 11/20\n",
      "60000/60000 [==============================] - 24s 396us/step - loss: 0.0217 - acc: 0.9927 - val_loss: 0.0190 - val_acc: 0.9932\n",
      "Epoch 12/20\n",
      "60000/60000 [==============================] - 27s 452us/step - loss: 0.0217 - acc: 0.9925 - val_loss: 0.0192 - val_acc: 0.9935\n",
      "Epoch 13/20\n",
      "60000/60000 [==============================] - 34s 565us/step - loss: 0.0211 - acc: 0.9928 - val_loss: 0.0173 - val_acc: 0.9940\n",
      "Epoch 14/20\n",
      "60000/60000 [==============================] - 58s 960us/step - loss: 0.0216 - acc: 0.9926 - val_loss: 0.0199 - val_acc: 0.9931\n",
      "Epoch 15/20\n",
      "60000/60000 [==============================] - 65s 1ms/step - loss: 0.0216 - acc: 0.9926 - val_loss: 0.0227 - val_acc: 0.9920\n",
      "Epoch 16/20\n",
      "60000/60000 [==============================] - 55s 924us/step - loss: 0.0211 - acc: 0.9929 - val_loss: 0.0185 - val_acc: 0.9937\n",
      "Epoch 17/20\n",
      "60000/60000 [==============================] - 50s 840us/step - loss: 0.0207 - acc: 0.9931 - val_loss: 0.0197 - val_acc: 0.9931\n",
      "Epoch 18/20\n",
      "60000/60000 [==============================] - 42s 701us/step - loss: 0.0204 - acc: 0.9931 - val_loss: 0.0192 - val_acc: 0.9934\n",
      "Epoch 19/20\n",
      "60000/60000 [==============================] - 32s 527us/step - loss: 0.0211 - acc: 0.9927 - val_loss: 0.0214 - val_acc: 0.9924\n",
      "Epoch 20/20\n",
      "60000/60000 [==============================] - 28s 459us/step - loss: 0.0202 - acc: 0.9931 - val_loss: 0.0235 - val_acc: 0.9924\n"
     ]
    }
   ],
   "source": [
    "model_03.compile(loss = 'binary_crossentropy', optimizer = Adam(lr = 0.01), metrics = ['acc'])\n",
    "model_03_result = model_03.fit(x_train_normalization, y_train, batch_size = 100, epochs = 20, verbose = 1, validation_data = (x_test_normalization, y_test))"
   ]
  },
  {
   "cell_type": "code",
   "execution_count": 42,
   "metadata": {},
   "outputs": [
    {
     "name": "stdout",
     "output_type": "stream",
     "text": [
      "_________________________________________________________________\n",
      "Layer (type)                 Output Shape              Param #   \n",
      "=================================================================\n",
      "conv2d_7 (Conv2D)            (None, 28, 28, 2)         20        \n",
      "_________________________________________________________________\n",
      "activation_11 (Activation)   (None, 28, 28, 2)         0         \n",
      "_________________________________________________________________\n",
      "max_pooling2d_7 (MaxPooling2 (None, 14, 14, 2)         0         \n",
      "_________________________________________________________________\n",
      "conv2d_8 (Conv2D)            (None, 14, 14, 4)         76        \n",
      "_________________________________________________________________\n",
      "activation_12 (Activation)   (None, 14, 14, 4)         0         \n",
      "_________________________________________________________________\n",
      "max_pooling2d_8 (MaxPooling2 (None, 7, 7, 4)           0         \n",
      "_________________________________________________________________\n",
      "conv2d_9 (Conv2D)            (None, 7, 7, 8)           296       \n",
      "_________________________________________________________________\n",
      "activation_13 (Activation)   (None, 7, 7, 8)           0         \n",
      "_________________________________________________________________\n",
      "max_pooling2d_9 (MaxPooling2 (None, 3, 3, 8)           0         \n",
      "_________________________________________________________________\n",
      "flatten_3 (Flatten)          (None, 72)                0         \n",
      "_________________________________________________________________\n",
      "dense_5 (Dense)              (None, 9)                 657       \n",
      "_________________________________________________________________\n",
      "activation_14 (Activation)   (None, 9)                 0         \n",
      "_________________________________________________________________\n",
      "dense_6 (Dense)              (None, 10)                100       \n",
      "_________________________________________________________________\n",
      "activation_15 (Activation)   (None, 10)                0         \n",
      "=================================================================\n",
      "Total params: 1,149\n",
      "Trainable params: 1,149\n",
      "Non-trainable params: 0\n",
      "_________________________________________________________________\n"
     ]
    }
   ],
   "source": [
    "model_03.summary()"
   ]
  },
  {
   "cell_type": "code",
   "execution_count": 43,
   "metadata": {},
   "outputs": [
    {
     "name": "stdout",
     "output_type": "stream",
     "text": [
      "10000/10000 [==============================] - 2s 230us/step\n",
      "model_01 loss 0.010743498829554301\n",
      "model_01 正確率 99.70999956130981 %\n",
      "10000/10000 [==============================] - 1s 140us/step\n",
      "model_02 loss 0.013202754397422542\n",
      "model_02 正確率 99.55799976348877 %\n",
      "10000/10000 [==============================] - 2s 176us/step\n",
      "model_03 loss 0.02350081151998602\n",
      "model_03 正確率 99.24099981307984 %\n"
     ]
    }
   ],
   "source": [
    "predict_01 = np.argmax(model_01.predict(x_test_normalization), axis = 1)\n",
    "score_01 = model_01.evaluate(x_test_normalization, y_test)\n",
    "print('model_01 loss',score_01[0])\n",
    "print('model_01 正確率',score_01[1] * 100 ,'%')\n",
    "\n",
    "predict_02 = np.argmax(model_02.predict(x_test_normalization), axis = 1)\n",
    "score_02 = model_02.evaluate(x_test_normalization, y_test)\n",
    "print('model_02 loss',score_02[0])\n",
    "print('model_02 正確率',score_02[1] * 100 ,'%')\n",
    "\n",
    "predict_03 = np.argmax(model_03.predict(x_test_normalization), axis = 1)\n",
    "score_03 = model_03.evaluate(x_test_normalization, y_test)\n",
    "print('model_03 loss',score_03[0])\n",
    "print('model_03 正確率',score_03[1] * 100 ,'%')"
   ]
  },
  {
   "cell_type": "code",
   "execution_count": 52,
   "metadata": {},
   "outputs": [],
   "source": [
    "predict_01 = model_01.predict_classes(x_test_normalization)\n",
    "predict_02 = model_02.predict_classes(x_test_normalization)\n",
    "predict_03 = model_03.predict_classes(x_test_normalization)\n",
    "\n",
    "def test(測試編號):\n",
    "    plt.imshow(x_test[測試編號].reshape(28,28), cmap = 'Greys')\n",
    "    print('model_01 神經網路判斷為:',predict_01[測試編號])\n",
    "    print('model_02 神經網路判斷為:',predict_02[測試編號])\n",
    "    print('model_03 神經網路判斷為:',predict_03[測試編號])"
   ]
  },
  {
   "cell_type": "code",
   "execution_count": 57,
   "metadata": {},
   "outputs": [
    {
     "name": "stdout",
     "output_type": "stream",
     "text": [
      "model_01 神經網路判斷為: 1\n",
      "model_02 神經網路判斷為: 1\n",
      "model_03 神經網路判斷為: 1\n"
     ]
    },
    {
     "data": {
      "image/png": "[encoded data removed]",
      "text/plain": [
       "<Figure size 432x288 with 1 Axes>"
      ]
     },
     "metadata": {},
     "output_type": "display_data"
    }
   ],
   "source": [
    "test(107) #107"
   ]
  },
  {
   "cell_type": "code",
   "execution_count": 58,
   "metadata": {},
   "outputs": [
    {
     "name": "stdout",
     "output_type": "stream",
     "text": [
      "model_01 神經網路判斷為: 0\n",
      "model_02 神經網路判斷為: 0\n",
      "model_03 神經網路判斷為: 0\n"
     ]
    },
    {
     "data": {
      "image/png": "[encoded data removed]",
      "text/plain": [
       "<Figure size 432x288 with 1 Axes>"
      ]
     },
     "metadata": {},
     "output_type": "display_data"
    }
   ],
   "source": [
    "test(269) #269"
   ]
  },
  {
   "cell_type": "code",
   "execution_count": 59,
   "metadata": {},
   "outputs": [
    {
     "name": "stdout",
     "output_type": "stream",
     "text": [
      "model_01 神經網路判斷為: 1\n",
      "model_02 神經網路判斷為: 1\n",
      "model_03 神經網路判斷為: 1\n"
     ]
    },
    {
     "data": {
      "image/png": "[encoded data removed]",
      "text/plain": [
       "<Figure size 432x288 with 1 Axes>"
      ]
     },
     "metadata": {},
     "output_type": "display_data"
    }
   ],
   "source": [
    "test(14) #14"
   ]
  },
  {
   "cell_type": "code",
   "execution_count": 54,
   "metadata": {},
   "outputs": [
    {
     "data": {
      "application/vnd.jupyter.widget-view+json": {
       "model_id": "54ad0f7a4ac5475ba6bac0f175f4bb60",
       "version_major": 2,
       "version_minor": 0
      },
      "text/plain": [
       "interactive(children=(IntSlider(value=4999, description='測試編號', max=9999), Button(description='Run Interact', …"
      ]
     },
     "metadata": {},
     "output_type": "display_data"
    },
    {
     "data": {
      "text/plain": [
       "<function __main__.test(測試編號)>"
      ]
     },
     "execution_count": 54,
     "metadata": {},
     "output_type": "execute_result"
    }
   ],
   "source": [
    "interact_manual(test,測試編號 = (0,9999))"
   ]
  },
  {
   "cell_type": "code",
   "execution_count": 60,
   "metadata": {},
   "outputs": [
    {
     "data": {
      "application/vnd.jupyter.widget-view+json": {
       "model_id": "058bbabef52740cc955f5cd0c9280b36",
       "version_major": 2,
       "version_minor": 0
      },
      "text/plain": [
       "interactive(children=(IntSlider(value=4999, description='測試編號', max=9999), Button(description='Run Interact', …"
      ]
     },
     "metadata": {},
     "output_type": "display_data"
    },
    {
     "data": {
      "text/plain": [
       "<function __main__.test(測試編號)>"
      ]
     },
     "execution_count": 60,
     "metadata": {},
     "output_type": "execute_result"
    }
   ],
   "source": [
    "interact_manual(test,測試編號 = (0,9999))"
   ]
  },
  {
   "cell_type": "code",
   "execution_count": 61,
   "metadata": {},
   "outputs": [
    {
     "data": {
      "image/png": "[encoded data removed]",
      "text/plain": [
       "<Figure size 432x288 with 1 Axes>"
      ]
     },
     "metadata": {},
     "output_type": "display_data"
    }
   ],
   "source": [
    "plt.plot(model_01_result.history['acc'])\n",
    "plt.plot(model_02_result.history['acc'])\n",
    "plt.plot(model_03_result.history['acc'])\n",
    "\n",
    "plt.title('model training accuracy')\n",
    "plt.ylabel('accuracy')\n",
    "plt.xlabel('epoch')\n",
    "plt.legend(['model_01','model_02','model_03'],loc = 'best')\n",
    "plt.show()"
   ]
  },
  {
   "cell_type": "code",
   "execution_count": 62,
   "metadata": {},
   "outputs": [],
   "source": [
    "model_json = model_01.to_json()\n",
    "open('[NCTS]_Homework_Q9-1_Convolutional_Neural_Network_Model_01_DavidChi.json', 'w').write(model_json)\n",
    "model_01.save_weights('[NCTS]_Homework_Q9-1_Convolutional_Neural_Network_Model_01_DavidChi.h5')\n",
    "\n",
    "model_json = model_02.to_json()\n",
    "open('[NCTS]_Homework_Q9-1_Convolutional_Neural_Network_Model_02_DavidChi.json', 'w').write(model_json)\n",
    "model_02.save_weights('[NCTS]_Homework_Q9-1_Convolutional_Neural_Network_Model_02_DavidChi.h5')\n",
    "\n",
    "model_json = model_03.to_json()\n",
    "open('[NCTS]_Homework_Q9-1_Convolutional_Neural_Network_Model_03_DavidChi.json', 'w').write(model_json)\n",
    "model_03.save_weights('[NCTS]_Homework_Q9-1_Convolutional_Neural_Network_Model_03_DavidChi.h5')"
   ]
  }
 ],
 "metadata": {
  "kernelspec": {
   "display_name": "Python 3",
   "language": "python",
   "name": "python3"
  },
  "language_info": {
   "codemirror_mode": {
    "name": "ipython",
    "version": 3
   },
   "file_extension": ".py",
   "mimetype": "text/x-python",
   "name": "python",
   "nbconvert_exporter": "python",
   "pygments_lexer": "ipython3",
   "version": "3.6.5"
  }
 },
 "nbformat": 4,
 "nbformat_minor": 2
}
