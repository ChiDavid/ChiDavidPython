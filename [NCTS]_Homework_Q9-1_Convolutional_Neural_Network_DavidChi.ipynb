{
 "cells": [
  {
   "cell_type": "markdown",
   "metadata": {},
   "source": [
    "## 用CNN圖形辨識"
   ]
  },
  {
   "cell_type": "code",
   "execution_count": 1,
   "metadata": {},
   "outputs": [
    {
     "name": "stdout",
     "output_type": "stream",
     "text": [
      "env: KERAS_BACKEND=tensorflow\n"
     ]
    },
    {
     "name": "stderr",
     "output_type": "stream",
     "text": [
      "Using TensorFlow backend.\n"
     ]
    }
   ],
   "source": [
    "%matplotlib inline\n",
    "%env KERAS_BACKEND = tensorflow\n",
    "\n",
    "import time\n",
    "import locale\n",
    "import random\n",
    "import keras\n",
    "import numpy as np\n",
    "import pandas as pd\n",
    "import matplotlib as mpl\n",
    "import matplotlib.pyplot as plt\n",
    "\n",
    "from ipywidgets import interact\n",
    "from ipywidgets import interact_manual\n",
    "from sklearn.linear_model import LinearRegression\n",
    "from matplotlib.font_manager import FontProperties\n",
    "from sklearn.model_selection import train_test_split\n",
    "\n",
    "myfont = FontProperties(fname = r'c:\\windows\\fonts\\simsun.ttc', size = 14)"
   ]
  },
  {
   "cell_type": "code",
   "execution_count": 2,
   "metadata": {},
   "outputs": [],
   "source": [
    "# 由 Keras 讀入 MNIST\n",
    "from keras.datasets import mnist\n",
    "\n",
    "#CNN\n",
    "from keras.models import Sequential, Model\n",
    "from keras.layers import Dense, Activation, Flatten\n",
    "from keras.layers import Conv2D, MaxPool2D\n",
    "from keras.optimizers import SGD, Adam\n",
    "\n",
    "# something userful\n",
    "from keras.utils import np_utils\n",
    "\n",
    "(x_train, y_train), (x_test, y_test) = mnist.load_data()"
   ]
  },
  {
   "cell_type": "code",
   "execution_count": 3,
   "metadata": {},
   "outputs": [
    {
     "data": {
      "text/plain": [
       "((array([[[0, 0, 0, ..., 0, 0, 0],\n",
       "          [0, 0, 0, ..., 0, 0, 0],\n",
       "          [0, 0, 0, ..., 0, 0, 0],\n",
       "          ...,\n",
       "          [0, 0, 0, ..., 0, 0, 0],\n",
       "          [0, 0, 0, ..., 0, 0, 0],\n",
       "          [0, 0, 0, ..., 0, 0, 0]],\n",
       "  \n",
       "         [[0, 0, 0, ..., 0, 0, 0],\n",
       "          [0, 0, 0, ..., 0, 0, 0],\n",
       "          [0, 0, 0, ..., 0, 0, 0],\n",
       "          ...,\n",
       "          [0, 0, 0, ..., 0, 0, 0],\n",
       "          [0, 0, 0, ..., 0, 0, 0],\n",
       "          [0, 0, 0, ..., 0, 0, 0]],\n",
       "  \n",
       "         [[0, 0, 0, ..., 0, 0, 0],\n",
       "          [0, 0, 0, ..., 0, 0, 0],\n",
       "          [0, 0, 0, ..., 0, 0, 0],\n",
       "          ...,\n",
       "          [0, 0, 0, ..., 0, 0, 0],\n",
       "          [0, 0, 0, ..., 0, 0, 0],\n",
       "          [0, 0, 0, ..., 0, 0, 0]],\n",
       "  \n",
       "         ...,\n",
       "  \n",
       "         [[0, 0, 0, ..., 0, 0, 0],\n",
       "          [0, 0, 0, ..., 0, 0, 0],\n",
       "          [0, 0, 0, ..., 0, 0, 0],\n",
       "          ...,\n",
       "          [0, 0, 0, ..., 0, 0, 0],\n",
       "          [0, 0, 0, ..., 0, 0, 0],\n",
       "          [0, 0, 0, ..., 0, 0, 0]],\n",
       "  \n",
       "         [[0, 0, 0, ..., 0, 0, 0],\n",
       "          [0, 0, 0, ..., 0, 0, 0],\n",
       "          [0, 0, 0, ..., 0, 0, 0],\n",
       "          ...,\n",
       "          [0, 0, 0, ..., 0, 0, 0],\n",
       "          [0, 0, 0, ..., 0, 0, 0],\n",
       "          [0, 0, 0, ..., 0, 0, 0]],\n",
       "  \n",
       "         [[0, 0, 0, ..., 0, 0, 0],\n",
       "          [0, 0, 0, ..., 0, 0, 0],\n",
       "          [0, 0, 0, ..., 0, 0, 0],\n",
       "          ...,\n",
       "          [0, 0, 0, ..., 0, 0, 0],\n",
       "          [0, 0, 0, ..., 0, 0, 0],\n",
       "          [0, 0, 0, ..., 0, 0, 0]]], dtype=uint8),\n",
       "  array([5, 0, 4, ..., 5, 6, 8], dtype=uint8)),\n",
       " (array([[[0, 0, 0, ..., 0, 0, 0],\n",
       "          [0, 0, 0, ..., 0, 0, 0],\n",
       "          [0, 0, 0, ..., 0, 0, 0],\n",
       "          ...,\n",
       "          [0, 0, 0, ..., 0, 0, 0],\n",
       "          [0, 0, 0, ..., 0, 0, 0],\n",
       "          [0, 0, 0, ..., 0, 0, 0]],\n",
       "  \n",
       "         [[0, 0, 0, ..., 0, 0, 0],\n",
       "          [0, 0, 0, ..., 0, 0, 0],\n",
       "          [0, 0, 0, ..., 0, 0, 0],\n",
       "          ...,\n",
       "          [0, 0, 0, ..., 0, 0, 0],\n",
       "          [0, 0, 0, ..., 0, 0, 0],\n",
       "          [0, 0, 0, ..., 0, 0, 0]],\n",
       "  \n",
       "         [[0, 0, 0, ..., 0, 0, 0],\n",
       "          [0, 0, 0, ..., 0, 0, 0],\n",
       "          [0, 0, 0, ..., 0, 0, 0],\n",
       "          ...,\n",
       "          [0, 0, 0, ..., 0, 0, 0],\n",
       "          [0, 0, 0, ..., 0, 0, 0],\n",
       "          [0, 0, 0, ..., 0, 0, 0]],\n",
       "  \n",
       "         ...,\n",
       "  \n",
       "         [[0, 0, 0, ..., 0, 0, 0],\n",
       "          [0, 0, 0, ..., 0, 0, 0],\n",
       "          [0, 0, 0, ..., 0, 0, 0],\n",
       "          ...,\n",
       "          [0, 0, 0, ..., 0, 0, 0],\n",
       "          [0, 0, 0, ..., 0, 0, 0],\n",
       "          [0, 0, 0, ..., 0, 0, 0]],\n",
       "  \n",
       "         [[0, 0, 0, ..., 0, 0, 0],\n",
       "          [0, 0, 0, ..., 0, 0, 0],\n",
       "          [0, 0, 0, ..., 0, 0, 0],\n",
       "          ...,\n",
       "          [0, 0, 0, ..., 0, 0, 0],\n",
       "          [0, 0, 0, ..., 0, 0, 0],\n",
       "          [0, 0, 0, ..., 0, 0, 0]],\n",
       "  \n",
       "         [[0, 0, 0, ..., 0, 0, 0],\n",
       "          [0, 0, 0, ..., 0, 0, 0],\n",
       "          [0, 0, 0, ..., 0, 0, 0],\n",
       "          ...,\n",
       "          [0, 0, 0, ..., 0, 0, 0],\n",
       "          [0, 0, 0, ..., 0, 0, 0],\n",
       "          [0, 0, 0, ..., 0, 0, 0]]], dtype=uint8),\n",
       "  array([7, 2, 1, ..., 4, 5, 6], dtype=uint8)))"
      ]
     },
     "execution_count": 3,
     "metadata": {},
     "output_type": "execute_result"
    }
   ],
   "source": [
    "keras.datasets.mnist.load_data()"
   ]
  },
  {
   "cell_type": "code",
   "execution_count": 4,
   "metadata": {},
   "outputs": [
    {
     "name": "stdout",
     "output_type": "stream",
     "text": [
      "Training data : 60000 , with size 28 x 28\n",
      "Testing  data : 10000 , with size 28 x 28\n"
     ]
    }
   ],
   "source": [
    "print(\"Training data : %d , with size %d x %d\" %x_train.shape)\n",
    "print(\"Testing  data : %d , with size %d x %d\" %x_test.shape)"
   ]
  },
  {
   "cell_type": "code",
   "execution_count": 5,
   "metadata": {},
   "outputs": [
    {
     "data": {
      "text/plain": [
       "60000"
      ]
     },
     "execution_count": 5,
     "metadata": {},
     "output_type": "execute_result"
    }
   ],
   "source": [
    "len(x_train)"
   ]
  },
  {
   "cell_type": "code",
   "execution_count": 6,
   "metadata": {
    "scrolled": true
   },
   "outputs": [
    {
     "data": {
      "text/plain": [
       "10000"
      ]
     },
     "execution_count": 6,
     "metadata": {},
     "output_type": "execute_result"
    }
   ],
   "source": [
    "len(x_test)"
   ]
  },
  {
   "cell_type": "markdown",
   "metadata": {},
   "source": [
    "# CNN 要的是 (28, 28, 1)"
   ]
  },
  {
   "cell_type": "code",
   "execution_count": 7,
   "metadata": {},
   "outputs": [],
   "source": [
    "x_train = x_train.reshape(60000, 28, 28, 1)"
   ]
  },
  {
   "cell_type": "code",
   "execution_count": 8,
   "metadata": {},
   "outputs": [],
   "source": [
    "x_test = x_test.reshape(10000, 28, 28, 1)"
   ]
  },
  {
   "cell_type": "code",
   "execution_count": 9,
   "metadata": {},
   "outputs": [
    {
     "data": {
      "text/plain": [
       "(60000, 28, 28, 1)"
      ]
     },
     "execution_count": 9,
     "metadata": {},
     "output_type": "execute_result"
    }
   ],
   "source": [
    "x_train.shape"
   ]
  },
  {
   "cell_type": "code",
   "execution_count": 18,
   "metadata": {},
   "outputs": [
    {
     "data": {
      "text/plain": [
       "(28, 28, 1)"
      ]
     },
     "execution_count": 18,
     "metadata": {},
     "output_type": "execute_result"
    }
   ],
   "source": [
    "x_train[1234].shape"
   ]
  },
  {
   "cell_type": "code",
   "execution_count": 19,
   "metadata": {},
   "outputs": [
    {
     "data": {
      "text/plain": [
       "(10000, 28, 28, 1)"
      ]
     },
     "execution_count": 19,
     "metadata": {},
     "output_type": "execute_result"
    }
   ],
   "source": [
    "x_test.shape"
   ]
  },
  {
   "cell_type": "code",
   "execution_count": 20,
   "metadata": {},
   "outputs": [],
   "source": [
    "X = x_train[1234]"
   ]
  },
  {
   "cell_type": "code",
   "execution_count": 22,
   "metadata": {},
   "outputs": [
    {
     "data": {
      "text/plain": [
       "<matplotlib.image.AxesImage at 0x1b7ca201438>"
      ]
     },
     "execution_count": 22,
     "metadata": {},
     "output_type": "execute_result"
    },
    {
     "data": {
      "image/png": "[encoded data removed]",
      "text/plain": [
       "<Figure size 432x288 with 1 Axes>"
      ]
     },
     "metadata": {},
     "output_type": "display_data"
    }
   ],
   "source": [
    "X = X.reshape(28, 28)\n",
    "plt.imshow(X)"
   ]
  },
  {
   "cell_type": "code",
   "execution_count": 23,
   "metadata": {},
   "outputs": [
    {
     "data": {
      "text/plain": [
       "<matplotlib.image.AxesImage at 0x1b7ca495860>"
      ]
     },
     "execution_count": 23,
     "metadata": {},
     "output_type": "execute_result"
    },
    {
     "data": {
      "image/png": "[encoded data removed]",
      "text/plain": [
       "<Figure size 432x288 with 1 Axes>"
      ]
     },
     "metadata": {},
     "output_type": "display_data"
    }
   ],
   "source": [
    "plt.imshow(X , cmap='Greys')"
   ]
  },
  {
   "cell_type": "markdown",
   "metadata": {},
   "source": [
    "將資料先進行正規化處理，資料線性單位化至[0,1]"
   ]
  },
  {
   "cell_type": "code",
   "execution_count": 11,
   "metadata": {},
   "outputs": [],
   "source": [
    "x_train_normalization = ( x_train - x_train.min() ) / ( x_train.max() - x_train.min() )#[NCTS]DavidChi\n",
    "x_test_normalization = ( x_test - x_test.min() ) / ( x_test.max() - x_test.min() )"
   ]
  },
  {
   "cell_type": "code",
   "execution_count": 12,
   "metadata": {},
   "outputs": [
    {
     "data": {
      "text/plain": [
       "(1.0, 0.0)"
      ]
     },
     "execution_count": 12,
     "metadata": {},
     "output_type": "execute_result"
    }
   ],
   "source": [
    "x_train_normalization.max(), x_train_normalization.min()"
   ]
  },
  {
   "cell_type": "code",
   "execution_count": 13,
   "metadata": {},
   "outputs": [
    {
     "data": {
      "text/plain": [
       "(1.0, 0.0)"
      ]
     },
     "execution_count": 13,
     "metadata": {},
     "output_type": "execute_result"
    }
   ],
   "source": [
    "x_test_normalization.max(), x_test_normalization.min()"
   ]
  },
  {
   "cell_type": "markdown",
   "metadata": {},
   "source": [
    "## 輸出格式處理，用 1-hot 方式處理。"
   ]
  },
  {
   "cell_type": "code",
   "execution_count": 14,
   "metadata": {},
   "outputs": [],
   "source": [
    "y_train = np_utils.to_categorical(y_train, 10)\n",
    "y_test = np_utils.to_categorical(y_test, 10)"
   ]
  },
  {
   "cell_type": "code",
   "execution_count": 25,
   "metadata": {},
   "outputs": [
    {
     "data": {
      "text/plain": [
       "array([0., 0., 0., 1., 0., 0., 0., 0., 0., 0.], dtype=float32)"
      ]
     },
     "execution_count": 25,
     "metadata": {},
     "output_type": "execute_result"
    }
   ],
   "source": [
    "y_train[1234]"
   ]
  },
  {
   "cell_type": "markdown",
   "metadata": {},
   "source": [
    "## 建構神經網路"
   ]
  },
  {
   "cell_type": "markdown",
   "metadata": {},
   "source": [
    "打開一個空白的神經網路。"
   ]
  },
  {
   "cell_type": "code",
   "execution_count": 5,
   "metadata": {},
   "outputs": [],
   "source": [
    "model = Sequential()"
   ]
  },
  {
   "cell_type": "code",
   "execution_count": null,
   "metadata": {},
   "outputs": [],
   "source": [
    "model.add(Conv2D(4,(5,5), padding='same',input_sh))\n",
    "model.add(Activation('relu'))"
   ]
  },
  {
   "cell_type": "code",
   "execution_count": 12,
   "metadata": {},
   "outputs": [],
   "source": [
    "y_train_eo = np.ones_like(y_train)\n",
    "y_train_eo[y_train%2==0] = 0\n",
    "\n",
    "y_test_eo = np.ones_like(y_test)\n",
    "y_test_eo[y_test%2==0] = 0"
   ]
  },
  {
   "cell_type": "code",
   "execution_count": 13,
   "metadata": {},
   "outputs": [
    {
     "data": {
      "text/plain": [
       "([array([54077.,     0.,     0.,     0.,     0.,     0.,     0.,     0.,\n",
       "             0.,  5923.]),\n",
       "  array([53258.,     0.,     0.,     0.,     0.,     0.,     0.,     0.,\n",
       "             0.,  6742.]),\n",
       "  array([54042.,     0.,     0.,     0.,     0.,     0.,     0.,     0.,\n",
       "             0.,  5958.]),\n",
       "  array([53869.,     0.,     0.,     0.,     0.,     0.,     0.,     0.,\n",
       "             0.,  6131.]),\n",
       "  array([54158.,     0.,     0.,     0.,     0.,     0.,     0.,     0.,\n",
       "             0.,  5842.]),\n",
       "  array([54579.,     0.,     0.,     0.,     0.,     0.,     0.,     0.,\n",
       "             0.,  5421.]),\n",
       "  array([54082.,     0.,     0.,     0.,     0.,     0.,     0.,     0.,\n",
       "             0.,  5918.]),\n",
       "  array([53735.,     0.,     0.,     0.,     0.,     0.,     0.,     0.,\n",
       "             0.,  6265.]),\n",
       "  array([54149.,     0.,     0.,     0.,     0.,     0.,     0.,     0.,\n",
       "             0.,  5851.]),\n",
       "  array([54051.,     0.,     0.,     0.,     0.,     0.,     0.,     0.,\n",
       "             0.,  5949.])],\n",
       " array([0. , 0.1, 0.2, 0.3, 0.4, 0.5, 0.6, 0.7, 0.8, 0.9, 1. ]),\n",
       " <a list of 10 Lists of Patches objects>)"
      ]
     },
     "execution_count": 13,
     "metadata": {},
     "output_type": "execute_result"
    },
    {
     "data": {
      "image/png": "[encoded data removed]",
      "text/plain": [
       "<Figure size 432x288 with 1 Axes>"
      ]
     },
     "metadata": {},
     "output_type": "display_data"
    }
   ],
   "source": [
    "plt.hist(y_train_eo)"
   ]
  },
  {
   "cell_type": "code",
   "execution_count": 14,
   "metadata": {
    "scrolled": true
   },
   "outputs": [
    {
     "data": {
      "text/plain": [
       "([array([9020.,    0.,    0.,    0.,    0.,    0.,    0.,    0.,    0.,\n",
       "          980.]),\n",
       "  array([8865.,    0.,    0.,    0.,    0.,    0.,    0.,    0.,    0.,\n",
       "         1135.]),\n",
       "  array([8968.,    0.,    0.,    0.,    0.,    0.,    0.,    0.,    0.,\n",
       "         1032.]),\n",
       "  array([8990.,    0.,    0.,    0.,    0.,    0.,    0.,    0.,    0.,\n",
       "         1010.]),\n",
       "  array([9018.,    0.,    0.,    0.,    0.,    0.,    0.,    0.,    0.,\n",
       "          982.]),\n",
       "  array([9108.,    0.,    0.,    0.,    0.,    0.,    0.,    0.,    0.,\n",
       "          892.]),\n",
       "  array([9042.,    0.,    0.,    0.,    0.,    0.,    0.,    0.,    0.,\n",
       "          958.]),\n",
       "  array([8972.,    0.,    0.,    0.,    0.,    0.,    0.,    0.,    0.,\n",
       "         1028.]),\n",
       "  array([9026.,    0.,    0.,    0.,    0.,    0.,    0.,    0.,    0.,\n",
       "          974.]),\n",
       "  array([8991.,    0.,    0.,    0.,    0.,    0.,    0.,    0.,    0.,\n",
       "         1009.])],\n",
       " array([0. , 0.1, 0.2, 0.3, 0.4, 0.5, 0.6, 0.7, 0.8, 0.9, 1. ]),\n",
       " <a list of 10 Lists of Patches objects>)"
      ]
     },
     "execution_count": 14,
     "metadata": {},
     "output_type": "execute_result"
    },
    {
     "data": {
      "image/png": "[encoded data removed]",
      "text/plain": [
       "<Figure size 432x288 with 1 Axes>"
      ]
     },
     "metadata": {},
     "output_type": "display_data"
    }
   ],
   "source": [
    "plt.hist(y_test_eo)"
   ]
  },
  {
   "cell_type": "code",
   "execution_count": 15,
   "metadata": {},
   "outputs": [],
   "source": [
    "Layer_01 = [Dense(200, input_dim = 28 * 28), \n",
    "            Activation('sigmoid'),\n",
    "            Dense(200),\n",
    "            Activation('sigmoid')\n",
    "           ]\n",
    "\n",
    "Layer_02 = [Dense(100, input_dim = 28 * 28), \n",
    "            Activation('sigmoid'),\n",
    "            Dense(100),\n",
    "            Activation('sigmoid')\n",
    "           ]\n",
    "\n",
    "Layer_99 = [Dense(10), Activation('softmax')]"
   ]
  },
  {
   "cell_type": "code",
   "execution_count": 16,
   "metadata": {
    "scrolled": false
   },
   "outputs": [
    {
     "name": "stdout",
     "output_type": "stream",
     "text": [
      "_________________________________________________________________\n",
      "Layer (type)                 Output Shape              Param #   \n",
      "=================================================================\n",
      "dense_1 (Dense)              (None, 200)               157000    \n",
      "_________________________________________________________________\n",
      "activation_1 (Activation)    (None, 200)               0         \n",
      "_________________________________________________________________\n",
      "dense_2 (Dense)              (None, 200)               40200     \n",
      "_________________________________________________________________\n",
      "activation_2 (Activation)    (None, 200)               0         \n",
      "_________________________________________________________________\n",
      "dense_3 (Dense)              (None, 100)               20100     \n",
      "_________________________________________________________________\n",
      "activation_3 (Activation)    (None, 100)               0         \n",
      "_________________________________________________________________\n",
      "dense_4 (Dense)              (None, 100)               10100     \n",
      "_________________________________________________________________\n",
      "activation_4 (Activation)    (None, 100)               0         \n",
      "_________________________________________________________________\n",
      "dense_5 (Dense)              (None, 10)                1010      \n",
      "_________________________________________________________________\n",
      "activation_5 (Activation)    (None, 10)                0         \n",
      "=================================================================\n",
      "Total params: 228,410\n",
      "Trainable params: 228,410\n",
      "Non-trainable params: 0\n",
      "_________________________________________________________________\n"
     ]
    }
   ],
   "source": [
    "model_num = Sequential(Layer_01 + Layer_02 + Layer_99)\n",
    "model_num.summary()"
   ]
  },
  {
   "cell_type": "code",
   "execution_count": 20,
   "metadata": {},
   "outputs": [
    {
     "name": "stdout",
     "output_type": "stream",
     "text": [
      "Train on 60000 samples, validate on 10000 samples\n",
      "Epoch 1/20\n",
      "60000/60000 [==============================] - 8s 127us/step - loss: 0.0722 - acc: 0.9750 - val_loss: 0.0298 - val_acc: 0.9906\n",
      "Epoch 2/20\n",
      "60000/60000 [==============================] - 6s 101us/step - loss: 0.0238 - acc: 0.9924 - val_loss: 0.0246 - val_acc: 0.9917\n",
      "Epoch 3/20\n",
      "60000/60000 [==============================] - 6s 105us/step - loss: 0.0185 - acc: 0.9939 - val_loss: 0.0223 - val_acc: 0.9929\n",
      "Epoch 4/20\n",
      "60000/60000 [==============================] - 7s 113us/step - loss: 0.0159 - acc: 0.9949 - val_loss: 0.0208 - val_acc: 0.9933\n",
      "Epoch 5/20\n",
      "60000/60000 [==============================] - 6s 99us/step - loss: 0.0135 - acc: 0.9956 - val_loss: 0.0211 - val_acc: 0.9934\n",
      "Epoch 6/20\n",
      "60000/60000 [==============================] - 6s 99us/step - loss: 0.0123 - acc: 0.9961 - val_loss: 0.0190 - val_acc: 0.9943\n",
      "Epoch 7/20\n",
      "60000/60000 [==============================] - 6s 97us/step - loss: 0.0115 - acc: 0.9962 - val_loss: 0.0161 - val_acc: 0.9949\n",
      "Epoch 8/20\n",
      "60000/60000 [==============================] - 6s 98us/step - loss: 0.0110 - acc: 0.9964 - val_loss: 0.0205 - val_acc: 0.9937\n",
      "Epoch 9/20\n",
      "60000/60000 [==============================] - 6s 106us/step - loss: 0.0098 - acc: 0.9968 - val_loss: 0.0185 - val_acc: 0.9946\n",
      "Epoch 10/20\n",
      "60000/60000 [==============================] - 6s 105us/step - loss: 0.0093 - acc: 0.9970 - val_loss: 0.0174 - val_acc: 0.9949\n",
      "Epoch 11/20\n",
      "60000/60000 [==============================] - 6s 108us/step - loss: 0.0085 - acc: 0.9972 - val_loss: 0.0191 - val_acc: 0.9949\n",
      "Epoch 12/20\n",
      "60000/60000 [==============================] - 6s 105us/step - loss: 0.0083 - acc: 0.9972 - val_loss: 0.0169 - val_acc: 0.9948\n",
      "Epoch 13/20\n",
      "60000/60000 [==============================] - 6s 97us/step - loss: 0.0082 - acc: 0.9973 - val_loss: 0.0185 - val_acc: 0.9949\n",
      "Epoch 14/20\n",
      "60000/60000 [==============================] - 6s 94us/step - loss: 0.0073 - acc: 0.9975 - val_loss: 0.0180 - val_acc: 0.9951\n",
      "Epoch 15/20\n",
      "60000/60000 [==============================] - 6s 98us/step - loss: 0.0087 - acc: 0.9971 - val_loss: 0.0165 - val_acc: 0.9951\n",
      "Epoch 16/20\n",
      "60000/60000 [==============================] - 6s 99us/step - loss: 0.0074 - acc: 0.9975 - val_loss: 0.0188 - val_acc: 0.9950\n",
      "Epoch 17/20\n",
      "60000/60000 [==============================] - 6s 102us/step - loss: 0.0065 - acc: 0.9979 - val_loss: 0.0166 - val_acc: 0.9955\n",
      "Epoch 18/20\n",
      "60000/60000 [==============================] - 5s 89us/step - loss: 0.0069 - acc: 0.9977 - val_loss: 0.0172 - val_acc: 0.9950\n",
      "Epoch 19/20\n",
      "60000/60000 [==============================] - 7s 112us/step - loss: 0.0067 - acc: 0.9978 - val_loss: 0.0182 - val_acc: 0.9948\n",
      "Epoch 20/20\n",
      "60000/60000 [==============================] - 6s 95us/step - loss: 0.0072 - acc: 0.9976 - val_loss: 0.0179 - val_acc: 0.9948\n"
     ]
    }
   ],
   "source": [
    "model_num.compile(loss = 'binary_crossentropy', optimizer = Adam(lr = 0.01), metrics = ['acc'])\n",
    "model_num_result = model_num.fit(x_train_normalization, y_train, batch_size = 100, epochs = 20, verbose = 1, validation_data = (x_test_normalization, y_test))"
   ]
  },
  {
   "cell_type": "code",
   "execution_count": 21,
   "metadata": {},
   "outputs": [
    {
     "name": "stdout",
     "output_type": "stream",
     "text": [
      "10000/10000 [==============================] - 1s 65us/step\n",
      "model_num loss 0.017904152676579542\n",
      "model_num 正確率 99.47999961853027 %\n"
     ]
    }
   ],
   "source": [
    "score_num = model_num.evaluate(x_test_normalization, y_test)\n",
    "print('model_num loss',score_num[0])\n",
    "print('model_num 正確率',score_num[1] * 100 ,'%')"
   ]
  },
  {
   "cell_type": "markdown",
   "metadata": {},
   "source": [
    "![%5BNCTS%5D_Homework_Q8-1_Functional_API_DavidChi.png](%5BNCTS%5D_Homework_Q8-1_Functional_API_DavidChi.png)\n"
   ]
  },
  {
   "cell_type": "code",
   "execution_count": 22,
   "metadata": {},
   "outputs": [],
   "source": [
    "x = Input(shape = (784,))"
   ]
  },
  {
   "cell_type": "code",
   "execution_count": 23,
   "metadata": {},
   "outputs": [
    {
     "data": {
      "text/plain": [
       "<tf.Tensor 'input_1:0' shape=(?, 784) dtype=float32>"
      ]
     },
     "execution_count": 23,
     "metadata": {},
     "output_type": "execute_result"
    }
   ],
   "source": [
    "x"
   ]
  },
  {
   "cell_type": "code",
   "execution_count": 24,
   "metadata": {},
   "outputs": [],
   "source": [
    "f_1 = Dense(200, activation = 'sigmoid')\n",
    "f_2 = Dense(200, activation = 'sigmoid')\n",
    "f_3 = Dense(100, activation = 'sigmoid')\n",
    "f_4 = Dense(100, activation = 'relu')\n",
    "f_5 = Dense(100, activation = 'relu')\n",
    "f_6 = Dense(50, activation = 'relu')\n",
    "f_7 = Dense(30, activation = 'elu')\n",
    "f_8 = Dense(30, activation = 'elu')\n",
    "f_9 = Dense(10, activation = 'softmax')"
   ]
  },
  {
   "cell_type": "code",
   "execution_count": 25,
   "metadata": {},
   "outputs": [],
   "source": [
    "h_1 = f_1(x)\n",
    "h_2 = f_2(x)\n",
    "u = concatenate([h_1, h_2])\n",
    "\n",
    "h_3 = f_3(u)\n",
    "h_4 = f_4(h_3)\n",
    "h_5 = f_5(h_3)\n",
    "v = concatenate([h_4, h_5])\n",
    "\n",
    "h_6 = f_6(v)\n",
    "h_7 = f_7(h_6)\n",
    "h_8 = f_8(h_6)\n",
    "w = concatenate([h_7, h_8])\n",
    "\n",
    "y = f_9(w)"
   ]
  },
  {
   "cell_type": "code",
   "execution_count": 26,
   "metadata": {},
   "outputs": [
    {
     "name": "stdout",
     "output_type": "stream",
     "text": [
      "Tensor(\"input_1:0\", shape=(?, 784), dtype=float32)\n",
      "\n"
     ]
    },
    {
     "data": {
      "text/plain": [
       "(None, None)"
      ]
     },
     "execution_count": 26,
     "metadata": {},
     "output_type": "execute_result"
    }
   ],
   "source": [
    "print(x), print()"
   ]
  },
  {
   "cell_type": "code",
   "execution_count": 35,
   "metadata": {},
   "outputs": [
    {
     "name": "stdout",
     "output_type": "stream",
     "text": [
      "__________________________________________________________________________________________________\n",
      "Layer (type)                    Output Shape         Param #     Connected to                     \n",
      "==================================================================================================\n",
      "input_1 (InputLayer)            (None, 784)          0                                            \n",
      "__________________________________________________________________________________________________\n",
      "dense_6 (Dense)                 (None, 200)          157000      input_1[0][0]                    \n",
      "__________________________________________________________________________________________________\n",
      "dense_7 (Dense)                 (None, 200)          157000      input_1[0][0]                    \n",
      "__________________________________________________________________________________________________\n",
      "concatenate_1 (Concatenate)     (None, 400)          0           dense_6[0][0]                    \n",
      "                                                                 dense_7[0][0]                    \n",
      "__________________________________________________________________________________________________\n",
      "dense_8 (Dense)                 (None, 100)          40100       concatenate_1[0][0]              \n",
      "__________________________________________________________________________________________________\n",
      "dense_9 (Dense)                 (None, 100)          10100       dense_8[0][0]                    \n",
      "__________________________________________________________________________________________________\n",
      "dense_10 (Dense)                (None, 100)          10100       dense_8[0][0]                    \n",
      "__________________________________________________________________________________________________\n",
      "concatenate_2 (Concatenate)     (None, 200)          0           dense_9[0][0]                    \n",
      "                                                                 dense_10[0][0]                   \n",
      "__________________________________________________________________________________________________\n",
      "dense_11 (Dense)                (None, 50)           10050       concatenate_2[0][0]              \n",
      "__________________________________________________________________________________________________\n",
      "dense_12 (Dense)                (None, 30)           1530        dense_11[0][0]                   \n",
      "__________________________________________________________________________________________________\n",
      "dense_13 (Dense)                (None, 30)           1530        dense_11[0][0]                   \n",
      "__________________________________________________________________________________________________\n",
      "concatenate_3 (Concatenate)     (None, 60)           0           dense_12[0][0]                   \n",
      "                                                                 dense_13[0][0]                   \n",
      "__________________________________________________________________________________________________\n",
      "dense_14 (Dense)                (None, 10)           610         concatenate_3[0][0]              \n",
      "==================================================================================================\n",
      "Total params: 388,020\n",
      "Trainable params: 388,020\n",
      "Non-trainable params: 0\n",
      "__________________________________________________________________________________________________\n"
     ]
    }
   ],
   "source": [
    "model = Model(x, y)\n",
    "model.summary()"
   ]
  },
  {
   "cell_type": "code",
   "execution_count": 40,
   "metadata": {},
   "outputs": [
    {
     "data": {
      "image/png": "[encoded data removed]",
      "text/plain": [
       "<IPython.core.display.Image object>"
      ]
     },
     "execution_count": 40,
     "metadata": {},
     "output_type": "execute_result"
    }
   ],
   "source": [
    "import os\n",
    "os.environ[\"PATH\"] += os.pathsep + 'C:/Program Files (x86)/Graphviz2.38/bin/'\n",
    "\n",
    "import pydot\n",
    "from keras.utils.vis_utils import plot_model\n",
    "plot_model(model, to_file='model.png')\n",
    "from IPython.display import Image\n",
    "Image(filename=\"model.png\")"
   ]
  },
  {
   "cell_type": "code",
   "execution_count": 25,
   "metadata": {
    "scrolled": true
   },
   "outputs": [
    {
     "name": "stdout",
     "output_type": "stream",
     "text": [
      "Train on 60000 samples, validate on 10000 samples\n",
      "Epoch 1/20\n",
      "60000/60000 [==============================] - 5s 84us/step - loss: 0.0715 - acc: 0.9761 - val_loss: 0.0304 - val_acc: 0.9910\n",
      "Epoch 2/20\n",
      "60000/60000 [==============================] - 5s 82us/step - loss: 0.0271 - acc: 0.9914 - val_loss: 0.0227 - val_acc: 0.9930\n",
      "Epoch 3/20\n",
      "60000/60000 [==============================] - 5s 80us/step - loss: 0.0214 - acc: 0.9934 - val_loss: 0.0237 - val_acc: 0.9928\n",
      "Epoch 4/20\n",
      "60000/60000 [==============================] - 5s 82us/step - loss: 0.0194 - acc: 0.9940 - val_loss: 0.0194 - val_acc: 0.9939\n",
      "Epoch 5/20\n",
      "60000/60000 [==============================] - 5s 81us/step - loss: 0.0178 - acc: 0.9946 - val_loss: 0.0215 - val_acc: 0.9940\n",
      "Epoch 6/20\n",
      "60000/60000 [==============================] - 5s 82us/step - loss: 0.0178 - acc: 0.9945 - val_loss: 0.0217 - val_acc: 0.9933\n",
      "Epoch 7/20\n",
      "60000/60000 [==============================] - 5s 81us/step - loss: 0.0154 - acc: 0.9954 - val_loss: 0.0224 - val_acc: 0.9936\n",
      "Epoch 8/20\n",
      "60000/60000 [==============================] - 5s 80us/step - loss: 0.0155 - acc: 0.9953 - val_loss: 0.0236 - val_acc: 0.9934\n",
      "Epoch 9/20\n",
      "60000/60000 [==============================] - 5s 80us/step - loss: 0.0143 - acc: 0.9957 - val_loss: 0.0228 - val_acc: 0.9938\n",
      "Epoch 10/20\n",
      "60000/60000 [==============================] - 5s 80us/step - loss: 0.0144 - acc: 0.9957 - val_loss: 0.0204 - val_acc: 0.9945\n",
      "Epoch 11/20\n",
      "60000/60000 [==============================] - 5s 80us/step - loss: 0.0145 - acc: 0.9957 - val_loss: 0.0200 - val_acc: 0.9944\n",
      "Epoch 12/20\n",
      "60000/60000 [==============================] - 5s 79us/step - loss: 0.0137 - acc: 0.9960 - val_loss: 0.0215 - val_acc: 0.9945\n",
      "Epoch 13/20\n",
      "60000/60000 [==============================] - 5s 78us/step - loss: 0.0133 - acc: 0.9960 - val_loss: 0.0221 - val_acc: 0.9943\n",
      "Epoch 14/20\n",
      "60000/60000 [==============================] - 5s 77us/step - loss: 0.0138 - acc: 0.9960 - val_loss: 0.0211 - val_acc: 0.9944\n",
      "Epoch 15/20\n",
      "60000/60000 [==============================] - 5s 78us/step - loss: 0.0124 - acc: 0.9964 - val_loss: 0.0209 - val_acc: 0.9945\n",
      "Epoch 16/20\n",
      "60000/60000 [==============================] - 5s 80us/step - loss: 0.0113 - acc: 0.9966 - val_loss: 0.0229 - val_acc: 0.9941\n",
      "Epoch 17/20\n",
      "60000/60000 [==============================] - 5s 80us/step - loss: 0.0118 - acc: 0.9965 - val_loss: 0.0197 - val_acc: 0.9947\n",
      "Epoch 18/20\n",
      "60000/60000 [==============================] - 5s 79us/step - loss: 0.0127 - acc: 0.9963 - val_loss: 0.0253 - val_acc: 0.9935\n",
      "Epoch 19/20\n",
      "60000/60000 [==============================] - 5s 79us/step - loss: 0.0130 - acc: 0.9962 - val_loss: 0.0220 - val_acc: 0.9943\n",
      "Epoch 20/20\n",
      "60000/60000 [==============================] - 5s 79us/step - loss: 0.0122 - acc: 0.9965 - val_loss: 0.0216 - val_acc: 0.9940\n"
     ]
    }
   ],
   "source": [
    "model.compile(loss = 'binary_crossentropy', optimizer = Adam(lr = 0.01), metrics = ['acc'])\n",
    "model_result = model.fit(x_train_normalization, y_train, batch_size = 100, epochs = 20, verbose = 1, validation_data = (x_test_normalization, y_test))"
   ]
  },
  {
   "cell_type": "code",
   "execution_count": 26,
   "metadata": {},
   "outputs": [
    {
     "name": "stdout",
     "output_type": "stream",
     "text": [
      "10000/10000 [==============================] - 0s 37us/step\n",
      "model loss 0.021612104093818925\n",
      "model 正確率 99.4009997177124 %\n"
     ]
    }
   ],
   "source": [
    "score = model.evaluate(x_test_normalization, y_test)\n",
    "print('model loss',score[0])\n",
    "print('model 正確率',score[1] * 100 ,'%')"
   ]
  },
  {
   "cell_type": "code",
   "execution_count": 27,
   "metadata": {},
   "outputs": [
    {
     "data": {
      "image/png": "[encoded data removed]",
      "text/plain": [
       "<Figure size 432x288 with 1 Axes>"
      ]
     },
     "metadata": {},
     "output_type": "display_data"
    }
   ],
   "source": [
    "plt.plot(model_result.history['acc'])\n",
    "plt.plot(model_num_result.history['acc'])\n",
    "\n",
    "plt.title('model training accuracy')\n",
    "plt.ylabel('accuracy')\n",
    "plt.xlabel('epoch')\n",
    "plt.legend(['model','model_num'],loc = 'best')\n",
    "plt.show()"
   ]
  },
  {
   "cell_type": "code",
   "execution_count": 28,
   "metadata": {},
   "outputs": [],
   "source": [
    "model_json = model.to_json()\n",
    "open('[NCTS]_Homework_Q8-1_Functional_API_DavidChi.json', 'w').write(model_json)\n",
    "model.save_weights('[NCTS]_Homework_Q8-1_Functional_API_DavidChi.h5')"
   ]
  }
 ],
 "metadata": {
  "kernelspec": {
   "display_name": "Python 3",
   "language": "python",
   "name": "python3"
  },
  "language_info": {
   "codemirror_mode": {
    "name": "ipython",
    "version": 3
   },
   "file_extension": ".py",
   "mimetype": "text/x-python",
   "name": "python",
   "nbconvert_exporter": "python",
   "pygments_lexer": "ipython3",
   "version": "3.6.5"
  }
 },
 "nbformat": 4,
 "nbformat_minor": 2
}
