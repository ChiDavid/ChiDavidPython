{
 "cells": [
  {
   "cell_type": "code",
   "execution_count": 1,
   "metadata": {},
   "outputs": [
    {
     "name": "stdout",
     "output_type": "stream",
     "text": [
      "env: KERAS_BACKEND=tensorflow\n"
     ]
    }
   ],
   "source": [
    "%matplotlib inline\n",
    "%env KERAS_BACKEND = tensorflow\n",
    "\n",
    "import time\n",
    "import locale\n",
    "import random\n",
    "import numpy as np\n",
    "import pandas as pd\n",
    "import matplotlib as mpl\n",
    "import matplotlib.pyplot as plt\n",
    "\n",
    "from ipywidgets import interact\n",
    "from ipywidgets import interact_manual\n",
    "from sklearn.linear_model import LinearRegression\n",
    "from matplotlib.font_manager import FontProperties\n",
    "from sklearn.model_selection import train_test_split\n",
    "\n",
    "myfont = FontProperties(fname = r'c:\\windows\\fonts\\simsun.ttc', size = 14)"
   ]
  },
  {
   "cell_type": "code",
   "execution_count": 2,
   "metadata": {},
   "outputs": [
    {
     "name": "stderr",
     "output_type": "stream",
     "text": [
      "Using TensorFlow backend.\n"
     ]
    }
   ],
   "source": [
    "# MNIST for dataset\n",
    "from keras.datasets import mnist\n",
    "\n",
    "#Functional API\n",
    "from keras.models import Sequential, Model\n",
    "from keras.layers import Dense, Activation, Input, concatenate, add\n",
    "from keras.optimizers import SGD, Adam\n",
    "\n",
    "# something userful\n",
    "from keras.utils import np_utils\n",
    "\n",
    "(x_train, y_train), (x_test, y_test) = mnist.load_data()"
   ]
  },
  {
   "cell_type": "code",
   "execution_count": 3,
   "metadata": {},
   "outputs": [
    {
     "name": "stdout",
     "output_type": "stream",
     "text": [
      "Training data : 60000 , with size 28 x 28\n",
      "Testing  data : 10000 , with size 28 x 28\n"
     ]
    }
   ],
   "source": [
    "print(\"Training data : %d , with size %d x %d\" %x_train.shape)\n",
    "print(\"Testing  data : %d , with size %d x %d\" %x_test.shape)"
   ]
  },
  {
   "cell_type": "code",
   "execution_count": 4,
   "metadata": {},
   "outputs": [
    {
     "data": {
      "text/plain": [
       "60000"
      ]
     },
     "execution_count": 4,
     "metadata": {},
     "output_type": "execute_result"
    }
   ],
   "source": [
    "len(x_train)"
   ]
  },
  {
   "cell_type": "code",
   "execution_count": 5,
   "metadata": {
    "scrolled": true
   },
   "outputs": [
    {
     "data": {
      "text/plain": [
       "10000"
      ]
     },
     "execution_count": 5,
     "metadata": {},
     "output_type": "execute_result"
    }
   ],
   "source": [
    "len(x_test)"
   ]
  },
  {
   "cell_type": "code",
   "execution_count": 6,
   "metadata": {},
   "outputs": [],
   "source": [
    "x_train = x_train.reshape(60000, 784)"
   ]
  },
  {
   "cell_type": "code",
   "execution_count": 7,
   "metadata": {},
   "outputs": [],
   "source": [
    "x_test = x_test.reshape(10000, 784)"
   ]
  },
  {
   "cell_type": "markdown",
   "metadata": {},
   "source": [
    "將資料先進行正規化處理，資料線性單位化至[0,1]"
   ]
  },
  {
   "cell_type": "code",
   "execution_count": 8,
   "metadata": {},
   "outputs": [],
   "source": [
    "x_train_normalization = ( x_train - x_train.min() ) / ( x_train.max() - x_train.min() )#[NCTS]DavidChi\n",
    "x_test_normalization = ( x_test - x_test.min() ) / ( x_test.max() - x_test.min() )"
   ]
  },
  {
   "cell_type": "code",
   "execution_count": 9,
   "metadata": {},
   "outputs": [
    {
     "data": {
      "text/plain": [
       "(1.0, 0.0)"
      ]
     },
     "execution_count": 9,
     "metadata": {},
     "output_type": "execute_result"
    }
   ],
   "source": [
    "x_train_normalization.max(), x_train_normalization.min()"
   ]
  },
  {
   "cell_type": "code",
   "execution_count": 10,
   "metadata": {},
   "outputs": [
    {
     "data": {
      "text/plain": [
       "(1.0, 0.0)"
      ]
     },
     "execution_count": 10,
     "metadata": {},
     "output_type": "execute_result"
    }
   ],
   "source": [
    "x_test_normalization.max(), x_test_normalization.min()"
   ]
  },
  {
   "cell_type": "markdown",
   "metadata": {},
   "source": [
    "準備另一個 Label，將 0 ~ 9 分成偶數（y = 0）、奇數（y = 1）"
   ]
  },
  {
   "cell_type": "code",
   "execution_count": 11,
   "metadata": {},
   "outputs": [],
   "source": [
    "y_train = np_utils.to_categorical(y_train, 10)\n",
    "y_test = np_utils.to_categorical(y_test, 10)"
   ]
  },
  {
   "cell_type": "markdown",
   "metadata": {},
   "source": [
    "確認產生奇偶數的狀態"
   ]
  },
  {
   "cell_type": "code",
   "execution_count": 12,
   "metadata": {},
   "outputs": [],
   "source": [
    "y_train_eo = np.ones_like(y_train)\n",
    "y_train_eo[y_train%2==0] = 0\n",
    "\n",
    "y_test_eo = np.ones_like(y_test)\n",
    "y_test_eo[y_test%2==0] = 0"
   ]
  },
  {
   "cell_type": "code",
   "execution_count": 13,
   "metadata": {
    "scrolled": true
   },
   "outputs": [
    {
     "data": {
      "text/plain": [
       "([array([54077.,     0.,     0.,     0.,     0.,     0.,     0.,     0.,\n",
       "             0.,  5923.]),\n",
       "  array([53258.,     0.,     0.,     0.,     0.,     0.,     0.,     0.,\n",
       "             0.,  6742.]),\n",
       "  array([54042.,     0.,     0.,     0.,     0.,     0.,     0.,     0.,\n",
       "             0.,  5958.]),\n",
       "  array([53869.,     0.,     0.,     0.,     0.,     0.,     0.,     0.,\n",
       "             0.,  6131.]),\n",
       "  array([54158.,     0.,     0.,     0.,     0.,     0.,     0.,     0.,\n",
       "             0.,  5842.]),\n",
       "  array([54579.,     0.,     0.,     0.,     0.,     0.,     0.,     0.,\n",
       "             0.,  5421.]),\n",
       "  array([54082.,     0.,     0.,     0.,     0.,     0.,     0.,     0.,\n",
       "             0.,  5918.]),\n",
       "  array([53735.,     0.,     0.,     0.,     0.,     0.,     0.,     0.,\n",
       "             0.,  6265.]),\n",
       "  array([54149.,     0.,     0.,     0.,     0.,     0.,     0.,     0.,\n",
       "             0.,  5851.]),\n",
       "  array([54051.,     0.,     0.,     0.,     0.,     0.,     0.,     0.,\n",
       "             0.,  5949.])],\n",
       " array([0. , 0.1, 0.2, 0.3, 0.4, 0.5, 0.6, 0.7, 0.8, 0.9, 1. ]),\n",
       " <a list of 10 Lists of Patches objects>)"
      ]
     },
     "execution_count": 13,
     "metadata": {},
     "output_type": "execute_result"
    },
    {
     "data": {
      "image/png": "[encoded data removed]",
      "text/plain": [
       "<Figure size 432x288 with 1 Axes>"
      ]
     },
     "metadata": {},
     "output_type": "display_data"
    }
   ],
   "source": [
    "plt.hist(y_train_eo)"
   ]
  },
  {
   "cell_type": "code",
   "execution_count": 14,
   "metadata": {
    "scrolled": true
   },
   "outputs": [
    {
     "data": {
      "text/plain": [
       "([array([9020.,    0.,    0.,    0.,    0.,    0.,    0.,    0.,    0.,\n",
       "          980.]),\n",
       "  array([8865.,    0.,    0.,    0.,    0.,    0.,    0.,    0.,    0.,\n",
       "         1135.]),\n",
       "  array([8968.,    0.,    0.,    0.,    0.,    0.,    0.,    0.,    0.,\n",
       "         1032.]),\n",
       "  array([8990.,    0.,    0.,    0.,    0.,    0.,    0.,    0.,    0.,\n",
       "         1010.]),\n",
       "  array([9018.,    0.,    0.,    0.,    0.,    0.,    0.,    0.,    0.,\n",
       "          982.]),\n",
       "  array([9108.,    0.,    0.,    0.,    0.,    0.,    0.,    0.,    0.,\n",
       "          892.]),\n",
       "  array([9042.,    0.,    0.,    0.,    0.,    0.,    0.,    0.,    0.,\n",
       "          958.]),\n",
       "  array([8972.,    0.,    0.,    0.,    0.,    0.,    0.,    0.,    0.,\n",
       "         1028.]),\n",
       "  array([9026.,    0.,    0.,    0.,    0.,    0.,    0.,    0.,    0.,\n",
       "          974.]),\n",
       "  array([8991.,    0.,    0.,    0.,    0.,    0.,    0.,    0.,    0.,\n",
       "         1009.])],\n",
       " array([0. , 0.1, 0.2, 0.3, 0.4, 0.5, 0.6, 0.7, 0.8, 0.9, 1. ]),\n",
       " <a list of 10 Lists of Patches objects>)"
      ]
     },
     "execution_count": 14,
     "metadata": {},
     "output_type": "execute_result"
    },
    {
     "data": {
      "image/png": "[encoded data removed]",
      "text/plain": [
       "<Figure size 432x288 with 1 Axes>"
      ]
     },
     "metadata": {},
     "output_type": "display_data"
    }
   ],
   "source": [
    "plt.hist(y_test_eo)"
   ]
  },
  {
   "cell_type": "code",
   "execution_count": 15,
   "metadata": {},
   "outputs": [],
   "source": [
    "Layer_01 = [Dense(200, input_dim = 28 * 28), \n",
    "            Activation('sigmoid'),\n",
    "            Dense(200),\n",
    "            Activation('sigmoid')\n",
    "           ]\n",
    "\n",
    "Layer_02 = [Dense(100, input_dim = 28 * 28), \n",
    "            Activation('sigmoid'),\n",
    "            Dense(100),\n",
    "            Activation('sigmoid')\n",
    "           ]\n",
    "\n",
    "Layer_99 = [Dense(10), Activation('softmax')]"
   ]
  },
  {
   "cell_type": "code",
   "execution_count": 16,
   "metadata": {
    "scrolled": true
   },
   "outputs": [
    {
     "name": "stdout",
     "output_type": "stream",
     "text": [
      "_________________________________________________________________\n",
      "Layer (type)                 Output Shape              Param #   \n",
      "=================================================================\n",
      "dense_1 (Dense)              (None, 200)               157000    \n",
      "_________________________________________________________________\n",
      "activation_1 (Activation)    (None, 200)               0         \n",
      "_________________________________________________________________\n",
      "dense_2 (Dense)              (None, 200)               40200     \n",
      "_________________________________________________________________\n",
      "activation_2 (Activation)    (None, 200)               0         \n",
      "_________________________________________________________________\n",
      "dense_3 (Dense)              (None, 100)               20100     \n",
      "_________________________________________________________________\n",
      "activation_3 (Activation)    (None, 100)               0         \n",
      "_________________________________________________________________\n",
      "dense_4 (Dense)              (None, 100)               10100     \n",
      "_________________________________________________________________\n",
      "activation_4 (Activation)    (None, 100)               0         \n",
      "_________________________________________________________________\n",
      "dense_5 (Dense)              (None, 10)                1010      \n",
      "_________________________________________________________________\n",
      "activation_5 (Activation)    (None, 10)                0         \n",
      "=================================================================\n",
      "Total params: 228,410\n",
      "Trainable params: 228,410\n",
      "Non-trainable params: 0\n",
      "_________________________________________________________________\n"
     ]
    }
   ],
   "source": [
    "model_num = Sequential(Layer_01 + Layer_02 + Layer_99)\n",
    "model_num.summary()"
   ]
  },
  {
   "cell_type": "code",
   "execution_count": 17,
   "metadata": {},
   "outputs": [
    {
     "name": "stdout",
     "output_type": "stream",
     "text": [
      "Train on 60000 samples, validate on 10000 samples\n",
      "Epoch 1/20\n",
      "60000/60000 [==============================] - 7s 112us/step - loss: 0.0690 - acc: 0.9770 - val_loss: 0.0310 - val_acc: 0.9894\n",
      "Epoch 2/20\n",
      "60000/60000 [==============================] - 6s 105us/step - loss: 0.0240 - acc: 0.9923 - val_loss: 0.0261 - val_acc: 0.9916\n",
      "Epoch 3/20\n",
      "60000/60000 [==============================] - 7s 110us/step - loss: 0.0185 - acc: 0.9941 - val_loss: 0.0210 - val_acc: 0.9935\n",
      "Epoch 4/20\n",
      "60000/60000 [==============================] - 6s 102us/step - loss: 0.0158 - acc: 0.9949 - val_loss: 0.0194 - val_acc: 0.9942\n",
      "Epoch 5/20\n",
      "60000/60000 [==============================] - 6s 96us/step - loss: 0.0140 - acc: 0.9954 - val_loss: 0.0190 - val_acc: 0.9941\n",
      "Epoch 6/20\n",
      "60000/60000 [==============================] - 6s 98us/step - loss: 0.0126 - acc: 0.9960 - val_loss: 0.0184 - val_acc: 0.9939\n",
      "Epoch 7/20\n",
      "60000/60000 [==============================] - 6s 100us/step - loss: 0.0116 - acc: 0.9962 - val_loss: 0.0207 - val_acc: 0.9939\n",
      "Epoch 8/20\n",
      "60000/60000 [==============================] - 6s 99us/step - loss: 0.0108 - acc: 0.9964 - val_loss: 0.0198 - val_acc: 0.9945\n",
      "Epoch 9/20\n",
      "60000/60000 [==============================] - 6s 99us/step - loss: 0.0107 - acc: 0.9965 - val_loss: 0.0202 - val_acc: 0.9943\n",
      "Epoch 10/20\n",
      "60000/60000 [==============================] - 6s 100us/step - loss: 0.0100 - acc: 0.9968 - val_loss: 0.0177 - val_acc: 0.9951\n",
      "Epoch 11/20\n",
      "60000/60000 [==============================] - 6s 100us/step - loss: 0.0093 - acc: 0.9969 - val_loss: 0.0173 - val_acc: 0.9949\n",
      "Epoch 12/20\n",
      "60000/60000 [==============================] - 6s 100us/step - loss: 0.0091 - acc: 0.9970 - val_loss: 0.0168 - val_acc: 0.9951\n",
      "Epoch 13/20\n",
      "60000/60000 [==============================] - 6s 102us/step - loss: 0.0086 - acc: 0.9972 - val_loss: 0.0177 - val_acc: 0.9949\n",
      "Epoch 14/20\n",
      "60000/60000 [==============================] - 6s 103us/step - loss: 0.0080 - acc: 0.9974 - val_loss: 0.0182 - val_acc: 0.9950\n",
      "Epoch 15/20\n",
      "60000/60000 [==============================] - 6s 99us/step - loss: 0.0076 - acc: 0.9976 - val_loss: 0.0199 - val_acc: 0.9945\n",
      "Epoch 16/20\n",
      "60000/60000 [==============================] - 6s 100us/step - loss: 0.0083 - acc: 0.9972 - val_loss: 0.0176 - val_acc: 0.9947\n",
      "Epoch 17/20\n",
      "60000/60000 [==============================] - 6s 102us/step - loss: 0.0074 - acc: 0.9975 - val_loss: 0.0173 - val_acc: 0.9948\n",
      "Epoch 18/20\n",
      "60000/60000 [==============================] - 6s 101us/step - loss: 0.0073 - acc: 0.9976 - val_loss: 0.0196 - val_acc: 0.9949\n",
      "Epoch 19/20\n",
      "60000/60000 [==============================] - 6s 103us/step - loss: 0.0072 - acc: 0.9976 - val_loss: 0.0199 - val_acc: 0.9944\n",
      "Epoch 20/20\n",
      "60000/60000 [==============================] - 6s 100us/step - loss: 0.0070 - acc: 0.9977 - val_loss: 0.0183 - val_acc: 0.9948\n"
     ]
    }
   ],
   "source": [
    "model_num.compile(loss = 'binary_crossentropy', optimizer = Adam(lr = 0.01), metrics = ['acc'])\n",
    "model_num_result = model_num.fit(x_train_normalization, y_train, batch_size = 100, epochs = 20, verbose = 1, validation_data = (x_test_normalization, y_test))"
   ]
  },
  {
   "cell_type": "code",
   "execution_count": 18,
   "metadata": {},
   "outputs": [
    {
     "name": "stdout",
     "output_type": "stream",
     "text": [
      "10000/10000 [==============================] - 1s 149us/step\n",
      "model_num loss 0.01829319842091063\n",
      "model_num 正確率 99.48299976348876 %\n"
     ]
    }
   ],
   "source": [
    "score_num = model_num.evaluate(x_test_normalization, y_test)\n",
    "print('model_num loss',score_num[0])\n",
    "print('model_num 正確率',score_num[1] * 100 ,'%')"
   ]
  },
  {
   "cell_type": "markdown",
   "metadata": {},
   "source": [
    "![%5BNCTS%5D_Homework_Q8-1_Functional_API_DavidChi.png](%5BNCTS%5D_Homework_Q8-1_Functional_API_DavidChi.png)\n"
   ]
  },
  {
   "cell_type": "code",
   "execution_count": 19,
   "metadata": {},
   "outputs": [],
   "source": [
    "x = Input(shape = (784,))"
   ]
  },
  {
   "cell_type": "code",
   "execution_count": 20,
   "metadata": {},
   "outputs": [
    {
     "data": {
      "text/plain": [
       "<tf.Tensor 'input_1:0' shape=(?, 784) dtype=float32>"
      ]
     },
     "execution_count": 20,
     "metadata": {},
     "output_type": "execute_result"
    }
   ],
   "source": [
    "x"
   ]
  },
  {
   "cell_type": "code",
   "execution_count": 21,
   "metadata": {},
   "outputs": [],
   "source": [
    "f_1 = Dense(200, activation = 'sigmoid')\n",
    "f_2 = Dense(200, activation = 'sigmoid')\n",
    "f_3 = Dense(100, activation = 'sigmoid')\n",
    "f_4 = Dense(100, activation = 'relu')\n",
    "f_5 = Dense(100, activation = 'relu')\n",
    "f_6 = Dense(50, activation = 'relu')\n",
    "f_7 = Dense(30, activation = 'elu')\n",
    "f_8 = Dense(30, activation = 'elu')\n",
    "f_9 = Dense(10, activation = 'softmax')"
   ]
  },
  {
   "cell_type": "code",
   "execution_count": 22,
   "metadata": {},
   "outputs": [],
   "source": [
    "h_1 = f_1(x)\n",
    "h_2 = f_2(x)\n",
    "u = concatenate([h_1, h_2])\n",
    "\n",
    "h_3 = f_3(u)\n",
    "h_4 = f_4(h_3)\n",
    "h_5 = f_5(h_3)\n",
    "v = concatenate([h_4, h_5])\n",
    "\n",
    "h_6 = f_6(v)\n",
    "h_7 = f_7(h_6)\n",
    "h_8 = f_8(h_6)\n",
    "w = concatenate([h_7, h_8])\n",
    "\n",
    "y = f_9(w)"
   ]
  },
  {
   "cell_type": "code",
   "execution_count": 23,
   "metadata": {},
   "outputs": [
    {
     "name": "stdout",
     "output_type": "stream",
     "text": [
      "Tensor(\"input_1:0\", shape=(?, 784), dtype=float32)\n",
      "\n"
     ]
    },
    {
     "data": {
      "text/plain": [
       "(None, None)"
      ]
     },
     "execution_count": 23,
     "metadata": {},
     "output_type": "execute_result"
    }
   ],
   "source": [
    "print(x), print()"
   ]
  },
  {
   "cell_type": "code",
   "execution_count": 24,
   "metadata": {},
   "outputs": [
    {
     "name": "stdout",
     "output_type": "stream",
     "text": [
      "__________________________________________________________________________________________________\n",
      "Layer (type)                    Output Shape         Param #     Connected to                     \n",
      "==================================================================================================\n",
      "input_1 (InputLayer)            (None, 784)          0                                            \n",
      "__________________________________________________________________________________________________\n",
      "dense_6 (Dense)                 (None, 200)          157000      input_1[0][0]                    \n",
      "__________________________________________________________________________________________________\n",
      "dense_7 (Dense)                 (None, 200)          157000      input_1[0][0]                    \n",
      "__________________________________________________________________________________________________\n",
      "concatenate_1 (Concatenate)     (None, 400)          0           dense_6[0][0]                    \n",
      "                                                                 dense_7[0][0]                    \n",
      "__________________________________________________________________________________________________\n",
      "dense_8 (Dense)                 (None, 100)          40100       concatenate_1[0][0]              \n",
      "__________________________________________________________________________________________________\n",
      "dense_9 (Dense)                 (None, 100)          10100       dense_8[0][0]                    \n",
      "__________________________________________________________________________________________________\n",
      "dense_10 (Dense)                (None, 100)          10100       dense_8[0][0]                    \n",
      "__________________________________________________________________________________________________\n",
      "concatenate_2 (Concatenate)     (None, 200)          0           dense_9[0][0]                    \n",
      "                                                                 dense_10[0][0]                   \n",
      "__________________________________________________________________________________________________\n",
      "dense_11 (Dense)                (None, 50)           10050       concatenate_2[0][0]              \n",
      "__________________________________________________________________________________________________\n",
      "dense_12 (Dense)                (None, 30)           1530        dense_11[0][0]                   \n",
      "__________________________________________________________________________________________________\n",
      "dense_13 (Dense)                (None, 30)           1530        dense_11[0][0]                   \n",
      "__________________________________________________________________________________________________\n",
      "concatenate_3 (Concatenate)     (None, 60)           0           dense_12[0][0]                   \n",
      "                                                                 dense_13[0][0]                   \n",
      "__________________________________________________________________________________________________\n",
      "dense_14 (Dense)                (None, 10)           610         concatenate_3[0][0]              \n",
      "==================================================================================================\n",
      "Total params: 388,020\n",
      "Trainable params: 388,020\n",
      "Non-trainable params: 0\n",
      "__________________________________________________________________________________________________\n"
     ]
    }
   ],
   "source": [
    "model = Model(x, y)\n",
    "model.summary()"
   ]
  },
  {
   "cell_type": "code",
   "execution_count": 25,
   "metadata": {},
   "outputs": [
    {
     "data": {
      "image/png": "[encoded data removed]",
      "text/plain": [
       "<IPython.core.display.Image object>"
      ]
     },
     "execution_count": 25,
     "metadata": {},
     "output_type": "execute_result"
    }
   ],
   "source": [
    "import os\n",
    "os.environ[\"PATH\"] += os.pathsep + 'C:/Program Files (x86)/Graphviz2.38/bin/'\n",
    "\n",
    "import pydot\n",
    "from keras.utils.vis_utils import plot_model\n",
    "plot_model(model, to_file='[NCTS]_Homework_Q8-1_Functional_API_DavidChi.png')\n",
    "from IPython.display import Image\n",
    "Image(filename=\"[NCTS]_Homework_Q8-1_Functional_API_DavidChi.png\")"
   ]
  },
  {
   "cell_type": "code",
   "execution_count": 26,
   "metadata": {
    "scrolled": true
   },
   "outputs": [
    {
     "name": "stdout",
     "output_type": "stream",
     "text": [
      "Train on 60000 samples, validate on 10000 samples\n",
      "Epoch 1/20\n",
      "60000/60000 [==============================] - 10s 167us/step - loss: 0.0617 - acc: 0.9795 - val_loss: 0.0303 - val_acc: 0.9899\n",
      "Epoch 2/20\n",
      "60000/60000 [==============================] - 8s 141us/step - loss: 0.0243 - acc: 0.9924 - val_loss: 0.0214 - val_acc: 0.9933\n",
      "Epoch 3/20\n",
      "60000/60000 [==============================] - 8s 138us/step - loss: 0.0200 - acc: 0.9937 - val_loss: 0.0220 - val_acc: 0.9933\n",
      "Epoch 4/20\n",
      "60000/60000 [==============================] - 8s 138us/step - loss: 0.0172 - acc: 0.9945 - val_loss: 0.0223 - val_acc: 0.9933\n",
      "Epoch 5/20\n",
      "60000/60000 [==============================] - 8s 142us/step - loss: 0.0161 - acc: 0.9950 - val_loss: 0.0192 - val_acc: 0.9940\n",
      "Epoch 6/20\n",
      "60000/60000 [==============================] - 8s 136us/step - loss: 0.0153 - acc: 0.9953 - val_loss: 0.0257 - val_acc: 0.9929\n",
      "Epoch 7/20\n",
      "60000/60000 [==============================] - 7s 123us/step - loss: 0.0136 - acc: 0.9958 - val_loss: 0.0235 - val_acc: 0.9936\n",
      "Epoch 8/20\n",
      "60000/60000 [==============================] - 8s 138us/step - loss: 0.0146 - acc: 0.9957 - val_loss: 0.0195 - val_acc: 0.9950\n",
      "Epoch 9/20\n",
      "60000/60000 [==============================] - 8s 139us/step - loss: 0.0140 - acc: 0.9957 - val_loss: 0.0209 - val_acc: 0.9943\n",
      "Epoch 10/20\n",
      "60000/60000 [==============================] - 8s 134us/step - loss: 0.0129 - acc: 0.9961 - val_loss: 0.0224 - val_acc: 0.9939\n",
      "Epoch 11/20\n",
      "60000/60000 [==============================] - 8s 133us/step - loss: 0.0123 - acc: 0.9962 - val_loss: 0.0182 - val_acc: 0.9950\n",
      "Epoch 12/20\n",
      "60000/60000 [==============================] - 8s 135us/step - loss: 0.0117 - acc: 0.9965 - val_loss: 0.0242 - val_acc: 0.9935\n",
      "Epoch 13/20\n",
      "60000/60000 [==============================] - 8s 128us/step - loss: 0.0128 - acc: 0.9963 - val_loss: 0.0213 - val_acc: 0.9944\n",
      "Epoch 14/20\n",
      "60000/60000 [==============================] - 8s 136us/step - loss: 0.0120 - acc: 0.9964 - val_loss: 0.0212 - val_acc: 0.9940\n",
      "Epoch 15/20\n",
      "60000/60000 [==============================] - 8s 126us/step - loss: 0.0111 - acc: 0.9966 - val_loss: 0.0235 - val_acc: 0.9945\n",
      "Epoch 16/20\n",
      "60000/60000 [==============================] - 8s 132us/step - loss: 0.0115 - acc: 0.9966 - val_loss: 0.0209 - val_acc: 0.9943\n",
      "Epoch 17/20\n",
      "60000/60000 [==============================] - 8s 133us/step - loss: 0.0112 - acc: 0.9966 - val_loss: 0.0204 - val_acc: 0.9949\n",
      "Epoch 18/20\n",
      "60000/60000 [==============================] - 8s 136us/step - loss: 0.0114 - acc: 0.9967 - val_loss: 0.0239 - val_acc: 0.9939\n",
      "Epoch 19/20\n",
      "60000/60000 [==============================] - 8s 135us/step - loss: 0.0100 - acc: 0.9970 - val_loss: 0.0221 - val_acc: 0.9950\n",
      "Epoch 20/20\n",
      "60000/60000 [==============================] - 8s 129us/step - loss: 0.0110 - acc: 0.9968 - val_loss: 0.0233 - val_acc: 0.9941\n"
     ]
    }
   ],
   "source": [
    "model.compile(loss = 'binary_crossentropy', optimizer = Adam(lr = 0.01), metrics = ['acc'])\n",
    "model_result = model.fit(x_train_normalization, y_train, batch_size = 100, epochs = 20, verbose = 1, validation_data = (x_test_normalization, y_test))"
   ]
  },
  {
   "cell_type": "code",
   "execution_count": 27,
   "metadata": {},
   "outputs": [
    {
     "name": "stdout",
     "output_type": "stream",
     "text": [
      "10000/10000 [==============================] - 1s 101us/step\n",
      "model loss 0.023331988203292714\n",
      "model 正確率 99.41099977493286 %\n"
     ]
    }
   ],
   "source": [
    "score = model.evaluate(x_test_normalization, y_test)\n",
    "print('model loss',score[0])\n",
    "print('model 正確率',score[1] * 100 ,'%')"
   ]
  },
  {
   "cell_type": "code",
   "execution_count": 28,
   "metadata": {},
   "outputs": [
    {
     "data": {
      "image/png": "[encoded data removed]",
      "text/plain": [
       "<Figure size 432x288 with 1 Axes>"
      ]
     },
     "metadata": {},
     "output_type": "display_data"
    }
   ],
   "source": [
    "plt.plot(model_result.history['acc'])\n",
    "plt.plot(model_num_result.history['acc'])\n",
    "\n",
    "plt.title('model training accuracy')\n",
    "plt.ylabel('accuracy')\n",
    "plt.xlabel('epoch')\n",
    "plt.legend(['model','model_num'],loc = 'best')\n",
    "plt.show()"
   ]
  },
  {
   "cell_type": "code",
   "execution_count": 29,
   "metadata": {},
   "outputs": [],
   "source": [
    "model_json = model.to_json()\n",
    "open('[NCTS]_Homework_Q8-1_Functional_API_DavidChi.json', 'w').write(model_json)\n",
    "model.save_weights('[NCTS]_Homework_Q8-1_Functional_API_DavidChi.h5')"
   ]
  }
 ],
 "metadata": {
  "kernelspec": {
   "display_name": "Python 3",
   "language": "python",
   "name": "python3"
  },
  "language_info": {
   "codemirror_mode": {
    "name": "ipython",
    "version": 3
   },
   "file_extension": ".py",
   "mimetype": "text/x-python",
   "name": "python",
   "nbconvert_exporter": "python",
   "pygments_lexer": "ipython3",
   "version": "3.6.5"
  }
 },
 "nbformat": 4,
 "nbformat_minor": 2
}
