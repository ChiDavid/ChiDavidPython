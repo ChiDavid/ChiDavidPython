{
 "cells": [
  {
   "cell_type": "code",
   "execution_count": 1,
   "metadata": {},
   "outputs": [
    {
     "name": "stdout",
     "output_type": "stream",
     "text": [
      "env: KERAS_BACKEND=tensorflow\n"
     ]
    }
   ],
   "source": [
    "%matplotlib inline\n",
    "%env KERAS_BACKEND = tensorflow\n",
    "\n",
    "import time\n",
    "import locale\n",
    "import random\n",
    "import numpy as np\n",
    "import pandas as pd\n",
    "import matplotlib as mpl\n",
    "import matplotlib.pyplot as plt\n",
    "\n",
    "from ipywidgets import interact\n",
    "from ipywidgets import interact_manual\n",
    "from sklearn.linear_model import LinearRegression\n",
    "from matplotlib.font_manager import FontProperties\n",
    "from sklearn.model_selection import train_test_split\n",
    "\n",
    "myfont = FontProperties(fname = r'c:\\windows\\fonts\\simsun.ttc', size = 14)"
   ]
  },
  {
   "cell_type": "code",
   "execution_count": 2,
   "metadata": {},
   "outputs": [
    {
     "name": "stderr",
     "output_type": "stream",
     "text": [
      "Using TensorFlow backend.\n"
     ]
    }
   ],
   "source": [
    "# MNIST for dataset\n",
    "from keras.datasets import mnist\n",
    "\n",
    "#Functional API\n",
    "from keras.models import Sequential, Model\n",
    "from keras.layers import Dense, Activation, Input, concatenate, add\n",
    "from keras.optimizers import SGD\n",
    "\n",
    "# something userful\n",
    "from keras.utils import np_utils\n",
    "\n",
    "(x_train, y_train), (x_test, y_test) = mnist.load_data()"
   ]
  },
  {
   "cell_type": "code",
   "execution_count": 3,
   "metadata": {},
   "outputs": [
    {
     "name": "stdout",
     "output_type": "stream",
     "text": [
      "Training data : 60000 , with size 28 x 28\n",
      "Testing  data : 10000 , with size 28 x 28\n"
     ]
    }
   ],
   "source": [
    "print(\"Training data : %d , with size %d x %d\" %x_train.shape)\n",
    "print(\"Testing  data : %d , with size %d x %d\" %x_test.shape)"
   ]
  },
  {
   "cell_type": "code",
   "execution_count": 4,
   "metadata": {},
   "outputs": [
    {
     "data": {
      "text/plain": [
       "60000"
      ]
     },
     "execution_count": 4,
     "metadata": {},
     "output_type": "execute_result"
    }
   ],
   "source": [
    "len(x_train)"
   ]
  },
  {
   "cell_type": "code",
   "execution_count": 5,
   "metadata": {
    "scrolled": true
   },
   "outputs": [
    {
     "data": {
      "text/plain": [
       "10000"
      ]
     },
     "execution_count": 5,
     "metadata": {},
     "output_type": "execute_result"
    }
   ],
   "source": [
    "len(x_test)"
   ]
  },
  {
   "cell_type": "code",
   "execution_count": 6,
   "metadata": {},
   "outputs": [],
   "source": [
    "x_train = x_train.reshape(60000, 784)"
   ]
  },
  {
   "cell_type": "code",
   "execution_count": 7,
   "metadata": {},
   "outputs": [],
   "source": [
    "x_test = x_test.reshape(10000, 784)"
   ]
  },
  {
   "cell_type": "markdown",
   "metadata": {},
   "source": [
    "將資料先進行正規化處理，資料線性單位化至[0,1]"
   ]
  },
  {
   "cell_type": "code",
   "execution_count": 8,
   "metadata": {},
   "outputs": [],
   "source": [
    "x_train_normalization = ( x_train - x_train.min() ) / ( x_train.max() - x_train.min() )#[NCTS]DavidChi\n",
    "x_test_normalization = ( x_test - x_test.min() ) / ( x_test.max() - x_test.min() )"
   ]
  },
  {
   "cell_type": "code",
   "execution_count": 9,
   "metadata": {},
   "outputs": [
    {
     "data": {
      "text/plain": [
       "(1.0, 0.0)"
      ]
     },
     "execution_count": 9,
     "metadata": {},
     "output_type": "execute_result"
    }
   ],
   "source": [
    "x_train_normalization.max(), x_train_normalization.min()"
   ]
  },
  {
   "cell_type": "code",
   "execution_count": 10,
   "metadata": {},
   "outputs": [
    {
     "data": {
      "text/plain": [
       "(1.0, 0.0)"
      ]
     },
     "execution_count": 10,
     "metadata": {},
     "output_type": "execute_result"
    }
   ],
   "source": [
    "x_test_normalization.max(), x_test_normalization.min()"
   ]
  },
  {
   "cell_type": "markdown",
   "metadata": {},
   "source": [
    "準備另一個 Label，將 0 ~ 9 分成偶數（y = 0）、奇數（y = 1）"
   ]
  },
  {
   "cell_type": "code",
   "execution_count": 11,
   "metadata": {},
   "outputs": [],
   "source": [
    "y_train = np_utils.to_categorical(y_train, 10)\n",
    "y_test = np_utils.to_categorical(y_test, 10)"
   ]
  },
  {
   "cell_type": "markdown",
   "metadata": {},
   "source": [
    "確認產生奇偶數的狀態"
   ]
  },
  {
   "cell_type": "code",
   "execution_count": 12,
   "metadata": {},
   "outputs": [],
   "source": [
    "y_train_eo = np.ones_like(y_train)\n",
    "y_train_eo[y_train%2==0] = 0\n",
    "\n",
    "y_test_eo = np.ones_like(y_test)\n",
    "y_test_eo[y_test%2==0] = 0"
   ]
  },
  {
   "cell_type": "code",
   "execution_count": 13,
   "metadata": {},
   "outputs": [
    {
     "data": {
      "text/plain": [
       "([array([54077.,     0.,     0.,     0.,     0.,     0.,     0.,     0.,\n",
       "             0.,  5923.]),\n",
       "  array([53258.,     0.,     0.,     0.,     0.,     0.,     0.,     0.,\n",
       "             0.,  6742.]),\n",
       "  array([54042.,     0.,     0.,     0.,     0.,     0.,     0.,     0.,\n",
       "             0.,  5958.]),\n",
       "  array([53869.,     0.,     0.,     0.,     0.,     0.,     0.,     0.,\n",
       "             0.,  6131.]),\n",
       "  array([54158.,     0.,     0.,     0.,     0.,     0.,     0.,     0.,\n",
       "             0.,  5842.]),\n",
       "  array([54579.,     0.,     0.,     0.,     0.,     0.,     0.,     0.,\n",
       "             0.,  5421.]),\n",
       "  array([54082.,     0.,     0.,     0.,     0.,     0.,     0.,     0.,\n",
       "             0.,  5918.]),\n",
       "  array([53735.,     0.,     0.,     0.,     0.,     0.,     0.,     0.,\n",
       "             0.,  6265.]),\n",
       "  array([54149.,     0.,     0.,     0.,     0.,     0.,     0.,     0.,\n",
       "             0.,  5851.]),\n",
       "  array([54051.,     0.,     0.,     0.,     0.,     0.,     0.,     0.,\n",
       "             0.,  5949.])],\n",
       " array([0. , 0.1, 0.2, 0.3, 0.4, 0.5, 0.6, 0.7, 0.8, 0.9, 1. ]),\n",
       " <a list of 10 Lists of Patches objects>)"
      ]
     },
     "execution_count": 13,
     "metadata": {},
     "output_type": "execute_result"
    },
    {
     "data": {
      "image/png": "[encoded data removed]",
      "text/plain": [
       "<Figure size 432x288 with 1 Axes>"
      ]
     },
     "metadata": {},
     "output_type": "display_data"
    }
   ],
   "source": [
    "plt.hist(y_train_eo)"
   ]
  },
  {
   "cell_type": "code",
   "execution_count": 14,
   "metadata": {
    "scrolled": true
   },
   "outputs": [
    {
     "data": {
      "text/plain": [
       "([array([9020.,    0.,    0.,    0.,    0.,    0.,    0.,    0.,    0.,\n",
       "          980.]),\n",
       "  array([8865.,    0.,    0.,    0.,    0.,    0.,    0.,    0.,    0.,\n",
       "         1135.]),\n",
       "  array([8968.,    0.,    0.,    0.,    0.,    0.,    0.,    0.,    0.,\n",
       "         1032.]),\n",
       "  array([8990.,    0.,    0.,    0.,    0.,    0.,    0.,    0.,    0.,\n",
       "         1010.]),\n",
       "  array([9018.,    0.,    0.,    0.,    0.,    0.,    0.,    0.,    0.,\n",
       "          982.]),\n",
       "  array([9108.,    0.,    0.,    0.,    0.,    0.,    0.,    0.,    0.,\n",
       "          892.]),\n",
       "  array([9042.,    0.,    0.,    0.,    0.,    0.,    0.,    0.,    0.,\n",
       "          958.]),\n",
       "  array([8972.,    0.,    0.,    0.,    0.,    0.,    0.,    0.,    0.,\n",
       "         1028.]),\n",
       "  array([9026.,    0.,    0.,    0.,    0.,    0.,    0.,    0.,    0.,\n",
       "          974.]),\n",
       "  array([8991.,    0.,    0.,    0.,    0.,    0.,    0.,    0.,    0.,\n",
       "         1009.])],\n",
       " array([0. , 0.1, 0.2, 0.3, 0.4, 0.5, 0.6, 0.7, 0.8, 0.9, 1. ]),\n",
       " <a list of 10 Lists of Patches objects>)"
      ]
     },
     "execution_count": 14,
     "metadata": {},
     "output_type": "execute_result"
    },
    {
     "data": {
      "image/png": "[encoded data removed]",
      "text/plain": [
       "<Figure size 432x288 with 1 Axes>"
      ]
     },
     "metadata": {},
     "output_type": "display_data"
    }
   ],
   "source": [
    "plt.hist(y_test_eo)"
   ]
  },
  {
   "cell_type": "code",
   "execution_count": 15,
   "metadata": {},
   "outputs": [],
   "source": [
    "Layer_01 = [Dense(200, input_dim = 28 * 28), \n",
    "            Activation('sigmoid'),\n",
    "            Dense(200),\n",
    "            Activation('sigmoid')\n",
    "           ]\n",
    "\n",
    "Layer_02 = [Dense(100, input_dim = 28 * 28), \n",
    "            Activation('sigmoid'),\n",
    "            Dense(100),\n",
    "            Activation('sigmoid')\n",
    "           ]\n",
    "\n",
    "Layer_99 = [Dense(10), Activation('softmax')]"
   ]
  },
  {
   "cell_type": "code",
   "execution_count": 16,
   "metadata": {
    "scrolled": true
   },
   "outputs": [
    {
     "name": "stdout",
     "output_type": "stream",
     "text": [
      "_________________________________________________________________\n",
      "Layer (type)                 Output Shape              Param #   \n",
      "=================================================================\n",
      "dense_1 (Dense)              (None, 200)               157000    \n",
      "_________________________________________________________________\n",
      "activation_1 (Activation)    (None, 200)               0         \n",
      "_________________________________________________________________\n",
      "dense_2 (Dense)              (None, 200)               40200     \n",
      "_________________________________________________________________\n",
      "activation_2 (Activation)    (None, 200)               0         \n",
      "_________________________________________________________________\n",
      "dense_3 (Dense)              (None, 100)               20100     \n",
      "_________________________________________________________________\n",
      "activation_3 (Activation)    (None, 100)               0         \n",
      "_________________________________________________________________\n",
      "dense_4 (Dense)              (None, 100)               10100     \n",
      "_________________________________________________________________\n",
      "activation_4 (Activation)    (None, 100)               0         \n",
      "_________________________________________________________________\n",
      "dense_5 (Dense)              (None, 10)                1010      \n",
      "_________________________________________________________________\n",
      "activation_5 (Activation)    (None, 10)                0         \n",
      "=================================================================\n",
      "Total params: 228,410\n",
      "Trainable params: 228,410\n",
      "Non-trainable params: 0\n",
      "_________________________________________________________________\n"
     ]
    }
   ],
   "source": [
    "model_num = Sequential(Layer_01 + Layer_02 + Layer_99)\n",
    "model_num.summary()"
   ]
  },
  {
   "cell_type": "code",
   "execution_count": 17,
   "metadata": {},
   "outputs": [
    {
     "name": "stdout",
     "output_type": "stream",
     "text": [
      "Train on 60000 samples, validate on 10000 samples\n",
      "Epoch 1/20\n",
      "60000/60000 [==============================] - 3s 51us/step - loss: 0.3295 - acc: 0.9000 - val_loss: 0.3253 - val_acc: 0.9000\n",
      "Epoch 2/20\n",
      "60000/60000 [==============================] - 3s 44us/step - loss: 0.3251 - acc: 0.9000 - val_loss: 0.3250 - val_acc: 0.9000\n",
      "Epoch 3/20\n",
      "60000/60000 [==============================] - 3s 45us/step - loss: 0.3250 - acc: 0.9000 - val_loss: 0.3249 - val_acc: 0.9000\n",
      "Epoch 4/20\n",
      "60000/60000 [==============================] - 3s 43us/step - loss: 0.3250 - acc: 0.9000 - val_loss: 0.3249 - val_acc: 0.9000\n",
      "Epoch 5/20\n",
      "60000/60000 [==============================] - 3s 45us/step - loss: 0.3250 - acc: 0.9000 - val_loss: 0.3249 - val_acc: 0.9000\n",
      "Epoch 6/20\n",
      "60000/60000 [==============================] - 3s 48us/step - loss: 0.3250 - acc: 0.9000 - val_loss: 0.3249 - val_acc: 0.9000\n",
      "Epoch 7/20\n",
      "60000/60000 [==============================] - 3s 44us/step - loss: 0.3250 - acc: 0.9000 - val_loss: 0.3249 - val_acc: 0.9000\n",
      "Epoch 8/20\n",
      "60000/60000 [==============================] - 3s 44us/step - loss: 0.3250 - acc: 0.9000 - val_loss: 0.3249 - val_acc: 0.9000\n",
      "Epoch 9/20\n",
      "60000/60000 [==============================] - 2s 41us/step - loss: 0.3250 - acc: 0.9000 - val_loss: 0.3249 - val_acc: 0.9000\n",
      "Epoch 10/20\n",
      "60000/60000 [==============================] - 2s 39us/step - loss: 0.3249 - acc: 0.9000 - val_loss: 0.3249 - val_acc: 0.9000\n",
      "Epoch 11/20\n",
      "60000/60000 [==============================] - 2s 40us/step - loss: 0.3249 - acc: 0.9000 - val_loss: 0.3249 - val_acc: 0.9000\n",
      "Epoch 12/20\n",
      "60000/60000 [==============================] - 2s 37us/step - loss: 0.3249 - acc: 0.9000 - val_loss: 0.3249 - val_acc: 0.9000\n",
      "Epoch 13/20\n",
      "60000/60000 [==============================] - 2s 39us/step - loss: 0.3249 - acc: 0.9000 - val_loss: 0.3249 - val_acc: 0.9000\n",
      "Epoch 14/20\n",
      "60000/60000 [==============================] - 2s 39us/step - loss: 0.3249 - acc: 0.9000 - val_loss: 0.3249 - val_acc: 0.9000\n",
      "Epoch 15/20\n",
      "60000/60000 [==============================] - 2s 41us/step - loss: 0.3249 - acc: 0.9000 - val_loss: 0.3249 - val_acc: 0.9000\n",
      "Epoch 16/20\n",
      "60000/60000 [==============================] - 2s 40us/step - loss: 0.3249 - acc: 0.9000 - val_loss: 0.3249 - val_acc: 0.9000\n",
      "Epoch 17/20\n",
      "60000/60000 [==============================] - 3s 48us/step - loss: 0.3249 - acc: 0.9000 - val_loss: 0.3249 - val_acc: 0.9000\n",
      "Epoch 18/20\n",
      "60000/60000 [==============================] - 2s 37us/step - loss: 0.3249 - acc: 0.9000 - val_loss: 0.3249 - val_acc: 0.9000\n",
      "Epoch 19/20\n",
      "60000/60000 [==============================] - 2s 37us/step - loss: 0.3249 - acc: 0.9000 - val_loss: 0.3249 - val_acc: 0.9000\n",
      "Epoch 20/20\n",
      "60000/60000 [==============================] - 2s 37us/step - loss: 0.3249 - acc: 0.9000 - val_loss: 0.3249 - val_acc: 0.9000\n"
     ]
    }
   ],
   "source": [
    "model_num.compile(loss = 'binary_crossentropy', optimizer = SGD(lr = 0.01), metrics = ['acc'])\n",
    "model_num_result = model_num.fit(x_train_normalization, y_train, batch_size = 100, epochs = 20, verbose = 1, validation_data = (x_test_normalization, y_test))"
   ]
  },
  {
   "cell_type": "code",
   "execution_count": 18,
   "metadata": {},
   "outputs": [
    {
     "name": "stdout",
     "output_type": "stream",
     "text": [
      "10000/10000 [==============================] - 0s 32us/step\n",
      "model_num loss 0.3248772743225098\n",
      "model_num 正確率 89.99999761581421 %\n"
     ]
    }
   ],
   "source": [
    "score_num = model_num.evaluate(x_test_normalization, y_test)\n",
    "print('model_num loss',score_num[0])\n",
    "print('model_num 正確率',score_num[1] * 100 ,'%')"
   ]
  },
  {
   "cell_type": "code",
   "execution_count": 19,
   "metadata": {},
   "outputs": [],
   "source": [
    "x = Input(shape = (784,))"
   ]
  },
  {
   "cell_type": "code",
   "execution_count": 20,
   "metadata": {},
   "outputs": [
    {
     "data": {
      "text/plain": [
       "<tf.Tensor 'input_1:0' shape=(?, 784) dtype=float32>"
      ]
     },
     "execution_count": 20,
     "metadata": {},
     "output_type": "execute_result"
    }
   ],
   "source": [
    "x"
   ]
  },
  {
   "cell_type": "code",
   "execution_count": 21,
   "metadata": {},
   "outputs": [],
   "source": [
    "f_1 = Dense(200, activation = 'sigmoid')\n",
    "f_2 = Dense(200, activation = 'sigmoid')\n",
    "f_3 = Dense(100, activation = 'sigmoid')\n",
    "f_4 = Dense(100, activation = 'relu')\n",
    "f_5 = Dense(100, activation = 'relu')\n",
    "f_6 = Dense(50, activation = 'relu')\n",
    "f_7 = Dense(30, activation = 'elu')\n",
    "f_8 = Dense(30, activation = 'elu')\n",
    "f_9 = Dense(10, activation = 'softmax')"
   ]
  },
  {
   "cell_type": "code",
   "execution_count": 22,
   "metadata": {},
   "outputs": [],
   "source": [
    "h_1 = f_1(x)\n",
    "h_2 = f_2(x)\n",
    "u = concatenate([h_1, h_2])\n",
    "\n",
    "h_3 = f_3(u)\n",
    "h_4 = f_4(h_3)\n",
    "h_5 = f_5(h_3)\n",
    "v = concatenate([h_4, h_5])\n",
    "\n",
    "h_6 = f_6(v)\n",
    "h_7 = f_7(h_6)\n",
    "h_8 = f_8(h_6)\n",
    "w = concatenate([h_7, h_8])\n",
    "\n",
    "y = f_9(w)"
   ]
  },
  {
   "cell_type": "code",
   "execution_count": 23,
   "metadata": {},
   "outputs": [
    {
     "name": "stdout",
     "output_type": "stream",
     "text": [
      "Tensor(\"input_1:0\", shape=(?, 784), dtype=float32)\n",
      "\n"
     ]
    },
    {
     "data": {
      "text/plain": [
       "(None, None)"
      ]
     },
     "execution_count": 23,
     "metadata": {},
     "output_type": "execute_result"
    }
   ],
   "source": [
    "print(x), print()"
   ]
  },
  {
   "cell_type": "code",
   "execution_count": 24,
   "metadata": {},
   "outputs": [
    {
     "name": "stdout",
     "output_type": "stream",
     "text": [
      "__________________________________________________________________________________________________\n",
      "Layer (type)                    Output Shape         Param #     Connected to                     \n",
      "==================================================================================================\n",
      "input_1 (InputLayer)            (None, 784)          0                                            \n",
      "__________________________________________________________________________________________________\n",
      "dense_6 (Dense)                 (None, 200)          157000      input_1[0][0]                    \n",
      "__________________________________________________________________________________________________\n",
      "dense_7 (Dense)                 (None, 200)          157000      input_1[0][0]                    \n",
      "__________________________________________________________________________________________________\n",
      "concatenate_1 (Concatenate)     (None, 400)          0           dense_6[0][0]                    \n",
      "                                                                 dense_7[0][0]                    \n",
      "__________________________________________________________________________________________________\n",
      "dense_8 (Dense)                 (None, 100)          40100       concatenate_1[0][0]              \n",
      "__________________________________________________________________________________________________\n",
      "dense_9 (Dense)                 (None, 100)          10100       dense_8[0][0]                    \n",
      "__________________________________________________________________________________________________\n",
      "dense_10 (Dense)                (None, 100)          10100       dense_8[0][0]                    \n",
      "__________________________________________________________________________________________________\n",
      "concatenate_2 (Concatenate)     (None, 200)          0           dense_9[0][0]                    \n",
      "                                                                 dense_10[0][0]                   \n",
      "__________________________________________________________________________________________________\n",
      "dense_11 (Dense)                (None, 50)           10050       concatenate_2[0][0]              \n",
      "__________________________________________________________________________________________________\n",
      "dense_12 (Dense)                (None, 30)           1530        dense_11[0][0]                   \n",
      "__________________________________________________________________________________________________\n",
      "dense_13 (Dense)                (None, 30)           1530        dense_11[0][0]                   \n",
      "__________________________________________________________________________________________________\n",
      "concatenate_3 (Concatenate)     (None, 60)           0           dense_12[0][0]                   \n",
      "                                                                 dense_13[0][0]                   \n",
      "__________________________________________________________________________________________________\n",
      "dense_14 (Dense)                (None, 10)           610         concatenate_3[0][0]              \n",
      "==================================================================================================\n",
      "Total params: 388,020\n",
      "Trainable params: 388,020\n",
      "Non-trainable params: 0\n",
      "__________________________________________________________________________________________________\n"
     ]
    }
   ],
   "source": [
    "model = Model(x, y)\n",
    "model.summary()"
   ]
  },
  {
   "cell_type": "code",
   "execution_count": 25,
   "metadata": {
    "scrolled": true
   },
   "outputs": [
    {
     "name": "stdout",
     "output_type": "stream",
     "text": [
      "Train on 60000 samples, validate on 10000 samples\n",
      "Epoch 1/20\n",
      "60000/60000 [==============================] - 4s 67us/step - loss: 0.3251 - acc: 0.9000 - val_loss: 0.3242 - val_acc: 0.9000\n",
      "Epoch 2/20\n",
      "60000/60000 [==============================] - 3s 56us/step - loss: 0.3237 - acc: 0.9000 - val_loss: 0.3232 - val_acc: 0.9000\n",
      "Epoch 3/20\n",
      "60000/60000 [==============================] - 3s 55us/step - loss: 0.3228 - acc: 0.9000 - val_loss: 0.3223 - val_acc: 0.9000\n",
      "Epoch 4/20\n",
      "60000/60000 [==============================] - 4s 59us/step - loss: 0.3218 - acc: 0.9000 - val_loss: 0.3212 - val_acc: 0.9000\n",
      "Epoch 5/20\n",
      "60000/60000 [==============================] - 4s 65us/step - loss: 0.3206 - acc: 0.9000 - val_loss: 0.3199 - val_acc: 0.9000\n",
      "Epoch 6/20\n",
      "60000/60000 [==============================] - 5s 79us/step - loss: 0.3193 - acc: 0.9000 - val_loss: 0.3184 - val_acc: 0.9000\n",
      "Epoch 7/20\n",
      "60000/60000 [==============================] - 4s 74us/step - loss: 0.3176 - acc: 0.9000 - val_loss: 0.3165 - val_acc: 0.9000\n",
      "Epoch 8/20\n",
      "60000/60000 [==============================] - 5s 88us/step - loss: 0.3155 - acc: 0.9000 - val_loss: 0.3141 - val_acc: 0.9000\n",
      "Epoch 9/20\n",
      "60000/60000 [==============================] - 4s 74us/step - loss: 0.3128 - acc: 0.9000 - val_loss: 0.3108 - val_acc: 0.9000\n",
      "Epoch 10/20\n",
      "60000/60000 [==============================] - 5s 77us/step - loss: 0.3090 - acc: 0.9000 - val_loss: 0.3064 - val_acc: 0.9000\n",
      "Epoch 11/20\n",
      "60000/60000 [==============================] - 6s 93us/step - loss: 0.3037 - acc: 0.9000 - val_loss: 0.3000 - val_acc: 0.9000\n",
      "Epoch 12/20\n",
      "60000/60000 [==============================] - 4s 71us/step - loss: 0.2966 - acc: 0.9000 - val_loss: 0.2920 - val_acc: 0.9000\n",
      "Epoch 13/20\n",
      "60000/60000 [==============================] - 5s 89us/step - loss: 0.2878 - acc: 0.9000 - val_loss: 0.2823 - val_acc: 0.9001\n",
      "Epoch 14/20\n",
      "60000/60000 [==============================] - 7s 115us/step - loss: 0.2776 - acc: 0.9010 - val_loss: 0.2718 - val_acc: 0.9025\n",
      "Epoch 15/20\n",
      "60000/60000 [==============================] - 6s 102us/step - loss: 0.2671 - acc: 0.9034 - val_loss: 0.2612 - val_acc: 0.9042\n",
      "Epoch 16/20\n",
      "60000/60000 [==============================] - 6s 102us/step - loss: 0.2565 - acc: 0.9049 - val_loss: 0.2504 - val_acc: 0.9049\n",
      "Epoch 17/20\n",
      "60000/60000 [==============================] - 5s 84us/step - loss: 0.2454 - acc: 0.9057 - val_loss: 0.2389 - val_acc: 0.9062\n",
      "Epoch 18/20\n",
      "60000/60000 [==============================] - 4s 72us/step - loss: 0.2335 - acc: 0.9102 - val_loss: 0.2266 - val_acc: 0.9145\n",
      "Epoch 19/20\n",
      "60000/60000 [==============================] - 5s 86us/step - loss: 0.2209 - acc: 0.9162 - val_loss: 0.2138 - val_acc: 0.9183\n",
      "Epoch 20/20\n",
      "60000/60000 [==============================] - 5s 76us/step - loss: 0.2083 - acc: 0.9191 - val_loss: 0.2015 - val_acc: 0.9198\n"
     ]
    }
   ],
   "source": [
    "model.compile(loss = 'binary_crossentropy', optimizer = SGD(lr = 0.01), metrics = ['acc'])\n",
    "model_result = model.fit(x_train_normalization, y_train, batch_size = 100, epochs = 20, verbose = 1, validation_data = (x_test_normalization, y_test))"
   ]
  },
  {
   "cell_type": "code",
   "execution_count": 26,
   "metadata": {},
   "outputs": [
    {
     "name": "stdout",
     "output_type": "stream",
     "text": [
      "10000/10000 [==============================] - 0s 43us/step\n",
      "model loss 0.20151929450035094\n",
      "model 正確率 91.97599711418152 %\n"
     ]
    }
   ],
   "source": [
    "score = model.evaluate(x_test_normalization, y_test)\n",
    "print('model loss',score[0])\n",
    "print('model 正確率',score[1] * 100 ,'%')"
   ]
  },
  {
   "cell_type": "code",
   "execution_count": 27,
   "metadata": {},
   "outputs": [
    {
     "data": {
      "image/png": "[encoded data removed]",
      "text/plain": [
       "<Figure size 432x288 with 1 Axes>"
      ]
     },
     "metadata": {},
     "output_type": "display_data"
    }
   ],
   "source": [
    "plt.plot(model_result.history['acc'])\n",
    "plt.plot(model_num_result.history['acc'])\n",
    "\n",
    "plt.title('model training accuracy')\n",
    "plt.ylabel('accuracy')\n",
    "plt.xlabel('epoch')\n",
    "plt.legend(['model','model_num'],loc = 'best')\n",
    "plt.show()"
   ]
  },
  {
   "cell_type": "code",
   "execution_count": 28,
   "metadata": {},
   "outputs": [],
   "source": [
    "model_json = model.to_json()\n",
    "open('[NCTS]_Homework_Q8-1_Functional_API_DavidChi.json', 'w').write(model_json)\n",
    "model.save_weights('[NCTS]_Homework_Q8-1_Functional_API_DavidChi.h5')"
   ]
  },
  {
   "cell_type": "code",
   "execution_count": null,
   "metadata": {},
   "outputs": [],
   "source": []
  }
 ],
 "metadata": {
  "kernelspec": {
   "display_name": "Python 3",
   "language": "python",
   "name": "python3"
  },
  "language_info": {
   "codemirror_mode": {
    "name": "ipython",
    "version": 3
   },
   "file_extension": ".py",
   "mimetype": "text/x-python",
   "name": "python",
   "nbconvert_exporter": "python",
   "pygments_lexer": "ipython3",
   "version": "3.6.5"
  }
 },
 "nbformat": 4,
 "nbformat_minor": 2
}
