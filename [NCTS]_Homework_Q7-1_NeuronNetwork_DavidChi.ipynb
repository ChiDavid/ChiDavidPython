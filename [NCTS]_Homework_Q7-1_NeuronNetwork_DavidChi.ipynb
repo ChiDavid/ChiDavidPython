{
 "cells": [
  {
   "cell_type": "code",
   "execution_count": 1,
   "metadata": {},
   "outputs": [
    {
     "name": "stdout",
     "output_type": "stream",
     "text": [
      "env: KERAS_BACKEND=tensorflow\n"
     ]
    }
   ],
   "source": [
    "%matplotlib inline\n",
    "%env KERAS_BACKEND = tensorflow\n",
    "\n",
    "import time\n",
    "import locale\n",
    "import random\n",
    "import numpy as np\n",
    "import pandas as pd\n",
    "import matplotlib as mpl\n",
    "import matplotlib.pyplot as plt\n",
    "\n",
    "from ipywidgets import interact\n",
    "from sklearn.linear_model import LinearRegression\n",
    "from matplotlib.font_manager import FontProperties\n",
    "from sklearn.model_selection import train_test_split\n",
    "\n",
    "myfont = FontProperties(fname = r'c:\\windows\\fonts\\simsun.ttc', size = 14)"
   ]
  },
  {
   "cell_type": "code",
   "execution_count": 2,
   "metadata": {},
   "outputs": [
    {
     "name": "stderr",
     "output_type": "stream",
     "text": [
      "Using TensorFlow backend.\n"
     ]
    }
   ],
   "source": [
    "from keras.datasets import mnist\n",
    "\n",
    "(x_train, y_train), (x_test, y_test) = mnist.load_data()"
   ]
  },
  {
   "cell_type": "code",
   "execution_count": 3,
   "metadata": {},
   "outputs": [
    {
     "data": {
      "text/plain": [
       "60000"
      ]
     },
     "execution_count": 3,
     "metadata": {},
     "output_type": "execute_result"
    }
   ],
   "source": [
    "len(x_train)"
   ]
  },
  {
   "cell_type": "code",
   "execution_count": 4,
   "metadata": {},
   "outputs": [
    {
     "data": {
      "text/plain": [
       "10000"
      ]
     },
     "execution_count": 4,
     "metadata": {},
     "output_type": "execute_result"
    }
   ],
   "source": [
    "len(x_test)"
   ]
  },
  {
   "cell_type": "code",
   "execution_count": 5,
   "metadata": {},
   "outputs": [],
   "source": [
    "X = x_train[87]"
   ]
  },
  {
   "cell_type": "code",
   "execution_count": 6,
   "metadata": {},
   "outputs": [
    {
     "data": {
      "text/plain": [
       "array([[  0,   0,   0,   0,   0,   0,   0,   0,   0,   0,   0,   0,   0,\n",
       "          0,   0,   0,   0,   0,   0,   0,   0,   0,   0,   0,   0,   0,\n",
       "          0,   0],\n",
       "       [  0,   0,   0,   0,   0,   0,   0,   0,   0,   0,   0,   0,   0,\n",
       "          0,   0,   0,   0,   0,   0,   0,   0,   0,   0,   0,   0,   0,\n",
       "          0,   0],\n",
       "       [  0,   0,   0,   0,   0,   0,   0,   0,   0,   0,   0,   0,   0,\n",
       "          0,   0,   0,   0,   0,   0,   0,   0,   0,   0,   0,   0,   0,\n",
       "          0,   0],\n",
       "       [  0,   0,   0,   0,   0,   0,   0,   0,   0,   0,   0,   0,   0,\n",
       "          0,   0,   0,   0,   0,   0,   0,   0,   0,   0,   0,   0,   0,\n",
       "          0,   0],\n",
       "       [  0,   0,   0,   0,   0,   0,   0,   0,   0,   0,   0,   0,   0,\n",
       "          0,   0,   0,   0,   0,   0,   0,   0,   0,   0,   0,   0,   0,\n",
       "          0,   0],\n",
       "       [  0,   0,   0,   0,   0,   0,   0,   0,   0,   0,   0,   0,   0,\n",
       "          0,   0,   0,   0,   0,   0,   0,   0,   0,   0,   0,   0,   0,\n",
       "          0,   0],\n",
       "       [  0,   0,   0,   0,   0,   0,   0,   0,   0,   0,   0,   0,   0,\n",
       "          0,   0,   0,   0,   0,   0,   0,   0,   0,   0,   0,   0,   0,\n",
       "          0,   0],\n",
       "       [  0,   0,   0,   0,   0,   0,   0,   0,   0,   0,   0,   0,  39,\n",
       "        125, 225, 254, 254, 255, 254, 170,  48,   0,   0,   0,   0,   0,\n",
       "          0,   0],\n",
       "       [  0,   0,   0,   0,   0,   0,   0,   0,   0,   0,  43, 101, 250,\n",
       "        253, 253, 253, 253, 253, 253, 253, 250, 161,   0,   0,   0,   0,\n",
       "          0,   0],\n",
       "       [  0,   0,   0,   0,   0,   0,   0,   0,   0,  94, 246, 247, 253,\n",
       "        253, 196, 227, 116,  56, 253, 253, 253, 234,   0,   0,   0,   0,\n",
       "          0,   0],\n",
       "       [  0,   0,   0,   0,   0,   0,   0,   0,   0, 152, 253, 253, 180,\n",
       "         19,   9,  15,   0,   4,  55, 253, 253, 166,   0,   0,   0,   0,\n",
       "          0,   0],\n",
       "       [  0,   0,   0,   0,   0,   0,   0,   0,  41, 238, 253, 253, 125,\n",
       "          0,   0,   0,  21, 189, 232, 253, 253, 117,   0,   0,   0,   0,\n",
       "          0,   0],\n",
       "       [  0,   0,   0,   0,   0,   0,   0,   0, 219, 253, 220, 165,  34,\n",
       "         92,  21,  52, 228, 253, 253, 241,  82,  13,   0,   0,   0,   0,\n",
       "          0,   0],\n",
       "       [  0,   0,   0,   0,   0,   0,   0,  38, 241, 170,  25,  20,  12,\n",
       "         75,  39,  59, 253, 253, 253, 110,   0,   0,   0,   0,   0,   0,\n",
       "          0,   0],\n",
       "       [  0,   0,   0,   0,   0,   0,   0, 112, 253, 236,  67,   0,   0,\n",
       "          0,   0, 100, 253, 253, 221,  16,   0,   0,   0,   0,   0,   0,\n",
       "          0,   0],\n",
       "       [  0,   0,   0,   0,   0,   0,   0,  23, 239, 253, 235, 202, 135,\n",
       "         99, 173, 240, 253, 253, 110,   0,   0,   0,   0,   0,   0,   0,\n",
       "          0,   0],\n",
       "       [  0,   0,   0,   0,   0,   0,   0,   0,  54, 200, 253, 253, 253,\n",
       "        253, 253, 253, 253, 241,  63,   0,   0,   0,   0,   0,   0,   0,\n",
       "          0,   0],\n",
       "       [  0,   0,   0,   0,   0,   0,   0,   0,   0,  25, 112, 244, 253,\n",
       "        237, 142, 253, 253, 111,   0,   0,   0,   0,   0,   0,   0,   0,\n",
       "          0,   0],\n",
       "       [  0,   0,   0,   0,   0,   0,   0,   0,   0,   0,   0,  61,  71,\n",
       "         51, 159, 253, 188,  22,   0,   0,   0,   0,   0,   0,   0,   0,\n",
       "          0,   0],\n",
       "       [  0,   0,   0,   0,   0,   0,   0,   0,   0,   0,   0,   0,  15,\n",
       "        150, 236, 212,  22,   0,   0,   0,   0,   0,   0,   0,   0,   0,\n",
       "          0,   0],\n",
       "       [  0,   0,   0,   0,   0,   0,   0,   0,   0,   0,   0,   0,  99,\n",
       "        253, 243,  98,   0,   0,   0,   0,   0,   0,   0,   0,   0,   0,\n",
       "          0,   0],\n",
       "       [  0,   0,   0,   0,   0,   0,   0,   0,   0,   0,   0,  72, 237,\n",
       "        253, 105,   0,   0,   0,   0,   0,   0,   0,   0,   0,   0,   0,\n",
       "          0,   0],\n",
       "       [  0,   0,   0,   0,   0,   0,   0,   0,   0,   0,  10, 219, 253,\n",
       "        195,  22,   0,   0,   0,   0,   0,   0,   0,   0,   0,   0,   0,\n",
       "          0,   0],\n",
       "       [  0,   0,   0,   0,   0,   0,   0,   0,   0,   8, 171, 253, 207,\n",
       "         21,   0,   0,   0,   0,   0,   0,   0,   0,   0,   0,   0,   0,\n",
       "          0,   0],\n",
       "       [  0,   0,   0,   0,   0,   0,   0,   0,   0, 105, 253, 198,  76,\n",
       "          0,   0,   0,   0,   0,   0,   0,   0,   0,   0,   0,   0,   0,\n",
       "          0,   0],\n",
       "       [  0,   0,   0,   0,   0,   0,   0,   0,  60, 242, 253,  38,   0,\n",
       "          0,   0,   0,   0,   0,   0,   0,   0,   0,   0,   0,   0,   0,\n",
       "          0,   0],\n",
       "       [  0,   0,   0,   0,   0,   0,   0,   0, 235, 253, 206,  19,   0,\n",
       "          0,   0,   0,   0,   0,   0,   0,   0,   0,   0,   0,   0,   0,\n",
       "          0,   0],\n",
       "       [  0,   0,   0,   0,   0,   0,   0,   0,   0,   0,   0,   0,   0,\n",
       "          0,   0,   0,   0,   0,   0,   0,   0,   0,   0,   0,   0,   0,\n",
       "          0,   0]], dtype=uint8)"
      ]
     },
     "execution_count": 6,
     "metadata": {},
     "output_type": "execute_result"
    }
   ],
   "source": [
    "X"
   ]
  },
  {
   "cell_type": "code",
   "execution_count": 7,
   "metadata": {},
   "outputs": [
    {
     "data": {
      "text/plain": [
       "(28, 28)"
      ]
     },
     "execution_count": 7,
     "metadata": {},
     "output_type": "execute_result"
    }
   ],
   "source": [
    "X.shape"
   ]
  },
  {
   "cell_type": "code",
   "execution_count": 8,
   "metadata": {},
   "outputs": [
    {
     "data": {
      "text/plain": [
       "<matplotlib.image.AxesImage at 0x2c1f152a7b8>"
      ]
     },
     "execution_count": 8,
     "metadata": {},
     "output_type": "execute_result"
    },
    {
     "data": {
      "image/png": "[encoded data removed]",
      "text/plain": [
       "<Figure size 432x288 with 1 Axes>"
      ]
     },
     "metadata": {},
     "output_type": "display_data"
    }
   ],
   "source": [
    "plt.imshow(X, cmap = 'Greys')"
   ]
  },
  {
   "cell_type": "code",
   "execution_count": 9,
   "metadata": {},
   "outputs": [
    {
     "data": {
      "text/plain": [
       "9"
      ]
     },
     "execution_count": 9,
     "metadata": {},
     "output_type": "execute_result"
    }
   ],
   "source": [
    "y_train[87]"
   ]
  },
  {
   "cell_type": "code",
   "execution_count": 10,
   "metadata": {},
   "outputs": [
    {
     "data": {
      "text/plain": [
       "(60000, 28, 28)"
      ]
     },
     "execution_count": 10,
     "metadata": {},
     "output_type": "execute_result"
    }
   ],
   "source": [
    "x_train.shape"
   ]
  },
  {
   "cell_type": "code",
   "execution_count": 11,
   "metadata": {},
   "outputs": [
    {
     "data": {
      "text/plain": [
       "(10000, 28, 28)"
      ]
     },
     "execution_count": 11,
     "metadata": {},
     "output_type": "execute_result"
    }
   ],
   "source": [
    "x_test.shape"
   ]
  },
  {
   "cell_type": "code",
   "execution_count": 12,
   "metadata": {},
   "outputs": [],
   "source": [
    "x_train = x_train.reshape(60000, 784)"
   ]
  },
  {
   "cell_type": "code",
   "execution_count": 13,
   "metadata": {},
   "outputs": [],
   "source": [
    "x_test = x_test.reshape(10000, 784)"
   ]
  },
  {
   "cell_type": "code",
   "execution_count": 14,
   "metadata": {},
   "outputs": [],
   "source": [
    "from keras.utils import np_utils"
   ]
  },
  {
   "cell_type": "code",
   "execution_count": 15,
   "metadata": {},
   "outputs": [],
   "source": [
    "y_train = np_utils.to_categorical(y_train, 10)\n",
    "y_test = np_utils.to_categorical(y_test, 10)"
   ]
  },
  {
   "cell_type": "code",
   "execution_count": 16,
   "metadata": {},
   "outputs": [
    {
     "data": {
      "text/plain": [
       "array([0., 0., 0., 0., 0., 0., 0., 0., 0., 1.], dtype=float32)"
      ]
     },
     "execution_count": 16,
     "metadata": {},
     "output_type": "execute_result"
    }
   ],
   "source": [
    "y_train[87]"
   ]
  },
  {
   "cell_type": "code",
   "execution_count": 17,
   "metadata": {},
   "outputs": [],
   "source": [
    "from keras.models import Sequential\n",
    "from keras.layers import Dense, Activation\n",
    "from keras.optimizers import SGD"
   ]
  },
  {
   "cell_type": "code",
   "execution_count": 18,
   "metadata": {},
   "outputs": [],
   "source": [
    "model = Sequential()"
   ]
  },
  {
   "cell_type": "code",
   "execution_count": 19,
   "metadata": {},
   "outputs": [],
   "source": [
    "model.add(Dense(4, input_dim = 784))\n",
    "model.add(Activation('sigmoid'))"
   ]
  },
  {
   "cell_type": "code",
   "execution_count": 20,
   "metadata": {},
   "outputs": [],
   "source": [
    "model.add(Dense(2))\n",
    "model.add(Activation('sigmoid'))"
   ]
  },
  {
   "cell_type": "code",
   "execution_count": 21,
   "metadata": {},
   "outputs": [],
   "source": [
    "model.add(Dense(10))\n",
    "model.add(Activation('softmax'))"
   ]
  },
  {
   "cell_type": "code",
   "execution_count": 22,
   "metadata": {},
   "outputs": [],
   "source": [
    "model.compile(loss = 'mse', optimizer = SGD(lr = 0.87), metrics = ['accuracy'])"
   ]
  },
  {
   "cell_type": "code",
   "execution_count": 23,
   "metadata": {},
   "outputs": [
    {
     "name": "stdout",
     "output_type": "stream",
     "text": [
      "_________________________________________________________________\n",
      "Layer (type)                 Output Shape              Param #   \n",
      "=================================================================\n",
      "dense_1 (Dense)              (None, 4)                 3140      \n",
      "_________________________________________________________________\n",
      "activation_1 (Activation)    (None, 4)                 0         \n",
      "_________________________________________________________________\n",
      "dense_2 (Dense)              (None, 2)                 10        \n",
      "_________________________________________________________________\n",
      "activation_2 (Activation)    (None, 2)                 0         \n",
      "_________________________________________________________________\n",
      "dense_3 (Dense)              (None, 10)                30        \n",
      "_________________________________________________________________\n",
      "activation_3 (Activation)    (None, 10)                0         \n",
      "=================================================================\n",
      "Total params: 3,180\n",
      "Trainable params: 3,180\n",
      "Non-trainable params: 0\n",
      "_________________________________________________________________\n"
     ]
    }
   ],
   "source": [
    "model.summary()"
   ]
  },
  {
   "cell_type": "code",
   "execution_count": 24,
   "metadata": {},
   "outputs": [
    {
     "data": {
      "text/plain": [
       "3140"
      ]
     },
     "execution_count": 24,
     "metadata": {},
     "output_type": "execute_result"
    }
   ],
   "source": [
    "784*4+4"
   ]
  },
  {
   "cell_type": "code",
   "execution_count": 25,
   "metadata": {},
   "outputs": [
    {
     "data": {
      "text/plain": [
       "10"
      ]
     },
     "execution_count": 25,
     "metadata": {},
     "output_type": "execute_result"
    }
   ],
   "source": [
    "4*2+2"
   ]
  },
  {
   "cell_type": "code",
   "execution_count": 26,
   "metadata": {},
   "outputs": [
    {
     "data": {
      "text/plain": [
       "30"
      ]
     },
     "execution_count": 26,
     "metadata": {},
     "output_type": "execute_result"
    }
   ],
   "source": [
    "2*10+10"
   ]
  },
  {
   "cell_type": "code",
   "execution_count": 27,
   "metadata": {},
   "outputs": [
    {
     "name": "stdout",
     "output_type": "stream",
     "text": [
      "Train on 60000 samples, validate on 10000 samples\n",
      "Epoch 1/20\n",
      "60000/60000 [==============================] - 1s 16us/step - loss: 0.0897 - acc: 0.1124 - val_loss: 0.0893 - val_acc: 0.1135\n",
      "Epoch 2/20\n",
      "60000/60000 [==============================] - 1s 17us/step - loss: 0.0891 - acc: 0.1130 - val_loss: 0.0888 - val_acc: 0.1170\n",
      "Epoch 3/20\n",
      "60000/60000 [==============================] - 1s 17us/step - loss: 0.0877 - acc: 0.1631 - val_loss: 0.0859 - val_acc: 0.1135\n",
      "Epoch 4/20\n",
      "60000/60000 [==============================] - 1s 17us/step - loss: 0.0838 - acc: 0.1396 - val_loss: 0.0832 - val_acc: 0.1927\n",
      "Epoch 5/20\n",
      "60000/60000 [==============================] - 1s 15us/step - loss: 0.0812 - acc: 0.2440 - val_loss: 0.0803 - val_acc: 0.2850\n",
      "Epoch 6/20\n",
      "60000/60000 [==============================] - 1s 17us/step - loss: 0.0797 - acc: 0.2228 - val_loss: 0.0788 - val_acc: 0.2079\n",
      "Epoch 7/20\n",
      "60000/60000 [==============================] - 1s 18us/step - loss: 0.0780 - acc: 0.2156 - val_loss: 0.0767 - val_acc: 0.2912\n",
      "Epoch 8/20\n",
      "60000/60000 [==============================] - 1s 18us/step - loss: 0.0760 - acc: 0.2970 - val_loss: 0.0762 - val_acc: 0.2971\n",
      "Epoch 9/20\n",
      "60000/60000 [==============================] - 1s 18us/step - loss: 0.0748 - acc: 0.2997 - val_loss: 0.0740 - val_acc: 0.3776\n",
      "Epoch 10/20\n",
      "60000/60000 [==============================] - 1s 18us/step - loss: 0.0735 - acc: 0.3697 - val_loss: 0.0729 - val_acc: 0.3625\n",
      "Epoch 11/20\n",
      "60000/60000 [==============================] - 1s 18us/step - loss: 0.0732 - acc: 0.3633 - val_loss: 0.0724 - val_acc: 0.3796\n",
      "Epoch 12/20\n",
      "60000/60000 [==============================] - 1s 18us/step - loss: 0.0722 - acc: 0.3778 - val_loss: 0.0715 - val_acc: 0.3786\n",
      "Epoch 13/20\n",
      "60000/60000 [==============================] - 1s 16us/step - loss: 0.0717 - acc: 0.3752 - val_loss: 0.0714 - val_acc: 0.3684\n",
      "Epoch 14/20\n",
      "60000/60000 [==============================] - 1s 16us/step - loss: 0.0712 - acc: 0.3754 - val_loss: 0.0706 - val_acc: 0.3791\n",
      "Epoch 15/20\n",
      "60000/60000 [==============================] - 1s 16us/step - loss: 0.0708 - acc: 0.3716 - val_loss: 0.0701 - val_acc: 0.3777\n",
      "Epoch 16/20\n",
      "60000/60000 [==============================] - 1s 16us/step - loss: 0.0703 - acc: 0.3786 - val_loss: 0.0696 - val_acc: 0.3781\n",
      "Epoch 17/20\n",
      "60000/60000 [==============================] - 1s 15us/step - loss: 0.0700 - acc: 0.3747 - val_loss: 0.0695 - val_acc: 0.3858\n",
      "Epoch 18/20\n",
      "60000/60000 [==============================] - 1s 16us/step - loss: 0.0693 - acc: 0.3785 - val_loss: 0.0687 - val_acc: 0.3828\n",
      "Epoch 19/20\n",
      "60000/60000 [==============================] - 1s 15us/step - loss: 0.0696 - acc: 0.3739 - val_loss: 0.0700 - val_acc: 0.3901\n",
      "Epoch 20/20\n",
      "60000/60000 [==============================] - 1s 16us/step - loss: 0.0687 - acc: 0.3800 - val_loss: 0.0682 - val_acc: 0.3871\n"
     ]
    }
   ],
   "source": [
    "model_result = model.fit(x_train, y_train, batch_size = 100, epochs = 20, verbose = 1, validation_data = (x_test,y_test))"
   ]
  },
  {
   "cell_type": "markdown",
   "metadata": {},
   "source": [
    "將資料先進行正規化處理"
   ]
  },
  {
   "cell_type": "code",
   "execution_count": 28,
   "metadata": {},
   "outputs": [],
   "source": [
    "x_train_normalization = ( x_train - x_train.min() ) / ( x_train.max() - x_train.min() )\n",
    "x_test_normalization = ( x_test - x_test.min() ) / ( x_test.max() - x_test.min() )"
   ]
  },
  {
   "cell_type": "code",
   "execution_count": 29,
   "metadata": {},
   "outputs": [
    {
     "data": {
      "text/plain": [
       "1.0"
      ]
     },
     "execution_count": 29,
     "metadata": {},
     "output_type": "execute_result"
    }
   ],
   "source": [
    "x_train_normalization.max()"
   ]
  },
  {
   "cell_type": "code",
   "execution_count": 30,
   "metadata": {},
   "outputs": [],
   "source": [
    "from ipywidgets import interact_manual"
   ]
  },
  {
   "cell_type": "code",
   "execution_count": 31,
   "metadata": {},
   "outputs": [],
   "source": [
    "predict = model.predict_classes(x_test)"
   ]
  },
  {
   "cell_type": "code",
   "execution_count": 32,
   "metadata": {},
   "outputs": [
    {
     "data": {
      "text/plain": [
       "array([7, 3, 1, ..., 6, 3, 6], dtype=int64)"
      ]
     },
     "execution_count": 32,
     "metadata": {},
     "output_type": "execute_result"
    }
   ],
   "source": [
    "predict"
   ]
  },
  {
   "cell_type": "code",
   "execution_count": 33,
   "metadata": {},
   "outputs": [],
   "source": [
    "def test(測試編號):\n",
    "    plt.imshow(x_test[測試編號].reshape(28,28), cmap = 'Greys')\n",
    "    print('神經網路判斷為:',predict[測試編號])"
   ]
  },
  {
   "cell_type": "code",
   "execution_count": 34,
   "metadata": {},
   "outputs": [
    {
     "name": "stdout",
     "output_type": "stream",
     "text": [
      "神經網路判斷為: 3\n"
     ]
    },
    {
     "data": {
      "image/png": "[encoded data removed]",
      "text/plain": [
       "<Figure size 432x288 with 1 Axes>"
      ]
     },
     "metadata": {},
     "output_type": "display_data"
    }
   ],
   "source": [
    "test(87)"
   ]
  },
  {
   "cell_type": "code",
   "execution_count": 35,
   "metadata": {},
   "outputs": [
    {
     "data": {
      "application/vnd.jupyter.widget-view+json": {
       "model_id": "4e0ca1d9253e42b68a83b80aabf77bca",
       "version_major": 2,
       "version_minor": 0
      },
      "text/plain": [
       "interactive(children=(IntSlider(value=4999, description='測試編號', max=9999), Button(description='Run Interact', …"
      ]
     },
     "metadata": {},
     "output_type": "display_data"
    },
    {
     "data": {
      "text/plain": [
       "<function __main__.test(測試編號)>"
      ]
     },
     "execution_count": 35,
     "metadata": {},
     "output_type": "execute_result"
    }
   ],
   "source": [
    "interact_manual(test,測試編號 = (0,9999))"
   ]
  },
  {
   "cell_type": "code",
   "execution_count": 36,
   "metadata": {},
   "outputs": [
    {
     "name": "stdout",
     "output_type": "stream",
     "text": [
      "10000/10000 [==============================] - 0s 18us/step\n"
     ]
    }
   ],
   "source": [
    "score = model.evaluate(x_test_normalization,y_test)"
   ]
  },
  {
   "cell_type": "code",
   "execution_count": 37,
   "metadata": {},
   "outputs": [
    {
     "name": "stdout",
     "output_type": "stream",
     "text": [
      "loss 0.0679701542019844\n",
      "正確率 0.3891\n"
     ]
    }
   ],
   "source": [
    "print('loss',score[0])\n",
    "print('正確率',score[1])"
   ]
  },
  {
   "cell_type": "markdown",
   "metadata": {},
   "source": [
    "\n",
    "【Model #1 : 調整神經元數量 4:2:10　－＞ 30:20:10】\n"
   ]
  },
  {
   "cell_type": "code",
   "execution_count": 38,
   "metadata": {},
   "outputs": [
    {
     "name": "stdout",
     "output_type": "stream",
     "text": [
      "_________________________________________________________________\n",
      "Layer (type)                 Output Shape              Param #   \n",
      "=================================================================\n",
      "dense_4 (Dense)              (None, 30)                23550     \n",
      "_________________________________________________________________\n",
      "activation_4 (Activation)    (None, 30)                0         \n",
      "_________________________________________________________________\n",
      "dense_5 (Dense)              (None, 20)                620       \n",
      "_________________________________________________________________\n",
      "activation_5 (Activation)    (None, 20)                0         \n",
      "_________________________________________________________________\n",
      "dense_6 (Dense)              (None, 10)                210       \n",
      "_________________________________________________________________\n",
      "activation_6 (Activation)    (None, 10)                0         \n",
      "=================================================================\n",
      "Total params: 24,380\n",
      "Trainable params: 24,380\n",
      "Non-trainable params: 0\n",
      "_________________________________________________________________\n",
      "Train on 60000 samples, validate on 10000 samples\n",
      "Epoch 1/20\n",
      "60000/60000 [==============================] - 1s 23us/step - loss: 0.0896 - acc: 0.1645 - val_loss: 0.0877 - val_acc: 0.2082\n",
      "Epoch 2/20\n",
      "60000/60000 [==============================] - 1s 22us/step - loss: 0.0845 - acc: 0.2622 - val_loss: 0.0802 - val_acc: 0.3053\n",
      "Epoch 3/20\n",
      "60000/60000 [==============================] - 1s 23us/step - loss: 0.0769 - acc: 0.3752 - val_loss: 0.0726 - val_acc: 0.4164\n",
      "Epoch 4/20\n",
      "60000/60000 [==============================] - 1s 24us/step - loss: 0.0687 - acc: 0.4687 - val_loss: 0.0642 - val_acc: 0.5396\n",
      "Epoch 5/20\n",
      "60000/60000 [==============================] - 1s 22us/step - loss: 0.0602 - acc: 0.5913 - val_loss: 0.0546 - val_acc: 0.6515\n",
      "Epoch 6/20\n",
      "60000/60000 [==============================] - 1s 21us/step - loss: 0.0489 - acc: 0.6924 - val_loss: 0.0423 - val_acc: 0.7467\n",
      "Epoch 7/20\n",
      "60000/60000 [==============================] - 1s 22us/step - loss: 0.0376 - acc: 0.7878 - val_loss: 0.0327 - val_acc: 0.8294\n",
      "Epoch 8/20\n",
      "60000/60000 [==============================] - 1s 22us/step - loss: 0.0299 - acc: 0.8383 - val_loss: 0.0266 - val_acc: 0.8573\n",
      "Epoch 9/20\n",
      "60000/60000 [==============================] - 1s 20us/step - loss: 0.0250 - acc: 0.8621 - val_loss: 0.0226 - val_acc: 0.8709\n",
      "Epoch 10/20\n",
      "60000/60000 [==============================] - 1s 22us/step - loss: 0.0217 - acc: 0.8764 - val_loss: 0.0200 - val_acc: 0.8812\n",
      "Epoch 11/20\n",
      "60000/60000 [==============================] - 2s 27us/step - loss: 0.0195 - acc: 0.8865 - val_loss: 0.0182 - val_acc: 0.8903\n",
      "Epoch 12/20\n",
      "60000/60000 [==============================] - 1s 23us/step - loss: 0.0179 - acc: 0.8938 - val_loss: 0.0168 - val_acc: 0.8969\n",
      "Epoch 13/20\n",
      "60000/60000 [==============================] - 1s 23us/step - loss: 0.0166 - acc: 0.8999 - val_loss: 0.0158 - val_acc: 0.9018\n",
      "Epoch 14/20\n",
      "60000/60000 [==============================] - 1s 22us/step - loss: 0.0157 - acc: 0.9042 - val_loss: 0.0149 - val_acc: 0.9061\n",
      "Epoch 15/20\n",
      "60000/60000 [==============================] - 2s 25us/step - loss: 0.0149 - acc: 0.9078 - val_loss: 0.0142 - val_acc: 0.9117\n",
      "Epoch 16/20\n",
      "60000/60000 [==============================] - 1s 21us/step - loss: 0.0143 - acc: 0.9113 - val_loss: 0.0137 - val_acc: 0.9148\n",
      "Epoch 17/20\n",
      "60000/60000 [==============================] - 2s 36us/step - loss: 0.0137 - acc: 0.9142 - val_loss: 0.0132 - val_acc: 0.9179\n",
      "Epoch 18/20\n",
      "60000/60000 [==============================] - 1s 23us/step - loss: 0.0132 - acc: 0.9172 - val_loss: 0.0128 - val_acc: 0.9199\n",
      "Epoch 19/20\n",
      "60000/60000 [==============================] - 1s 23us/step - loss: 0.0128 - acc: 0.9199 - val_loss: 0.0123 - val_acc: 0.9229\n",
      "Epoch 20/20\n",
      "60000/60000 [==============================] - 1s 23us/step - loss: 0.0124 - acc: 0.9222 - val_loss: 0.0120 - val_acc: 0.9245\n",
      "10000/10000 [==============================] - 0s 24us/step\n",
      "model_1 loss 0.011967273887526244\n",
      "model_1 正確率 0.9245\n"
     ]
    }
   ],
   "source": [
    "model_1 = Sequential()\n",
    "model_1.add(Dense(30, input_dim = 784))\n",
    "model_1.add(Activation('sigmoid'))\n",
    "model_1.add(Dense(20))\n",
    "model_1.add(Activation('sigmoid'))\n",
    "model_1.add(Dense(10))\n",
    "model_1.add(Activation('softmax'))\n",
    "model_1.summary()\n",
    "model_1.compile(loss = \"mse\",optimizer = SGD(lr = 0.87),metrics = [\"accuracy\"])\n",
    "model_1_result = model_1.fit(x_train_normalization, y_train, \n",
    "                             batch_size = 100, \n",
    "                             epochs = 20, \n",
    "                             verbose = 1, \n",
    "                             validation_data = (x_test_normalization,y_test))\n",
    "score_1 = model_1.evaluate(x_test_normalization,y_test)\n",
    "print('model_1 loss',score_1[0])\n",
    "print('model_1 正確率',score_1[1])"
   ]
  },
  {
   "cell_type": "code",
   "execution_count": 39,
   "metadata": {},
   "outputs": [
    {
     "data": {
      "image/png": "[encoded data removed]",
      "text/plain": [
       "<Figure size 432x288 with 1 Axes>"
      ]
     },
     "metadata": {},
     "output_type": "display_data"
    }
   ],
   "source": [
    "plt.plot(model_result.history['acc'])\n",
    "plt.plot(model_1_result.history['acc'])\n",
    "\n",
    "plt.title('model training accuracy')\n",
    "plt.ylabel('accuracy')\n",
    "plt.xlabel('epoch')\n",
    "plt.legend(['model','model_1'],loc = 'best')\n",
    "plt.show()"
   ]
  },
  {
   "cell_type": "markdown",
   "metadata": {},
   "source": [
    "\n",
    "【Model #2 : 增加層數 4:2:10　－＞ 30:20:20:10】\n"
   ]
  },
  {
   "cell_type": "code",
   "execution_count": 40,
   "metadata": {},
   "outputs": [
    {
     "name": "stdout",
     "output_type": "stream",
     "text": [
      "_________________________________________________________________\n",
      "Layer (type)                 Output Shape              Param #   \n",
      "=================================================================\n",
      "dense_7 (Dense)              (None, 30)                23550     \n",
      "_________________________________________________________________\n",
      "activation_7 (Activation)    (None, 30)                0         \n",
      "_________________________________________________________________\n",
      "dense_8 (Dense)              (None, 20)                620       \n",
      "_________________________________________________________________\n",
      "activation_8 (Activation)    (None, 20)                0         \n",
      "_________________________________________________________________\n",
      "dense_9 (Dense)              (None, 20)                420       \n",
      "_________________________________________________________________\n",
      "activation_9 (Activation)    (None, 20)                0         \n",
      "_________________________________________________________________\n",
      "dense_10 (Dense)             (None, 10)                210       \n",
      "_________________________________________________________________\n",
      "activation_10 (Activation)   (None, 10)                0         \n",
      "=================================================================\n",
      "Total params: 24,800\n",
      "Trainable params: 24,800\n",
      "Non-trainable params: 0\n",
      "_________________________________________________________________\n",
      "Train on 60000 samples, validate on 10000 samples\n",
      "Epoch 1/20\n",
      "60000/60000 [==============================] - 2s 30us/step - loss: 0.0904 - acc: 0.1150 - val_loss: 0.0899 - val_acc: 0.1143\n",
      "Epoch 2/20\n",
      "60000/60000 [==============================] - 1s 24us/step - loss: 0.0898 - acc: 0.1160 - val_loss: 0.0898 - val_acc: 0.1135\n",
      "Epoch 3/20\n",
      "60000/60000 [==============================] - 1s 22us/step - loss: 0.0897 - acc: 0.1269 - val_loss: 0.0896 - val_acc: 0.1145\n",
      "Epoch 4/20\n",
      "60000/60000 [==============================] - 1s 20us/step - loss: 0.0895 - acc: 0.1453 - val_loss: 0.0894 - val_acc: 0.2109\n",
      "Epoch 5/20\n",
      "60000/60000 [==============================] - 1s 21us/step - loss: 0.0893 - acc: 0.2043 - val_loss: 0.0891 - val_acc: 0.1903\n",
      "Epoch 6/20\n",
      "60000/60000 [==============================] - 1s 21us/step - loss: 0.0888 - acc: 0.2471 - val_loss: 0.0883 - val_acc: 0.2831\n",
      "Epoch 7/20\n",
      "60000/60000 [==============================] - 1s 23us/step - loss: 0.0875 - acc: 0.2844 - val_loss: 0.0862 - val_acc: 0.2888\n",
      "Epoch 8/20\n",
      "60000/60000 [==============================] - 1s 23us/step - loss: 0.0837 - acc: 0.2953 - val_loss: 0.0802 - val_acc: 0.2985\n",
      "Epoch 9/20\n",
      "60000/60000 [==============================] - 1s 23us/step - loss: 0.0771 - acc: 0.3343 - val_loss: 0.0738 - val_acc: 0.3580\n",
      "Epoch 10/20\n",
      "60000/60000 [==============================] - 1s 23us/step - loss: 0.0710 - acc: 0.3812 - val_loss: 0.0681 - val_acc: 0.4002\n",
      "Epoch 11/20\n",
      "60000/60000 [==============================] - 1s 23us/step - loss: 0.0654 - acc: 0.4323 - val_loss: 0.0629 - val_acc: 0.4642\n",
      "Epoch 12/20\n",
      "60000/60000 [==============================] - 2s 27us/step - loss: 0.0606 - acc: 0.5021 - val_loss: 0.0586 - val_acc: 0.5390\n",
      "Epoch 13/20\n",
      "60000/60000 [==============================] - 2s 30us/step - loss: 0.0564 - acc: 0.5689 - val_loss: 0.0542 - val_acc: 0.5841\n",
      "Epoch 14/20\n",
      "60000/60000 [==============================] - 2s 32us/step - loss: 0.0520 - acc: 0.6146 - val_loss: 0.0498 - val_acc: 0.6467\n",
      "Epoch 15/20\n",
      "60000/60000 [==============================] - 2s 25us/step - loss: 0.0476 - acc: 0.6640 - val_loss: 0.0453 - val_acc: 0.6921\n",
      "Epoch 16/20\n",
      "60000/60000 [==============================] - 1s 23us/step - loss: 0.0429 - acc: 0.7135 - val_loss: 0.0404 - val_acc: 0.7405\n",
      "Epoch 17/20\n",
      "60000/60000 [==============================] - 2s 26us/step - loss: 0.0379 - acc: 0.7655 - val_loss: 0.0350 - val_acc: 0.7990\n",
      "Epoch 18/20\n",
      "60000/60000 [==============================] - 1s 22us/step - loss: 0.0325 - acc: 0.8170 - val_loss: 0.0296 - val_acc: 0.8377\n",
      "Epoch 19/20\n",
      "60000/60000 [==============================] - 1s 22us/step - loss: 0.0277 - acc: 0.8502 - val_loss: 0.0253 - val_acc: 0.8613\n",
      "Epoch 20/20\n",
      "60000/60000 [==============================] - 1s 23us/step - loss: 0.0241 - acc: 0.8671 - val_loss: 0.0223 - val_acc: 0.8751\n",
      "10000/10000 [==============================] - 0s 22us/step\n",
      "model_2 loss 0.02228885837942362\n",
      "model_2 正確率 0.8751\n"
     ]
    }
   ],
   "source": [
    "model_2 = Sequential()\n",
    "model_2.add(Dense(30, input_dim = 784))\n",
    "model_2.add(Activation('sigmoid'))\n",
    "model_2.add(Dense(20))\n",
    "model_2.add(Activation('sigmoid'))\n",
    "model_2.add(Dense(20))\n",
    "model_2.add(Activation('sigmoid'))\n",
    "model_2.add(Dense(10))\n",
    "model_2.add(Activation('softmax'))\n",
    "model_2.summary()\n",
    "model_2.compile(loss = \"mse\",optimizer = SGD(lr = 0.87), metrics = [\"accuracy\"])\n",
    "model_2_result = model_2.fit(x_train_normalization, y_train,\n",
    "                             batch_size = 100,\n",
    "                             epochs = 20,\n",
    "                             verbose = 1,\n",
    "                             validation_data = (x_test_normalization,y_test))\n",
    "score_2 = model_2.evaluate(x_test_normalization,y_test)\n",
    "print('model_2 loss',score_2[0])\n",
    "print('model_2 正確率',score_2[1])"
   ]
  },
  {
   "cell_type": "code",
   "execution_count": 41,
   "metadata": {},
   "outputs": [
    {
     "data": {
      "image/png": "[encoded data removed]",
      "text/plain": [
       "<Figure size 432x288 with 1 Axes>"
      ]
     },
     "metadata": {},
     "output_type": "display_data"
    }
   ],
   "source": [
    "plt.plot(model_result.history['acc'])\n",
    "plt.plot(model_1_result.history['acc'])\n",
    "plt.plot(model_2_result.history['acc'])\n",
    "\n",
    "plt.title('model training accuracy')\n",
    "plt.ylabel('accuracy')\n",
    "plt.xlabel('epoch')\n",
    "plt.legend(['model','model_1','model_2'],loc = 'best')\n",
    "plt.show()"
   ]
  },
  {
   "cell_type": "markdown",
   "metadata": {},
   "source": [
    "\n",
    "【Model #3 : 調整 Loss rate : 0.87 --> 0.087】\n"
   ]
  },
  {
   "cell_type": "code",
   "execution_count": 42,
   "metadata": {},
   "outputs": [
    {
     "name": "stdout",
     "output_type": "stream",
     "text": [
      "_________________________________________________________________\n",
      "Layer (type)                 Output Shape              Param #   \n",
      "=================================================================\n",
      "dense_11 (Dense)             (None, 30)                23550     \n",
      "_________________________________________________________________\n",
      "activation_11 (Activation)   (None, 30)                0         \n",
      "_________________________________________________________________\n",
      "dense_12 (Dense)             (None, 20)                620       \n",
      "_________________________________________________________________\n",
      "activation_12 (Activation)   (None, 20)                0         \n",
      "_________________________________________________________________\n",
      "dense_13 (Dense)             (None, 20)                420       \n",
      "_________________________________________________________________\n",
      "activation_13 (Activation)   (None, 20)                0         \n",
      "_________________________________________________________________\n",
      "dense_14 (Dense)             (None, 10)                210       \n",
      "_________________________________________________________________\n",
      "activation_14 (Activation)   (None, 10)                0         \n",
      "=================================================================\n",
      "Total params: 24,800\n",
      "Trainable params: 24,800\n",
      "Non-trainable params: 0\n",
      "_________________________________________________________________\n",
      "Train on 60000 samples, validate on 10000 samples\n",
      "Epoch 1/20\n",
      "60000/60000 [==============================] - 2s 30us/step - loss: 0.0902 - acc: 0.2256 - val_loss: 0.0886 - val_acc: 0.2812\n",
      "Epoch 2/20\n",
      "60000/60000 [==============================] - 1s 23us/step - loss: 0.0872 - acc: 0.2856 - val_loss: 0.0848 - val_acc: 0.2976\n",
      "Epoch 3/20\n",
      "60000/60000 [==============================] - 1s 24us/step - loss: 0.0792 - acc: 0.3075 - val_loss: 0.0719 - val_acc: 0.3946\n",
      "Epoch 4/20\n",
      "60000/60000 [==============================] - 1s 23us/step - loss: 0.0649 - acc: 0.5128 - val_loss: 0.0555 - val_acc: 0.5980\n",
      "Epoch 5/20\n",
      "60000/60000 [==============================] - 2s 26us/step - loss: 0.0472 - acc: 0.6825 - val_loss: 0.0381 - val_acc: 0.7545\n",
      "Epoch 6/20\n",
      "60000/60000 [==============================] - 2s 35us/step - loss: 0.0324 - acc: 0.7980 - val_loss: 0.0268 - val_acc: 0.8292\n",
      "Epoch 7/20\n",
      "60000/60000 [==============================] - 2s 29us/step - loss: 0.0247 - acc: 0.8432 - val_loss: 0.0217 - val_acc: 0.8612\n",
      "Epoch 8/20\n",
      "60000/60000 [==============================] - 1s 23us/step - loss: 0.0215 - acc: 0.8621 - val_loss: 0.0195 - val_acc: 0.8722\n",
      "Epoch 9/20\n",
      "60000/60000 [==============================] - 2s 33us/step - loss: 0.0197 - acc: 0.8729 - val_loss: 0.0180 - val_acc: 0.8832\n",
      "Epoch 10/20\n",
      "60000/60000 [==============================] - 2s 33us/step - loss: 0.0185 - acc: 0.8810 - val_loss: 0.0175 - val_acc: 0.8869\n",
      "Epoch 11/20\n",
      "60000/60000 [==============================] - 3s 42us/step - loss: 0.0176 - acc: 0.8862 - val_loss: 0.0163 - val_acc: 0.8943\n",
      "Epoch 12/20\n",
      "60000/60000 [==============================] - 2s 39us/step - loss: 0.0169 - acc: 0.8917 - val_loss: 0.0157 - val_acc: 0.8970\n",
      "Epoch 13/20\n",
      "60000/60000 [==============================] - 2s 29us/step - loss: 0.0163 - acc: 0.8957 - val_loss: 0.0154 - val_acc: 0.9001\n",
      "Epoch 14/20\n",
      "60000/60000 [==============================] - 1s 24us/step - loss: 0.0158 - acc: 0.8985 - val_loss: 0.0148 - val_acc: 0.9031\n",
      "Epoch 15/20\n",
      "60000/60000 [==============================] - 1s 23us/step - loss: 0.0154 - acc: 0.9008 - val_loss: 0.0145 - val_acc: 0.9057\n",
      "Epoch 16/20\n",
      "60000/60000 [==============================] - 2s 25us/step - loss: 0.0150 - acc: 0.9034 - val_loss: 0.0140 - val_acc: 0.9097\n",
      "Epoch 17/20\n",
      "60000/60000 [==============================] - 1s 24us/step - loss: 0.0147 - acc: 0.9061 - val_loss: 0.0138 - val_acc: 0.9107\n",
      "Epoch 18/20\n",
      "60000/60000 [==============================] - 1s 22us/step - loss: 0.0144 - acc: 0.9078 - val_loss: 0.0136 - val_acc: 0.9099\n",
      "Epoch 19/20\n",
      "60000/60000 [==============================] - 1s 24us/step - loss: 0.0142 - acc: 0.9088 - val_loss: 0.0135 - val_acc: 0.9121\n",
      "Epoch 20/20\n",
      "60000/60000 [==============================] - 1s 25us/step - loss: 0.0139 - acc: 0.9101 - val_loss: 0.0132 - val_acc: 0.9145\n",
      "10000/10000 [==============================] - 0s 23us/step\n",
      "model_3 loss 0.013237543993326835\n",
      "model_3 正確率 0.9145\n"
     ]
    }
   ],
   "source": [
    "model_3 = Sequential()\n",
    "model_3.add(Dense(30, input_dim = 784))\n",
    "model_3.add(Activation('softplus'))\n",
    "model_3.add(Dense(20))\n",
    "model_3.add(Activation('softplus'))\n",
    "model_3.add(Dense(20))\n",
    "model_3.add(Activation('softplus'))\n",
    "model_3.add(Dense(10))\n",
    "model_3.add(Activation('softmax'))\n",
    "model_3.summary()\n",
    "model_3.compile(loss = \"mse\",optimizer = SGD(lr = 0.087), metrics = [\"accuracy\"]) \n",
    "model_3_result = model_3.fit(x_train_normalization, y_train,\n",
    "                             batch_size = 100,\n",
    "                             epochs = 20,\n",
    "                             verbose = 1,\n",
    "                             validation_data = (x_test_normalization,y_test))\n",
    "score_3 = model_3.evaluate(x_test_normalization,y_test)\n",
    "print('model_3 loss',score_3[0])\n",
    "print('model_3 正確率',score_3[1])"
   ]
  },
  {
   "cell_type": "code",
   "execution_count": 43,
   "metadata": {},
   "outputs": [
    {
     "data": {
      "image/png": "[encoded data removed]",
      "text/plain": [
       "<Figure size 432x288 with 1 Axes>"
      ]
     },
     "metadata": {},
     "output_type": "display_data"
    }
   ],
   "source": [
    "plt.plot(model_result.history['acc'])\n",
    "plt.plot(model_1_result.history['acc'])\n",
    "plt.plot(model_2_result.history['acc'])\n",
    "plt.plot(model_3_result.history['acc'])\n",
    "\n",
    "plt.title('model training accuracy')\n",
    "plt.ylabel('accuracy')\n",
    "plt.xlabel('epoch')\n",
    "plt.legend(['model','model_1','model_2','model_3'],loc = 'best')\n",
    "plt.show()"
   ]
  },
  {
   "cell_type": "markdown",
   "metadata": {},
   "source": [
    "\n",
    "【Model #4 : 調整 epochs 20 --> 100】\n"
   ]
  },
  {
   "cell_type": "code",
   "execution_count": 44,
   "metadata": {},
   "outputs": [
    {
     "name": "stdout",
     "output_type": "stream",
     "text": [
      "_________________________________________________________________\n",
      "Layer (type)                 Output Shape              Param #   \n",
      "=================================================================\n",
      "dense_15 (Dense)             (None, 30)                23550     \n",
      "_________________________________________________________________\n",
      "activation_15 (Activation)   (None, 30)                0         \n",
      "_________________________________________________________________\n",
      "dense_16 (Dense)             (None, 20)                620       \n",
      "_________________________________________________________________\n",
      "activation_16 (Activation)   (None, 20)                0         \n",
      "_________________________________________________________________\n",
      "dense_17 (Dense)             (None, 20)                420       \n",
      "_________________________________________________________________\n",
      "activation_17 (Activation)   (None, 20)                0         \n",
      "_________________________________________________________________\n",
      "dense_18 (Dense)             (None, 10)                210       \n",
      "_________________________________________________________________\n",
      "activation_18 (Activation)   (None, 10)                0         \n",
      "=================================================================\n",
      "Total params: 24,800\n",
      "Trainable params: 24,800\n",
      "Non-trainable params: 0\n",
      "_________________________________________________________________\n",
      "Train on 60000 samples, validate on 10000 samples\n",
      "Epoch 1/100\n",
      "60000/60000 [==============================] - 2s 29us/step - loss: 0.0904 - acc: 0.1361 - val_loss: 0.0892 - val_acc: 0.2181\n",
      "Epoch 2/100\n",
      "60000/60000 [==============================] - 1s 24us/step - loss: 0.0886 - acc: 0.2257 - val_loss: 0.0878 - val_acc: 0.2499\n",
      "Epoch 3/100\n",
      "60000/60000 [==============================] - 2s 34us/step - loss: 0.0865 - acc: 0.2705 - val_loss: 0.0845 - val_acc: 0.2959\n",
      "Epoch 4/100\n",
      "60000/60000 [==============================] - 2s 34us/step - loss: 0.0795 - acc: 0.3581 - val_loss: 0.0722 - val_acc: 0.4286\n",
      "Epoch 5/100\n",
      "60000/60000 [==============================] - 1s 25us/step - loss: 0.0640 - acc: 0.4838 - val_loss: 0.0564 - val_acc: 0.5706\n",
      "Epoch 6/100\n",
      "60000/60000 [==============================] - 1s 24us/step - loss: 0.0497 - acc: 0.6450 - val_loss: 0.0420 - val_acc: 0.7209\n",
      "Epoch 7/100\n",
      "60000/60000 [==============================] - 1s 24us/step - loss: 0.0365 - acc: 0.7651 - val_loss: 0.0308 - val_acc: 0.8067\n",
      "Epoch 8/100\n",
      "60000/60000 [==============================] - 1s 24us/step - loss: 0.0285 - acc: 0.8189 - val_loss: 0.0244 - val_acc: 0.8509\n",
      "Epoch 9/100\n",
      "60000/60000 [==============================] - 2s 28us/step - loss: 0.0238 - acc: 0.8487 - val_loss: 0.0214 - val_acc: 0.8630\n",
      "Epoch 10/100\n",
      "60000/60000 [==============================] - 1s 25us/step - loss: 0.0211 - acc: 0.8654 - val_loss: 0.0192 - val_acc: 0.8783\n",
      "Epoch 11/100\n",
      "60000/60000 [==============================] - 2s 27us/step - loss: 0.0194 - acc: 0.8758 - val_loss: 0.0179 - val_acc: 0.8859\n",
      "Epoch 12/100\n",
      "60000/60000 [==============================] - 2s 27us/step - loss: 0.0182 - acc: 0.8830 - val_loss: 0.0169 - val_acc: 0.8918\n",
      "Epoch 13/100\n",
      "60000/60000 [==============================] - 1s 22us/step - loss: 0.0172 - acc: 0.8892 - val_loss: 0.0162 - val_acc: 0.8962\n",
      "Epoch 14/100\n",
      "60000/60000 [==============================] - 2s 25us/step - loss: 0.0165 - acc: 0.8943 - val_loss: 0.0157 - val_acc: 0.8990\n",
      "Epoch 15/100\n",
      "60000/60000 [==============================] - 1s 23us/step - loss: 0.0159 - acc: 0.8978 - val_loss: 0.0152 - val_acc: 0.9006\n",
      "Epoch 16/100\n",
      "60000/60000 [==============================] - 1s 24us/step - loss: 0.0154 - acc: 0.9010 - val_loss: 0.0148 - val_acc: 0.9035\n",
      "Epoch 17/100\n",
      "60000/60000 [==============================] - 1s 23us/step - loss: 0.0150 - acc: 0.9042 - val_loss: 0.0142 - val_acc: 0.9066\n",
      "Epoch 18/100\n",
      "60000/60000 [==============================] - 1s 24us/step - loss: 0.0146 - acc: 0.9056 - val_loss: 0.0139 - val_acc: 0.9084\n",
      "Epoch 19/100\n",
      "60000/60000 [==============================] - 1s 25us/step - loss: 0.0143 - acc: 0.9083 - val_loss: 0.0135 - val_acc: 0.9117\n",
      "Epoch 20/100\n",
      "60000/60000 [==============================] - 1s 24us/step - loss: 0.0140 - acc: 0.9103 - val_loss: 0.0133 - val_acc: 0.9132\n",
      "Epoch 21/100\n",
      "60000/60000 [==============================] - 1s 23us/step - loss: 0.0137 - acc: 0.9120 - val_loss: 0.0131 - val_acc: 0.9148\n",
      "Epoch 22/100\n",
      "60000/60000 [==============================] - 1s 23us/step - loss: 0.0135 - acc: 0.9130 - val_loss: 0.0132 - val_acc: 0.9132\n",
      "Epoch 23/100\n",
      "60000/60000 [==============================] - 2s 26us/step - loss: 0.0133 - acc: 0.9149 - val_loss: 0.0129 - val_acc: 0.9152\n",
      "Epoch 24/100\n",
      "60000/60000 [==============================] - 2s 26us/step - loss: 0.0131 - acc: 0.9160 - val_loss: 0.0126 - val_acc: 0.9182\n",
      "Epoch 25/100\n",
      "60000/60000 [==============================] - 1s 22us/step - loss: 0.0129 - acc: 0.9177 - val_loss: 0.0124 - val_acc: 0.9199\n",
      "Epoch 26/100\n",
      "60000/60000 [==============================] - 1s 24us/step - loss: 0.0127 - acc: 0.9186 - val_loss: 0.0124 - val_acc: 0.9191\n",
      "Epoch 27/100\n",
      "60000/60000 [==============================] - 1s 25us/step - loss: 0.0125 - acc: 0.9191 - val_loss: 0.0122 - val_acc: 0.9198\n",
      "Epoch 28/100\n",
      "60000/60000 [==============================] - 1s 24us/step - loss: 0.0124 - acc: 0.9203 - val_loss: 0.0121 - val_acc: 0.9234\n",
      "Epoch 29/100\n",
      "60000/60000 [==============================] - 1s 24us/step - loss: 0.0123 - acc: 0.9211 - val_loss: 0.0120 - val_acc: 0.9226\n",
      "Epoch 30/100\n",
      "60000/60000 [==============================] - 1s 23us/step - loss: 0.0121 - acc: 0.9222 - val_loss: 0.0120 - val_acc: 0.9220\n",
      "Epoch 31/100\n",
      "60000/60000 [==============================] - 1s 24us/step - loss: 0.0120 - acc: 0.9239 - val_loss: 0.0118 - val_acc: 0.9236\n",
      "Epoch 32/100\n",
      "60000/60000 [==============================] - 1s 24us/step - loss: 0.0119 - acc: 0.9242 - val_loss: 0.0117 - val_acc: 0.9253\n",
      "Epoch 33/100\n",
      "60000/60000 [==============================] - 1s 23us/step - loss: 0.0117 - acc: 0.9253 - val_loss: 0.0116 - val_acc: 0.9246\n",
      "Epoch 34/100\n",
      "60000/60000 [==============================] - 1s 24us/step - loss: 0.0116 - acc: 0.9261 - val_loss: 0.0115 - val_acc: 0.9248\n",
      "Epoch 35/100\n",
      "60000/60000 [==============================] - 1s 24us/step - loss: 0.0115 - acc: 0.9265 - val_loss: 0.0113 - val_acc: 0.9280\n",
      "Epoch 36/100\n",
      "60000/60000 [==============================] - 1s 22us/step - loss: 0.0114 - acc: 0.9276 - val_loss: 0.0115 - val_acc: 0.9249\n",
      "Epoch 37/100\n",
      "60000/60000 [==============================] - 1s 22us/step - loss: 0.0113 - acc: 0.9282 - val_loss: 0.0113 - val_acc: 0.9279\n",
      "Epoch 38/100\n",
      "60000/60000 [==============================] - 1s 23us/step - loss: 0.0112 - acc: 0.9286 - val_loss: 0.0110 - val_acc: 0.9289\n",
      "Epoch 39/100\n",
      "60000/60000 [==============================] - 1s 24us/step - loss: 0.0111 - acc: 0.9295 - val_loss: 0.0110 - val_acc: 0.9307\n",
      "Epoch 40/100\n",
      "60000/60000 [==============================] - 1s 24us/step - loss: 0.0110 - acc: 0.9299 - val_loss: 0.0109 - val_acc: 0.9298\n",
      "Epoch 41/100\n",
      "60000/60000 [==============================] - 1s 23us/step - loss: 0.0109 - acc: 0.9303 - val_loss: 0.0110 - val_acc: 0.9310\n",
      "Epoch 42/100\n",
      "60000/60000 [==============================] - 1s 23us/step - loss: 0.0108 - acc: 0.9314 - val_loss: 0.0108 - val_acc: 0.9313\n",
      "Epoch 43/100\n",
      "60000/60000 [==============================] - 1s 23us/step - loss: 0.0107 - acc: 0.9314 - val_loss: 0.0109 - val_acc: 0.9295\n",
      "Epoch 44/100\n",
      "60000/60000 [==============================] - 1s 23us/step - loss: 0.0106 - acc: 0.9324 - val_loss: 0.0106 - val_acc: 0.9323\n",
      "Epoch 45/100\n",
      "60000/60000 [==============================] - 1s 23us/step - loss: 0.0105 - acc: 0.9334 - val_loss: 0.0108 - val_acc: 0.9302\n",
      "Epoch 46/100\n",
      "60000/60000 [==============================] - 1s 19us/step - loss: 0.0104 - acc: 0.9341 - val_loss: 0.0106 - val_acc: 0.9327\n",
      "Epoch 47/100\n",
      "60000/60000 [==============================] - 1s 21us/step - loss: 0.0103 - acc: 0.9344 - val_loss: 0.0105 - val_acc: 0.9336\n",
      "Epoch 48/100\n",
      "60000/60000 [==============================] - 1s 20us/step - loss: 0.0103 - acc: 0.9346 - val_loss: 0.0104 - val_acc: 0.9328\n",
      "Epoch 49/100\n"
     ]
    },
    {
     "name": "stdout",
     "output_type": "stream",
     "text": [
      "60000/60000 [==============================] - 1s 23us/step - loss: 0.0102 - acc: 0.9353 - val_loss: 0.0104 - val_acc: 0.9346\n",
      "Epoch 50/100\n",
      "60000/60000 [==============================] - 1s 21us/step - loss: 0.0101 - acc: 0.9361 - val_loss: 0.0102 - val_acc: 0.9331\n",
      "Epoch 51/100\n",
      "60000/60000 [==============================] - 1s 21us/step - loss: 0.0100 - acc: 0.9361 - val_loss: 0.0102 - val_acc: 0.9344\n",
      "Epoch 52/100\n",
      "60000/60000 [==============================] - 1s 21us/step - loss: 0.0099 - acc: 0.9375 - val_loss: 0.0103 - val_acc: 0.9330\n",
      "Epoch 53/100\n",
      "60000/60000 [==============================] - 1s 21us/step - loss: 0.0098 - acc: 0.9383 - val_loss: 0.0100 - val_acc: 0.9362\n",
      "Epoch 54/100\n",
      "60000/60000 [==============================] - 1s 21us/step - loss: 0.0098 - acc: 0.9383 - val_loss: 0.0100 - val_acc: 0.9352\n",
      "Epoch 55/100\n",
      "60000/60000 [==============================] - 1s 22us/step - loss: 0.0097 - acc: 0.9389 - val_loss: 0.0099 - val_acc: 0.9367\n",
      "Epoch 56/100\n",
      "60000/60000 [==============================] - 1s 23us/step - loss: 0.0096 - acc: 0.9395 - val_loss: 0.0099 - val_acc: 0.9362\n",
      "Epoch 57/100\n",
      "60000/60000 [==============================] - 1s 23us/step - loss: 0.0095 - acc: 0.9401 - val_loss: 0.0099 - val_acc: 0.9355\n",
      "Epoch 58/100\n",
      "60000/60000 [==============================] - 1s 23us/step - loss: 0.0095 - acc: 0.9402 - val_loss: 0.0099 - val_acc: 0.9362\n",
      "Epoch 59/100\n",
      "60000/60000 [==============================] - 1s 23us/step - loss: 0.0094 - acc: 0.9410 - val_loss: 0.0100 - val_acc: 0.9362\n",
      "Epoch 60/100\n",
      "60000/60000 [==============================] - 1s 23us/step - loss: 0.0093 - acc: 0.9408 - val_loss: 0.0097 - val_acc: 0.9376\n",
      "Epoch 61/100\n",
      "60000/60000 [==============================] - 1s 23us/step - loss: 0.0092 - acc: 0.9419 - val_loss: 0.0096 - val_acc: 0.9381\n",
      "Epoch 62/100\n",
      "60000/60000 [==============================] - 1s 23us/step - loss: 0.0092 - acc: 0.9416 - val_loss: 0.0096 - val_acc: 0.9369\n",
      "Epoch 63/100\n",
      "60000/60000 [==============================] - 1s 23us/step - loss: 0.0091 - acc: 0.9426 - val_loss: 0.0096 - val_acc: 0.9376\n",
      "Epoch 64/100\n",
      "60000/60000 [==============================] - 1s 23us/step - loss: 0.0091 - acc: 0.9428 - val_loss: 0.0095 - val_acc: 0.9381\n",
      "Epoch 65/100\n",
      "60000/60000 [==============================] - 1s 20us/step - loss: 0.0090 - acc: 0.9431 - val_loss: 0.0094 - val_acc: 0.9383\n",
      "Epoch 66/100\n",
      "60000/60000 [==============================] - 1s 22us/step - loss: 0.0089 - acc: 0.9441 - val_loss: 0.0094 - val_acc: 0.9394\n",
      "Epoch 67/100\n",
      "60000/60000 [==============================] - 1s 24us/step - loss: 0.0089 - acc: 0.9447 - val_loss: 0.0093 - val_acc: 0.9392\n",
      "Epoch 68/100\n",
      "60000/60000 [==============================] - 1s 22us/step - loss: 0.0088 - acc: 0.9448 - val_loss: 0.0093 - val_acc: 0.9385\n",
      "Epoch 69/100\n",
      "60000/60000 [==============================] - 1s 21us/step - loss: 0.0088 - acc: 0.9452 - val_loss: 0.0092 - val_acc: 0.9398\n",
      "Epoch 70/100\n",
      "60000/60000 [==============================] - 1s 23us/step - loss: 0.0087 - acc: 0.9457 - val_loss: 0.0091 - val_acc: 0.9405\n",
      "Epoch 71/100\n",
      "60000/60000 [==============================] - 1s 23us/step - loss: 0.0086 - acc: 0.9463 - val_loss: 0.0091 - val_acc: 0.9416\n",
      "Epoch 72/100\n",
      "60000/60000 [==============================] - 1s 21us/step - loss: 0.0086 - acc: 0.9464 - val_loss: 0.0093 - val_acc: 0.9397\n",
      "Epoch 73/100\n",
      "60000/60000 [==============================] - 1s 20us/step - loss: 0.0085 - acc: 0.9468 - val_loss: 0.0091 - val_acc: 0.9402\n",
      "Epoch 74/100\n",
      "60000/60000 [==============================] - 1s 23us/step - loss: 0.0085 - acc: 0.9467 - val_loss: 0.0090 - val_acc: 0.9415\n",
      "Epoch 75/100\n",
      "60000/60000 [==============================] - 1s 23us/step - loss: 0.0084 - acc: 0.9476 - val_loss: 0.0089 - val_acc: 0.9416\n",
      "Epoch 76/100\n",
      "60000/60000 [==============================] - 1s 23us/step - loss: 0.0083 - acc: 0.9476 - val_loss: 0.0089 - val_acc: 0.9409\n",
      "Epoch 77/100\n",
      "60000/60000 [==============================] - 1s 22us/step - loss: 0.0083 - acc: 0.9482 - val_loss: 0.0089 - val_acc: 0.9424\n",
      "Epoch 78/100\n",
      "60000/60000 [==============================] - 1s 20us/step - loss: 0.0082 - acc: 0.9487 - val_loss: 0.0089 - val_acc: 0.9423\n",
      "Epoch 79/100\n",
      "60000/60000 [==============================] - 1s 20us/step - loss: 0.0082 - acc: 0.9492 - val_loss: 0.0088 - val_acc: 0.9425\n",
      "Epoch 80/100\n",
      "60000/60000 [==============================] - 1s 20us/step - loss: 0.0082 - acc: 0.9490 - val_loss: 0.0088 - val_acc: 0.9417\n",
      "Epoch 81/100\n",
      "60000/60000 [==============================] - 1s 22us/step - loss: 0.0081 - acc: 0.9494 - val_loss: 0.0088 - val_acc: 0.9425\n",
      "Epoch 82/100\n",
      "60000/60000 [==============================] - 1s 22us/step - loss: 0.0080 - acc: 0.9498 - val_loss: 0.0087 - val_acc: 0.9428\n",
      "Epoch 83/100\n",
      "60000/60000 [==============================] - 1s 22us/step - loss: 0.0080 - acc: 0.9500 - val_loss: 0.0087 - val_acc: 0.9435\n",
      "Epoch 84/100\n",
      "60000/60000 [==============================] - 1s 22us/step - loss: 0.0079 - acc: 0.9508 - val_loss: 0.0087 - val_acc: 0.9440\n",
      "Epoch 85/100\n",
      "60000/60000 [==============================] - 1s 22us/step - loss: 0.0079 - acc: 0.9508 - val_loss: 0.0085 - val_acc: 0.9434\n",
      "Epoch 86/100\n",
      "60000/60000 [==============================] - 1s 22us/step - loss: 0.0078 - acc: 0.9511 - val_loss: 0.0086 - val_acc: 0.9437\n",
      "Epoch 87/100\n",
      "60000/60000 [==============================] - 1s 20us/step - loss: 0.0078 - acc: 0.9513 - val_loss: 0.0086 - val_acc: 0.9450\n",
      "Epoch 88/100\n",
      "60000/60000 [==============================] - 1s 20us/step - loss: 0.0078 - acc: 0.9517 - val_loss: 0.0084 - val_acc: 0.9453\n",
      "Epoch 89/100\n",
      "60000/60000 [==============================] - 1s 20us/step - loss: 0.0077 - acc: 0.9521 - val_loss: 0.0084 - val_acc: 0.9452\n",
      "Epoch 90/100\n",
      "60000/60000 [==============================] - 1s 20us/step - loss: 0.0077 - acc: 0.9523 - val_loss: 0.0085 - val_acc: 0.9445\n",
      "Epoch 91/100\n",
      "60000/60000 [==============================] - 1s 23us/step - loss: 0.0076 - acc: 0.9534 - val_loss: 0.0083 - val_acc: 0.9457\n",
      "Epoch 92/100\n",
      "60000/60000 [==============================] - 2s 31us/step - loss: 0.0076 - acc: 0.9531 - val_loss: 0.0083 - val_acc: 0.9455\n",
      "Epoch 93/100\n",
      "60000/60000 [==============================] - 2s 30us/step - loss: 0.0075 - acc: 0.9536 - val_loss: 0.0083 - val_acc: 0.9446\n",
      "Epoch 94/100\n",
      "60000/60000 [==============================] - 1s 24us/step - loss: 0.0075 - acc: 0.9533 - val_loss: 0.0082 - val_acc: 0.9468\n",
      "Epoch 95/100\n",
      "60000/60000 [==============================] - 1s 23us/step - loss: 0.0074 - acc: 0.9539 - val_loss: 0.0082 - val_acc: 0.9462\n",
      "Epoch 96/100\n",
      "60000/60000 [==============================] - 1s 24us/step - loss: 0.0074 - acc: 0.9544 - val_loss: 0.0083 - val_acc: 0.9464\n",
      "Epoch 97/100\n",
      "60000/60000 [==============================] - 1s 24us/step - loss: 0.0074 - acc: 0.9544 - val_loss: 0.0084 - val_acc: 0.9455\n",
      "Epoch 98/100\n",
      "60000/60000 [==============================] - 1s 24us/step - loss: 0.0073 - acc: 0.9547 - val_loss: 0.0083 - val_acc: 0.9453\n",
      "Epoch 99/100\n",
      "60000/60000 [==============================] - 1s 24us/step - loss: 0.0073 - acc: 0.9551 - val_loss: 0.0082 - val_acc: 0.9464\n",
      "Epoch 100/100\n",
      "60000/60000 [==============================] - 1s 22us/step - loss: 0.0072 - acc: 0.9552 - val_loss: 0.0081 - val_acc: 0.9478\n",
      "10000/10000 [==============================] - 0s 22us/step\n",
      "model_4 loss 0.008080208052066155\n",
      "model_4 正確率 0.9478\n"
     ]
    }
   ],
   "source": [
    "model_4 = Sequential()\n",
    "model_4.add(Dense(30, input_dim = 784))\n",
    "model_4.add(Activation('softplus'))\n",
    "model_4.add(Dense(20))\n",
    "model_4.add(Activation('softplus'))\n",
    "model_4.add(Dense(20))\n",
    "model_4.add(Activation('softplus'))\n",
    "model_4.add(Dense(10))\n",
    "model_4.add(Activation('softmax'))\n",
    "model_4.summary()\n",
    "model_4.compile(loss = \"mse\", optimizer = SGD(lr = 0.087), metrics = [\"accuracy\"]) \n",
    "model_4_result = model_4.fit(x_train_normalization, y_train,\n",
    "                             batch_size = 100,\n",
    "                             epochs = 100,\n",
    "                             verbose = 1, \n",
    "                             validation_data = (x_test_normalization,y_test))\n",
    "score_4 = model_4.evaluate(x_test_normalization,y_test)\n",
    "print('model_4 loss',score_4[0])\n",
    "print('model_4 正確率',score_4[1])"
   ]
  },
  {
   "cell_type": "code",
   "execution_count": 46,
   "metadata": {
    "scrolled": true
   },
   "outputs": [
    {
     "data": {
      "image/png": "[encoded data removed]",
      "text/plain": [
       "<Figure size 432x288 with 1 Axes>"
      ]
     },
     "metadata": {},
     "output_type": "display_data"
    }
   ],
   "source": [
    "plt.plot(model_result.history['acc'])\n",
    "plt.plot(model_1_result.history['acc'])\n",
    "plt.plot(model_2_result.history['acc'])\n",
    "plt.plot(model_3_result.history['acc'])\n",
    "plt.plot(model_4_result.history['acc'])\n",
    "\n",
    "plt.title('model training accuracy')\n",
    "plt.ylabel('accuracy')\n",
    "plt.xlabel('epoch')\n",
    "plt.legend(['model','model_1','model_2','model_3','model_4'],loc = 'best')\n",
    "plt.show()"
   ]
  },
  {
   "cell_type": "code",
   "execution_count": 47,
   "metadata": {},
   "outputs": [
    {
     "name": "stdout",
     "output_type": "stream",
     "text": [
      "10000/10000 [==============================] - 0s 20us/step\n",
      "10000/10000 [==============================] - 0s 23us/step\n",
      "10000/10000 [==============================] - 0s 23us/step\n",
      "10000/10000 [==============================] - 0s 23us/step\n",
      "10000/10000 [==============================] - 0s 26us/step\n",
      "model   loss: 0.0679701542019844 model 正確率: 0.3891\n",
      "model_1 loss: 0.011967273887526244 model_1 正確率: 0.9245\n",
      "model_2 loss: 0.02228885837942362 model_2 正確率: 0.8751\n",
      "model_3 loss: 0.013237543993326835 model_3 正確率: 0.9145\n",
      "model_4 loss: 0.008080208052066155 model_4 正確率: 0.9478\n"
     ]
    }
   ],
   "source": [
    "score = model.evaluate(x_test_normalization,y_test)\n",
    "score_1 = model_1.evaluate(x_test_normalization,y_test)\n",
    "score_2 = model_2.evaluate(x_test_normalization,y_test)\n",
    "score_3 = model_3.evaluate(x_test_normalization,y_test)\n",
    "score_4 = model_4.evaluate(x_test_normalization,y_test)\n",
    "print('model   loss:',score[0],'model 正確率:',score[1])\n",
    "print('model_1 loss:',score_1[0],'model_1 正確率:',score_1[1])\n",
    "print('model_2 loss:',score_2[0],'model_2 正確率:',score_2[1])\n",
    "print('model_3 loss:',score_3[0],'model_3 正確率:',score_3[1])\n",
    "print('model_4 loss:',score_4[0],'model_4 正確率:',score_4[1])"
   ]
  },
  {
   "cell_type": "code",
   "execution_count": 48,
   "metadata": {},
   "outputs": [
    {
     "data": {
      "image/png": "[encoded data removed]",
      "text/plain": [
       "<Figure size 432x288 with 1 Axes>"
      ]
     },
     "metadata": {},
     "output_type": "display_data"
    }
   ],
   "source": [
    "plt.plot(model_result.history['acc'])\n",
    "plt.plot(model_1_result.history['acc'])\n",
    "plt.plot(model_2_result.history['acc'])\n",
    "plt.plot(model_3_result.history['acc'])\n",
    "plt.plot(model_4_result.history['acc'])\n",
    "plt.title('model training accuracy')\n",
    "plt.ylabel('accuracy')\n",
    "plt.xlabel('epoch')\n",
    "plt.legend(['model','model_1','modle_2','model_3','model_4'],loc = 'best')\n",
    "plt.show()"
   ]
  },
  {
   "cell_type": "code",
   "execution_count": 49,
   "metadata": {},
   "outputs": [],
   "source": [
    "model_json = model.to_json()\n",
    "open('[NCTS]_Homework_Q7-1_NeuronNetwork_DavidChi.json', 'w').write(model_json)\n",
    "model.save_weights('[NCTS]_Homework_Q7-1_NeuronNetwork_DavidChi.h5')"
   ]
  }
 ],
 "metadata": {
  "kernelspec": {
   "display_name": "Python 3",
   "language": "python",
   "name": "python3"
  },
  "language_info": {
   "codemirror_mode": {
    "name": "ipython",
    "version": 3
   },
   "file_extension": ".py",
   "mimetype": "text/x-python",
   "name": "python",
   "nbconvert_exporter": "python",
   "pygments_lexer": "ipython3",
   "version": "3.6.5"
  }
 },
 "nbformat": 4,
 "nbformat_minor": 2
}
