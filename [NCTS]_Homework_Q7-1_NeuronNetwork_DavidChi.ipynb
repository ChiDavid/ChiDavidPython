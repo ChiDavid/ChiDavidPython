{
 "cells": [
  {
   "cell_type": "code",
   "execution_count": 1,
   "metadata": {},
   "outputs": [
    {
     "name": "stdout",
     "output_type": "stream",
     "text": [
      "env: KERAS_BACKEND=tensorflow\n"
     ]
    }
   ],
   "source": [
    "%matplotlib inline\n",
    "%env KERAS_BACKEND = tensorflow\n",
    "\n",
    "import time\n",
    "import locale\n",
    "import random\n",
    "import numpy as np\n",
    "import pandas as pd\n",
    "import matplotlib as mpl\n",
    "import matplotlib.pyplot as plt\n",
    "\n",
    "from ipywidgets import interact\n",
    "from sklearn.linear_model import LinearRegression\n",
    "from matplotlib.font_manager import FontProperties\n",
    "from sklearn.model_selection import train_test_split\n",
    "\n",
    "myfont = FontProperties(fname = r'c:\\windows\\fonts\\simsun.ttc', size = 14)"
   ]
  },
  {
   "cell_type": "code",
   "execution_count": 2,
   "metadata": {},
   "outputs": [
    {
     "name": "stderr",
     "output_type": "stream",
     "text": [
      "Using TensorFlow backend.\n"
     ]
    }
   ],
   "source": [
    "from keras.datasets import mnist\n",
    "\n",
    "(x_train, y_train), (x_test, y_test) = mnist.load_data()"
   ]
  },
  {
   "cell_type": "code",
   "execution_count": 3,
   "metadata": {},
   "outputs": [
    {
     "data": {
      "text/plain": [
       "60000"
      ]
     },
     "execution_count": 3,
     "metadata": {},
     "output_type": "execute_result"
    }
   ],
   "source": [
    "len(x_train)"
   ]
  },
  {
   "cell_type": "code",
   "execution_count": 4,
   "metadata": {},
   "outputs": [
    {
     "data": {
      "text/plain": [
       "10000"
      ]
     },
     "execution_count": 4,
     "metadata": {},
     "output_type": "execute_result"
    }
   ],
   "source": [
    "len(x_test)"
   ]
  },
  {
   "cell_type": "code",
   "execution_count": 5,
   "metadata": {},
   "outputs": [],
   "source": [
    "X = x_train[87]"
   ]
  },
  {
   "cell_type": "code",
   "execution_count": 6,
   "metadata": {},
   "outputs": [
    {
     "data": {
      "text/plain": [
       "array([[  0,   0,   0,   0,   0,   0,   0,   0,   0,   0,   0,   0,   0,\n",
       "          0,   0,   0,   0,   0,   0,   0,   0,   0,   0,   0,   0,   0,\n",
       "          0,   0],\n",
       "       [  0,   0,   0,   0,   0,   0,   0,   0,   0,   0,   0,   0,   0,\n",
       "          0,   0,   0,   0,   0,   0,   0,   0,   0,   0,   0,   0,   0,\n",
       "          0,   0],\n",
       "       [  0,   0,   0,   0,   0,   0,   0,   0,   0,   0,   0,   0,   0,\n",
       "          0,   0,   0,   0,   0,   0,   0,   0,   0,   0,   0,   0,   0,\n",
       "          0,   0],\n",
       "       [  0,   0,   0,   0,   0,   0,   0,   0,   0,   0,   0,   0,   0,\n",
       "          0,   0,   0,   0,   0,   0,   0,   0,   0,   0,   0,   0,   0,\n",
       "          0,   0],\n",
       "       [  0,   0,   0,   0,   0,   0,   0,   0,   0,   0,   0,   0,   0,\n",
       "          0,   0,   0,   0,   0,   0,   0,   0,   0,   0,   0,   0,   0,\n",
       "          0,   0],\n",
       "       [  0,   0,   0,   0,   0,   0,   0,   0,   0,   0,   0,   0,   0,\n",
       "          0,   0,   0,   0,   0,   0,   0,   0,   0,   0,   0,   0,   0,\n",
       "          0,   0],\n",
       "       [  0,   0,   0,   0,   0,   0,   0,   0,   0,   0,   0,   0,   0,\n",
       "          0,   0,   0,   0,   0,   0,   0,   0,   0,   0,   0,   0,   0,\n",
       "          0,   0],\n",
       "       [  0,   0,   0,   0,   0,   0,   0,   0,   0,   0,   0,   0,  39,\n",
       "        125, 225, 254, 254, 255, 254, 170,  48,   0,   0,   0,   0,   0,\n",
       "          0,   0],\n",
       "       [  0,   0,   0,   0,   0,   0,   0,   0,   0,   0,  43, 101, 250,\n",
       "        253, 253, 253, 253, 253, 253, 253, 250, 161,   0,   0,   0,   0,\n",
       "          0,   0],\n",
       "       [  0,   0,   0,   0,   0,   0,   0,   0,   0,  94, 246, 247, 253,\n",
       "        253, 196, 227, 116,  56, 253, 253, 253, 234,   0,   0,   0,   0,\n",
       "          0,   0],\n",
       "       [  0,   0,   0,   0,   0,   0,   0,   0,   0, 152, 253, 253, 180,\n",
       "         19,   9,  15,   0,   4,  55, 253, 253, 166,   0,   0,   0,   0,\n",
       "          0,   0],\n",
       "       [  0,   0,   0,   0,   0,   0,   0,   0,  41, 238, 253, 253, 125,\n",
       "          0,   0,   0,  21, 189, 232, 253, 253, 117,   0,   0,   0,   0,\n",
       "          0,   0],\n",
       "       [  0,   0,   0,   0,   0,   0,   0,   0, 219, 253, 220, 165,  34,\n",
       "         92,  21,  52, 228, 253, 253, 241,  82,  13,   0,   0,   0,   0,\n",
       "          0,   0],\n",
       "       [  0,   0,   0,   0,   0,   0,   0,  38, 241, 170,  25,  20,  12,\n",
       "         75,  39,  59, 253, 253, 253, 110,   0,   0,   0,   0,   0,   0,\n",
       "          0,   0],\n",
       "       [  0,   0,   0,   0,   0,   0,   0, 112, 253, 236,  67,   0,   0,\n",
       "          0,   0, 100, 253, 253, 221,  16,   0,   0,   0,   0,   0,   0,\n",
       "          0,   0],\n",
       "       [  0,   0,   0,   0,   0,   0,   0,  23, 239, 253, 235, 202, 135,\n",
       "         99, 173, 240, 253, 253, 110,   0,   0,   0,   0,   0,   0,   0,\n",
       "          0,   0],\n",
       "       [  0,   0,   0,   0,   0,   0,   0,   0,  54, 200, 253, 253, 253,\n",
       "        253, 253, 253, 253, 241,  63,   0,   0,   0,   0,   0,   0,   0,\n",
       "          0,   0],\n",
       "       [  0,   0,   0,   0,   0,   0,   0,   0,   0,  25, 112, 244, 253,\n",
       "        237, 142, 253, 253, 111,   0,   0,   0,   0,   0,   0,   0,   0,\n",
       "          0,   0],\n",
       "       [  0,   0,   0,   0,   0,   0,   0,   0,   0,   0,   0,  61,  71,\n",
       "         51, 159, 253, 188,  22,   0,   0,   0,   0,   0,   0,   0,   0,\n",
       "          0,   0],\n",
       "       [  0,   0,   0,   0,   0,   0,   0,   0,   0,   0,   0,   0,  15,\n",
       "        150, 236, 212,  22,   0,   0,   0,   0,   0,   0,   0,   0,   0,\n",
       "          0,   0],\n",
       "       [  0,   0,   0,   0,   0,   0,   0,   0,   0,   0,   0,   0,  99,\n",
       "        253, 243,  98,   0,   0,   0,   0,   0,   0,   0,   0,   0,   0,\n",
       "          0,   0],\n",
       "       [  0,   0,   0,   0,   0,   0,   0,   0,   0,   0,   0,  72, 237,\n",
       "        253, 105,   0,   0,   0,   0,   0,   0,   0,   0,   0,   0,   0,\n",
       "          0,   0],\n",
       "       [  0,   0,   0,   0,   0,   0,   0,   0,   0,   0,  10, 219, 253,\n",
       "        195,  22,   0,   0,   0,   0,   0,   0,   0,   0,   0,   0,   0,\n",
       "          0,   0],\n",
       "       [  0,   0,   0,   0,   0,   0,   0,   0,   0,   8, 171, 253, 207,\n",
       "         21,   0,   0,   0,   0,   0,   0,   0,   0,   0,   0,   0,   0,\n",
       "          0,   0],\n",
       "       [  0,   0,   0,   0,   0,   0,   0,   0,   0, 105, 253, 198,  76,\n",
       "          0,   0,   0,   0,   0,   0,   0,   0,   0,   0,   0,   0,   0,\n",
       "          0,   0],\n",
       "       [  0,   0,   0,   0,   0,   0,   0,   0,  60, 242, 253,  38,   0,\n",
       "          0,   0,   0,   0,   0,   0,   0,   0,   0,   0,   0,   0,   0,\n",
       "          0,   0],\n",
       "       [  0,   0,   0,   0,   0,   0,   0,   0, 235, 253, 206,  19,   0,\n",
       "          0,   0,   0,   0,   0,   0,   0,   0,   0,   0,   0,   0,   0,\n",
       "          0,   0],\n",
       "       [  0,   0,   0,   0,   0,   0,   0,   0,   0,   0,   0,   0,   0,\n",
       "          0,   0,   0,   0,   0,   0,   0,   0,   0,   0,   0,   0,   0,\n",
       "          0,   0]], dtype=uint8)"
      ]
     },
     "execution_count": 6,
     "metadata": {},
     "output_type": "execute_result"
    }
   ],
   "source": [
    "X"
   ]
  },
  {
   "cell_type": "code",
   "execution_count": 7,
   "metadata": {},
   "outputs": [
    {
     "data": {
      "text/plain": [
       "(28, 28)"
      ]
     },
     "execution_count": 7,
     "metadata": {},
     "output_type": "execute_result"
    }
   ],
   "source": [
    "X.shape"
   ]
  },
  {
   "cell_type": "code",
   "execution_count": 8,
   "metadata": {},
   "outputs": [
    {
     "data": {
      "text/plain": [
       "<matplotlib.image.AxesImage at 0x255d3b609e8>"
      ]
     },
     "execution_count": 8,
     "metadata": {},
     "output_type": "execute_result"
    },
    {
     "data": {
      "image/png": "[encoded data removed]",
      "text/plain": [
       "<Figure size 432x288 with 1 Axes>"
      ]
     },
     "metadata": {},
     "output_type": "display_data"
    }
   ],
   "source": [
    "plt.imshow(X, cmap = 'Greys')"
   ]
  },
  {
   "cell_type": "code",
   "execution_count": 9,
   "metadata": {},
   "outputs": [
    {
     "data": {
      "text/plain": [
       "9"
      ]
     },
     "execution_count": 9,
     "metadata": {},
     "output_type": "execute_result"
    }
   ],
   "source": [
    "y_train[87]"
   ]
  },
  {
   "cell_type": "code",
   "execution_count": 10,
   "metadata": {},
   "outputs": [
    {
     "data": {
      "text/plain": [
       "(60000, 28, 28)"
      ]
     },
     "execution_count": 10,
     "metadata": {},
     "output_type": "execute_result"
    }
   ],
   "source": [
    "x_train.shape"
   ]
  },
  {
   "cell_type": "code",
   "execution_count": 11,
   "metadata": {},
   "outputs": [
    {
     "data": {
      "text/plain": [
       "(10000, 28, 28)"
      ]
     },
     "execution_count": 11,
     "metadata": {},
     "output_type": "execute_result"
    }
   ],
   "source": [
    "x_test.shape"
   ]
  },
  {
   "cell_type": "code",
   "execution_count": 12,
   "metadata": {},
   "outputs": [],
   "source": [
    "x_train = x_train.reshape(60000, 784)"
   ]
  },
  {
   "cell_type": "code",
   "execution_count": 13,
   "metadata": {},
   "outputs": [],
   "source": [
    "x_test = x_test.reshape(10000, 784)"
   ]
  },
  {
   "cell_type": "code",
   "execution_count": 14,
   "metadata": {},
   "outputs": [],
   "source": [
    "from keras.utils import np_utils"
   ]
  },
  {
   "cell_type": "code",
   "execution_count": 15,
   "metadata": {},
   "outputs": [],
   "source": [
    "y_train = np_utils.to_categorical(y_train, 10)\n",
    "y_test = np_utils.to_categorical(y_test, 10)"
   ]
  },
  {
   "cell_type": "code",
   "execution_count": 16,
   "metadata": {},
   "outputs": [
    {
     "data": {
      "text/plain": [
       "array([0., 0., 0., 0., 0., 0., 0., 0., 0., 1.], dtype=float32)"
      ]
     },
     "execution_count": 16,
     "metadata": {},
     "output_type": "execute_result"
    }
   ],
   "source": [
    "y_train[87]"
   ]
  },
  {
   "cell_type": "code",
   "execution_count": 17,
   "metadata": {},
   "outputs": [],
   "source": [
    "from keras.models import Sequential\n",
    "from keras.layers import Dense, Activation\n",
    "from keras.optimizers import SGD"
   ]
  },
  {
   "cell_type": "code",
   "execution_count": 18,
   "metadata": {},
   "outputs": [],
   "source": [
    "model = Sequential()"
   ]
  },
  {
   "cell_type": "code",
   "execution_count": 19,
   "metadata": {},
   "outputs": [],
   "source": [
    "model.add(Dense(4, input_dim = 784))\n",
    "model.add(Activation('sigmoid'))"
   ]
  },
  {
   "cell_type": "code",
   "execution_count": 20,
   "metadata": {},
   "outputs": [],
   "source": [
    "model.add(Dense(2))\n",
    "model.add(Activation('sigmoid'))"
   ]
  },
  {
   "cell_type": "code",
   "execution_count": 21,
   "metadata": {},
   "outputs": [],
   "source": [
    "model.add(Dense(10))\n",
    "model.add(Activation('softmax'))"
   ]
  },
  {
   "cell_type": "code",
   "execution_count": 22,
   "metadata": {},
   "outputs": [],
   "source": [
    "model.compile(loss = 'mse', optimizer = SGD(lr = 0.87), metrics = ['accuracy'])"
   ]
  },
  {
   "cell_type": "code",
   "execution_count": 23,
   "metadata": {},
   "outputs": [
    {
     "name": "stdout",
     "output_type": "stream",
     "text": [
      "_________________________________________________________________\n",
      "Layer (type)                 Output Shape              Param #   \n",
      "=================================================================\n",
      "dense_1 (Dense)              (None, 4)                 3140      \n",
      "_________________________________________________________________\n",
      "activation_1 (Activation)    (None, 4)                 0         \n",
      "_________________________________________________________________\n",
      "dense_2 (Dense)              (None, 2)                 10        \n",
      "_________________________________________________________________\n",
      "activation_2 (Activation)    (None, 2)                 0         \n",
      "_________________________________________________________________\n",
      "dense_3 (Dense)              (None, 10)                30        \n",
      "_________________________________________________________________\n",
      "activation_3 (Activation)    (None, 10)                0         \n",
      "=================================================================\n",
      "Total params: 3,180\n",
      "Trainable params: 3,180\n",
      "Non-trainable params: 0\n",
      "_________________________________________________________________\n"
     ]
    }
   ],
   "source": [
    "model.summary()"
   ]
  },
  {
   "cell_type": "code",
   "execution_count": 24,
   "metadata": {},
   "outputs": [
    {
     "data": {
      "text/plain": [
       "3140"
      ]
     },
     "execution_count": 24,
     "metadata": {},
     "output_type": "execute_result"
    }
   ],
   "source": [
    "784*4+4"
   ]
  },
  {
   "cell_type": "code",
   "execution_count": 25,
   "metadata": {},
   "outputs": [
    {
     "data": {
      "text/plain": [
       "10"
      ]
     },
     "execution_count": 25,
     "metadata": {},
     "output_type": "execute_result"
    }
   ],
   "source": [
    "4*2+2"
   ]
  },
  {
   "cell_type": "code",
   "execution_count": 26,
   "metadata": {},
   "outputs": [
    {
     "data": {
      "text/plain": [
       "30"
      ]
     },
     "execution_count": 26,
     "metadata": {},
     "output_type": "execute_result"
    }
   ],
   "source": [
    "2*10+10"
   ]
  },
  {
   "cell_type": "code",
   "execution_count": 27,
   "metadata": {},
   "outputs": [
    {
     "name": "stdout",
     "output_type": "stream",
     "text": [
      "Train on 60000 samples, validate on 10000 samples\n",
      "Epoch 1/20\n",
      "60000/60000 [==============================] - 1s 17us/step - loss: 0.0897 - acc: 0.1570 - val_loss: 0.0892 - val_acc: 0.2037\n",
      "Epoch 2/20\n",
      "60000/60000 [==============================] - 1s 17us/step - loss: 0.0888 - acc: 0.2004 - val_loss: 0.0883 - val_acc: 0.2031\n",
      "Epoch 3/20\n",
      "60000/60000 [==============================] - 1s 18us/step - loss: 0.0877 - acc: 0.2027 - val_loss: 0.0871 - val_acc: 0.2050\n",
      "Epoch 4/20\n",
      "60000/60000 [==============================] - 1s 18us/step - loss: 0.0863 - acc: 0.2011 - val_loss: 0.0856 - val_acc: 0.2051\n",
      "Epoch 5/20\n",
      "60000/60000 [==============================] - 1s 18us/step - loss: 0.0849 - acc: 0.2043 - val_loss: 0.0841 - val_acc: 0.2058\n",
      "Epoch 6/20\n",
      "60000/60000 [==============================] - 1s 18us/step - loss: 0.0836 - acc: 0.2049 - val_loss: 0.0828 - val_acc: 0.2044\n",
      "Epoch 7/20\n",
      "60000/60000 [==============================] - 1s 16us/step - loss: 0.0821 - acc: 0.1974 - val_loss: 0.0809 - val_acc: 0.2026\n",
      "Epoch 8/20\n",
      "60000/60000 [==============================] - 1s 16us/step - loss: 0.0800 - acc: 0.2447 - val_loss: 0.0788 - val_acc: 0.2887\n",
      "Epoch 9/20\n",
      "60000/60000 [==============================] - 1s 16us/step - loss: 0.0778 - acc: 0.3198 - val_loss: 0.0762 - val_acc: 0.3255\n",
      "Epoch 10/20\n",
      "60000/60000 [==============================] - 1s 16us/step - loss: 0.0756 - acc: 0.3731 - val_loss: 0.0749 - val_acc: 0.3742\n",
      "Epoch 11/20\n",
      "60000/60000 [==============================] - 1s 16us/step - loss: 0.0733 - acc: 0.3930 - val_loss: 0.0719 - val_acc: 0.3882\n",
      "Epoch 12/20\n",
      "60000/60000 [==============================] - 1s 17us/step - loss: 0.0715 - acc: 0.3926 - val_loss: 0.0710 - val_acc: 0.3819\n",
      "Epoch 13/20\n",
      "60000/60000 [==============================] - 1s 17us/step - loss: 0.0699 - acc: 0.3957 - val_loss: 0.0695 - val_acc: 0.3933\n",
      "Epoch 14/20\n",
      "60000/60000 [==============================] - 1s 17us/step - loss: 0.0695 - acc: 0.4030 - val_loss: 0.0684 - val_acc: 0.3919\n",
      "Epoch 15/20\n",
      "60000/60000 [==============================] - 1s 17us/step - loss: 0.0678 - acc: 0.4244 - val_loss: 0.0686 - val_acc: 0.4232\n",
      "Epoch 16/20\n",
      "60000/60000 [==============================] - 1s 16us/step - loss: 0.0678 - acc: 0.4441 - val_loss: 0.0693 - val_acc: 0.4228\n",
      "Epoch 17/20\n",
      "60000/60000 [==============================] - 1s 16us/step - loss: 0.0672 - acc: 0.4267 - val_loss: 0.0672 - val_acc: 0.4094\n",
      "Epoch 18/20\n",
      "60000/60000 [==============================] - 1s 16us/step - loss: 0.0671 - acc: 0.4359 - val_loss: 0.0663 - val_acc: 0.4450\n",
      "Epoch 19/20\n",
      "60000/60000 [==============================] - 1s 16us/step - loss: 0.0664 - acc: 0.4640 - val_loss: 0.0662 - val_acc: 0.4742\n",
      "Epoch 20/20\n",
      "60000/60000 [==============================] - 1s 16us/step - loss: 0.0659 - acc: 0.4648 - val_loss: 0.0665 - val_acc: 0.4589\n"
     ]
    }
   ],
   "source": [
    "model_result = model.fit(x_train, y_train, batch_size = 100, epochs = 20, verbose = 1, validation_data = (x_test,y_test))"
   ]
  },
  {
   "cell_type": "markdown",
   "metadata": {},
   "source": [
    "將資料先進行正規化處理"
   ]
  },
  {
   "cell_type": "code",
   "execution_count": 28,
   "metadata": {},
   "outputs": [],
   "source": [
    "x_train_normalization = ( x_train - x_train.min() ) / ( x_train.max() - x_train.min() )\n",
    "x_test_normalization = ( x_test - x_test.min() ) / ( x_test.max() - x_test.min() )"
   ]
  },
  {
   "cell_type": "code",
   "execution_count": 29,
   "metadata": {},
   "outputs": [
    {
     "data": {
      "text/plain": [
       "1.0"
      ]
     },
     "execution_count": 29,
     "metadata": {},
     "output_type": "execute_result"
    }
   ],
   "source": [
    "x_train_normalization.max()"
   ]
  },
  {
   "cell_type": "code",
   "execution_count": 30,
   "metadata": {},
   "outputs": [],
   "source": [
    "from ipywidgets import interact_manual"
   ]
  },
  {
   "cell_type": "code",
   "execution_count": 31,
   "metadata": {},
   "outputs": [],
   "source": [
    "predict = model.predict_classes(x_test)"
   ]
  },
  {
   "cell_type": "code",
   "execution_count": 32,
   "metadata": {},
   "outputs": [
    {
     "data": {
      "text/plain": [
       "array([7, 6, 1, ..., 9, 2, 6], dtype=int64)"
      ]
     },
     "execution_count": 32,
     "metadata": {},
     "output_type": "execute_result"
    }
   ],
   "source": [
    "predict"
   ]
  },
  {
   "cell_type": "code",
   "execution_count": 33,
   "metadata": {},
   "outputs": [],
   "source": [
    "def test(測試編號):\n",
    "    plt.imshow(x_test[測試編號].reshape(28,28), cmap = 'Greys')\n",
    "    print('神經網路判斷為:',predict[測試編號])"
   ]
  },
  {
   "cell_type": "code",
   "execution_count": 34,
   "metadata": {},
   "outputs": [
    {
     "name": "stdout",
     "output_type": "stream",
     "text": [
      "神經網路判斷為: 0\n"
     ]
    },
    {
     "data": {
      "image/png": "[encoded data removed]",
      "text/plain": [
       "<Figure size 432x288 with 1 Axes>"
      ]
     },
     "metadata": {},
     "output_type": "display_data"
    }
   ],
   "source": [
    "test(87)"
   ]
  },
  {
   "cell_type": "code",
   "execution_count": 35,
   "metadata": {},
   "outputs": [
    {
     "data": {
      "application/vnd.jupyter.widget-view+json": {
       "model_id": "048203e0da9e47f3b62123fe2627816d",
       "version_major": 2,
       "version_minor": 0
      },
      "text/plain": [
       "interactive(children=(IntSlider(value=4999, description='測試編號', max=9999), Button(description='Run Interact', …"
      ]
     },
     "metadata": {},
     "output_type": "display_data"
    },
    {
     "data": {
      "text/plain": [
       "<function __main__.test(測試編號)>"
      ]
     },
     "execution_count": 35,
     "metadata": {},
     "output_type": "execute_result"
    }
   ],
   "source": [
    "interact_manual(test,測試編號 = (0,9999))"
   ]
  },
  {
   "cell_type": "code",
   "execution_count": 36,
   "metadata": {},
   "outputs": [
    {
     "name": "stdout",
     "output_type": "stream",
     "text": [
      "10000/10000 [==============================] - 0s 19us/step\n"
     ]
    }
   ],
   "source": [
    "score = model.evaluate(x_test_normalization,y_test)"
   ]
  },
  {
   "cell_type": "code",
   "execution_count": 37,
   "metadata": {},
   "outputs": [
    {
     "name": "stdout",
     "output_type": "stream",
     "text": [
      "loss 0.06574825743436813\n",
      "正確率 0.4593\n"
     ]
    }
   ],
   "source": [
    "print('loss',score[0])\n",
    "print('正確率',score[1])"
   ]
  },
  {
   "cell_type": "markdown",
   "metadata": {},
   "source": [
    "\n",
    "【Model #1 : 調整神經元數量 4:2:10　－＞ 30:20:10】\n"
   ]
  },
  {
   "cell_type": "code",
   "execution_count": 38,
   "metadata": {},
   "outputs": [
    {
     "name": "stdout",
     "output_type": "stream",
     "text": [
      "_________________________________________________________________\n",
      "Layer (type)                 Output Shape              Param #   \n",
      "=================================================================\n",
      "dense_4 (Dense)              (None, 30)                23550     \n",
      "_________________________________________________________________\n",
      "activation_4 (Activation)    (None, 30)                0         \n",
      "_________________________________________________________________\n",
      "dense_5 (Dense)              (None, 20)                620       \n",
      "_________________________________________________________________\n",
      "activation_5 (Activation)    (None, 20)                0         \n",
      "_________________________________________________________________\n",
      "dense_6 (Dense)              (None, 10)                210       \n",
      "_________________________________________________________________\n",
      "activation_6 (Activation)    (None, 10)                0         \n",
      "=================================================================\n",
      "Total params: 24,380\n",
      "Trainable params: 24,380\n",
      "Non-trainable params: 0\n",
      "_________________________________________________________________\n",
      "Train on 60000 samples, validate on 10000 samples\n",
      "Epoch 1/20\n",
      "60000/60000 [==============================] - 1s 23us/step - loss: 0.0900 - acc: 0.1465 - val_loss: 0.0890 - val_acc: 0.2626\n",
      "Epoch 2/20\n",
      "60000/60000 [==============================] - 1s 21us/step - loss: 0.0880 - acc: 0.3107 - val_loss: 0.0864 - val_acc: 0.3615\n",
      "Epoch 3/20\n",
      "60000/60000 [==============================] - 1s 22us/step - loss: 0.0828 - acc: 0.3751 - val_loss: 0.0776 - val_acc: 0.4152\n",
      "Epoch 4/20\n",
      "60000/60000 [==============================] - 1s 22us/step - loss: 0.0721 - acc: 0.4686 - val_loss: 0.0656 - val_acc: 0.5258\n",
      "Epoch 5/20\n",
      "60000/60000 [==============================] - 1s 22us/step - loss: 0.0592 - acc: 0.5591 - val_loss: 0.0533 - val_acc: 0.5779\n",
      "Epoch 6/20\n",
      "60000/60000 [==============================] - 1s 24us/step - loss: 0.0490 - acc: 0.6262 - val_loss: 0.0449 - val_acc: 0.6937\n",
      "Epoch 7/20\n",
      "60000/60000 [==============================] - 1s 21us/step - loss: 0.0410 - acc: 0.7538 - val_loss: 0.0369 - val_acc: 0.7973\n",
      "Epoch 8/20\n",
      "60000/60000 [==============================] - 1s 22us/step - loss: 0.0330 - acc: 0.8242 - val_loss: 0.0288 - val_acc: 0.8474\n",
      "Epoch 9/20\n",
      "60000/60000 [==============================] - 1s 22us/step - loss: 0.0264 - acc: 0.8565 - val_loss: 0.0235 - val_acc: 0.8703\n",
      "Epoch 10/20\n",
      "60000/60000 [==============================] - 1s 22us/step - loss: 0.0223 - acc: 0.8716 - val_loss: 0.0204 - val_acc: 0.8790\n",
      "Epoch 11/20\n",
      "60000/60000 [==============================] - 1s 21us/step - loss: 0.0199 - acc: 0.8808 - val_loss: 0.0185 - val_acc: 0.8892\n",
      "Epoch 12/20\n",
      "60000/60000 [==============================] - 1s 22us/step - loss: 0.0184 - acc: 0.8878 - val_loss: 0.0172 - val_acc: 0.8941\n",
      "Epoch 13/20\n",
      "60000/60000 [==============================] - 1s 22us/step - loss: 0.0172 - acc: 0.8928 - val_loss: 0.0162 - val_acc: 0.8985\n",
      "Epoch 14/20\n",
      "60000/60000 [==============================] - 1s 22us/step - loss: 0.0163 - acc: 0.8976 - val_loss: 0.0154 - val_acc: 0.9012\n",
      "Epoch 15/20\n",
      "60000/60000 [==============================] - 1s 23us/step - loss: 0.0156 - acc: 0.9014 - val_loss: 0.0147 - val_acc: 0.9064\n",
      "Epoch 16/20\n",
      "60000/60000 [==============================] - 2s 26us/step - loss: 0.0149 - acc: 0.9054 - val_loss: 0.0142 - val_acc: 0.9091\n",
      "Epoch 17/20\n",
      "60000/60000 [==============================] - 2s 26us/step - loss: 0.0144 - acc: 0.9089 - val_loss: 0.0137 - val_acc: 0.9122\n",
      "Epoch 18/20\n",
      "60000/60000 [==============================] - 1s 22us/step - loss: 0.0139 - acc: 0.9119 - val_loss: 0.0132 - val_acc: 0.9146\n",
      "Epoch 19/20\n",
      "60000/60000 [==============================] - 1s 25us/step - loss: 0.0134 - acc: 0.9144 - val_loss: 0.0128 - val_acc: 0.9185\n",
      "Epoch 20/20\n",
      "60000/60000 [==============================] - 1s 25us/step - loss: 0.0130 - acc: 0.9173 - val_loss: 0.0124 - val_acc: 0.9206\n",
      "10000/10000 [==============================] - 0s 21us/step\n",
      "model_1 loss 0.012398877220414578\n",
      "model_1 正確率 0.9206\n"
     ]
    }
   ],
   "source": [
    "model_1 = Sequential()#[NCTS]DavidChi\n",
    "model_1.add(Dense(30, input_dim = 784))\n",
    "model_1.add(Activation('sigmoid'))\n",
    "model_1.add(Dense(20))\n",
    "model_1.add(Activation('sigmoid'))\n",
    "model_1.add(Dense(10))\n",
    "model_1.add(Activation('softmax'))\n",
    "model_1.summary()\n",
    "model_1.compile(loss = \"mse\",optimizer = SGD(lr = 0.87),metrics = [\"accuracy\"])\n",
    "model_1_result = model_1.fit(x_train_normalization, y_train, \n",
    "                             batch_size = 100, \n",
    "                             epochs = 20, \n",
    "                             verbose = 1, \n",
    "                             validation_data = (x_test_normalization,y_test))\n",
    "score_1 = model_1.evaluate(x_test_normalization,y_test)\n",
    "print('model_1 loss',score_1[0])\n",
    "print('model_1 正確率',score_1[1])"
   ]
  },
  {
   "cell_type": "code",
   "execution_count": 39,
   "metadata": {},
   "outputs": [
    {
     "data": {
      "image/png": "[encoded data removed]",
      "text/plain": [
       "<Figure size 432x288 with 1 Axes>"
      ]
     },
     "metadata": {},
     "output_type": "display_data"
    }
   ],
   "source": [
    "plt.plot(model_result.history['acc'])\n",
    "plt.plot(model_1_result.history['acc'])\n",
    "\n",
    "plt.title('model training accuracy')\n",
    "plt.ylabel('accuracy')\n",
    "plt.xlabel('epoch')\n",
    "plt.legend(['model','model_1'],loc = 'best')\n",
    "plt.show()"
   ]
  },
  {
   "cell_type": "markdown",
   "metadata": {},
   "source": [
    "\n",
    "【Model #2 : 增加層數 4:2:10　－＞ 30:20:20:10】\n"
   ]
  },
  {
   "cell_type": "code",
   "execution_count": 40,
   "metadata": {},
   "outputs": [
    {
     "name": "stdout",
     "output_type": "stream",
     "text": [
      "_________________________________________________________________\n",
      "Layer (type)                 Output Shape              Param #   \n",
      "=================================================================\n",
      "dense_7 (Dense)              (None, 30)                23550     \n",
      "_________________________________________________________________\n",
      "activation_7 (Activation)    (None, 30)                0         \n",
      "_________________________________________________________________\n",
      "dense_8 (Dense)              (None, 20)                620       \n",
      "_________________________________________________________________\n",
      "activation_8 (Activation)    (None, 20)                0         \n",
      "_________________________________________________________________\n",
      "dense_9 (Dense)              (None, 20)                420       \n",
      "_________________________________________________________________\n",
      "activation_9 (Activation)    (None, 20)                0         \n",
      "_________________________________________________________________\n",
      "dense_10 (Dense)             (None, 10)                210       \n",
      "_________________________________________________________________\n",
      "activation_10 (Activation)   (None, 10)                0         \n",
      "=================================================================\n",
      "Total params: 24,800\n",
      "Trainable params: 24,800\n",
      "Non-trainable params: 0\n",
      "_________________________________________________________________\n",
      "Train on 60000 samples, validate on 10000 samples\n",
      "Epoch 1/20\n",
      "60000/60000 [==============================] - 2s 26us/step - loss: 0.0901 - acc: 0.1108 - val_loss: 0.0899 - val_acc: 0.1135\n",
      "Epoch 2/20\n",
      "60000/60000 [==============================] - 1s 24us/step - loss: 0.0899 - acc: 0.1124 - val_loss: 0.0898 - val_acc: 0.1135\n",
      "Epoch 3/20\n",
      "60000/60000 [==============================] - 1s 25us/step - loss: 0.0898 - acc: 0.1124 - val_loss: 0.0897 - val_acc: 0.1135\n",
      "Epoch 4/20\n",
      "60000/60000 [==============================] - 1s 22us/step - loss: 0.0897 - acc: 0.1186 - val_loss: 0.0896 - val_acc: 0.1135\n",
      "Epoch 5/20\n",
      "60000/60000 [==============================] - 1s 22us/step - loss: 0.0895 - acc: 0.1169 - val_loss: 0.0894 - val_acc: 0.1135\n",
      "Epoch 6/20\n",
      "60000/60000 [==============================] - 1s 24us/step - loss: 0.0893 - acc: 0.1215 - val_loss: 0.0891 - val_acc: 0.1195\n",
      "Epoch 7/20\n",
      "60000/60000 [==============================] - 1s 25us/step - loss: 0.0888 - acc: 0.1303 - val_loss: 0.0884 - val_acc: 0.1503\n",
      "Epoch 8/20\n",
      "60000/60000 [==============================] - 1s 23us/step - loss: 0.0878 - acc: 0.1737 - val_loss: 0.0867 - val_acc: 0.1876\n",
      "Epoch 9/20\n",
      "60000/60000 [==============================] - 1s 22us/step - loss: 0.0845 - acc: 0.2848 - val_loss: 0.0813 - val_acc: 0.3505\n",
      "Epoch 10/20\n",
      "60000/60000 [==============================] - 1s 21us/step - loss: 0.0794 - acc: 0.3753 - val_loss: 0.0772 - val_acc: 0.3927\n",
      "Epoch 11/20\n",
      "60000/60000 [==============================] - 1s 24us/step - loss: 0.0752 - acc: 0.3950 - val_loss: 0.0722 - val_acc: 0.4120\n",
      "Epoch 12/20\n",
      "60000/60000 [==============================] - 1s 22us/step - loss: 0.0694 - acc: 0.4374 - val_loss: 0.0658 - val_acc: 0.4880\n",
      "Epoch 13/20\n",
      "60000/60000 [==============================] - 1s 23us/step - loss: 0.0626 - acc: 0.5291 - val_loss: 0.0588 - val_acc: 0.5520\n",
      "Epoch 14/20\n",
      "60000/60000 [==============================] - 1s 21us/step - loss: 0.0553 - acc: 0.5731 - val_loss: 0.0520 - val_acc: 0.5963\n",
      "Epoch 15/20\n",
      "60000/60000 [==============================] - 1s 22us/step - loss: 0.0491 - acc: 0.6297 - val_loss: 0.0464 - val_acc: 0.6520\n",
      "Epoch 16/20\n",
      "60000/60000 [==============================] - 1s 22us/step - loss: 0.0438 - acc: 0.6888 - val_loss: 0.0413 - val_acc: 0.7163\n",
      "Epoch 17/20\n",
      "60000/60000 [==============================] - 1s 22us/step - loss: 0.0391 - acc: 0.7362 - val_loss: 0.0366 - val_acc: 0.7520\n",
      "Epoch 18/20\n",
      "60000/60000 [==============================] - 1s 23us/step - loss: 0.0348 - acc: 0.7765 - val_loss: 0.0325 - val_acc: 0.7939\n",
      "Epoch 19/20\n",
      "60000/60000 [==============================] - 1s 23us/step - loss: 0.0309 - acc: 0.8149 - val_loss: 0.0287 - val_acc: 0.8344\n",
      "Epoch 20/20\n",
      "60000/60000 [==============================] - 1s 22us/step - loss: 0.0274 - acc: 0.8447 - val_loss: 0.0256 - val_acc: 0.8562\n",
      "10000/10000 [==============================] - 0s 22us/step\n",
      "model_2 loss 0.025556167763471603\n",
      "model_2 正確率 0.8562\n"
     ]
    }
   ],
   "source": [
    "model_2 = Sequential()#[NCTS]DavidChi\n",
    "model_2.add(Dense(30, input_dim = 784))\n",
    "model_2.add(Activation('sigmoid'))\n",
    "model_2.add(Dense(20))\n",
    "model_2.add(Activation('sigmoid'))\n",
    "model_2.add(Dense(20))\n",
    "model_2.add(Activation('sigmoid'))\n",
    "model_2.add(Dense(10))\n",
    "model_2.add(Activation('softmax'))\n",
    "model_2.summary()\n",
    "model_2.compile(loss = \"mse\",optimizer = SGD(lr = 0.87), metrics = [\"accuracy\"])\n",
    "model_2_result = model_2.fit(x_train_normalization, y_train,\n",
    "                             batch_size = 100,\n",
    "                             epochs = 20,\n",
    "                             verbose = 1,\n",
    "                             validation_data = (x_test_normalization,y_test))\n",
    "score_2 = model_2.evaluate(x_test_normalization,y_test)\n",
    "print('model_2 loss',score_2[0])\n",
    "print('model_2 正確率',score_2[1])"
   ]
  },
  {
   "cell_type": "code",
   "execution_count": 41,
   "metadata": {},
   "outputs": [
    {
     "data": {
      "image/png": "[encoded data removed]",
      "text/plain": [
       "<Figure size 432x288 with 1 Axes>"
      ]
     },
     "metadata": {},
     "output_type": "display_data"
    }
   ],
   "source": [
    "plt.plot(model_result.history['acc'])\n",
    "plt.plot(model_1_result.history['acc'])\n",
    "plt.plot(model_2_result.history['acc'])\n",
    "\n",
    "plt.title('model training accuracy')\n",
    "plt.ylabel('accuracy')\n",
    "plt.xlabel('epoch')\n",
    "plt.legend(['model','model_1','model_2'],loc = 'best')\n",
    "plt.show()"
   ]
  },
  {
   "cell_type": "markdown",
   "metadata": {},
   "source": [
    "\n",
    "【Model #3 : 調整 Loss rate : 0.87 --> 0.087】\n"
   ]
  },
  {
   "cell_type": "code",
   "execution_count": 42,
   "metadata": {},
   "outputs": [
    {
     "name": "stdout",
     "output_type": "stream",
     "text": [
      "_________________________________________________________________\n",
      "Layer (type)                 Output Shape              Param #   \n",
      "=================================================================\n",
      "dense_11 (Dense)             (None, 30)                23550     \n",
      "_________________________________________________________________\n",
      "activation_11 (Activation)   (None, 30)                0         \n",
      "_________________________________________________________________\n",
      "dense_12 (Dense)             (None, 20)                620       \n",
      "_________________________________________________________________\n",
      "activation_12 (Activation)   (None, 20)                0         \n",
      "_________________________________________________________________\n",
      "dense_13 (Dense)             (None, 20)                420       \n",
      "_________________________________________________________________\n",
      "activation_13 (Activation)   (None, 20)                0         \n",
      "_________________________________________________________________\n",
      "dense_14 (Dense)             (None, 10)                210       \n",
      "_________________________________________________________________\n",
      "activation_14 (Activation)   (None, 10)                0         \n",
      "=================================================================\n",
      "Total params: 24,800\n",
      "Trainable params: 24,800\n",
      "Non-trainable params: 0\n",
      "_________________________________________________________________\n",
      "Train on 60000 samples, validate on 10000 samples\n",
      "Epoch 1/20\n",
      "60000/60000 [==============================] - 2s 28us/step - loss: 0.0919 - acc: 0.1066 - val_loss: 0.0903 - val_acc: 0.1471\n",
      "Epoch 2/20\n",
      "60000/60000 [==============================] - 2s 28us/step - loss: 0.0898 - acc: 0.1763 - val_loss: 0.0893 - val_acc: 0.2469\n",
      "Epoch 3/20\n",
      "60000/60000 [==============================] - 2s 28us/step - loss: 0.0890 - acc: 0.3285 - val_loss: 0.0885 - val_acc: 0.3904\n",
      "Epoch 4/20\n",
      "60000/60000 [==============================] - 1s 23us/step - loss: 0.0880 - acc: 0.4008 - val_loss: 0.0873 - val_acc: 0.4084\n",
      "Epoch 5/20\n",
      "60000/60000 [==============================] - 1s 25us/step - loss: 0.0862 - acc: 0.3974 - val_loss: 0.0843 - val_acc: 0.3685\n",
      "Epoch 6/20\n",
      "60000/60000 [==============================] - 1s 24us/step - loss: 0.0801 - acc: 0.3852 - val_loss: 0.0730 - val_acc: 0.4562\n",
      "Epoch 7/20\n",
      "60000/60000 [==============================] - 1s 23us/step - loss: 0.0620 - acc: 0.5899 - val_loss: 0.0501 - val_acc: 0.6699\n",
      "Epoch 8/20\n",
      "60000/60000 [==============================] - 1s 25us/step - loss: 0.0427 - acc: 0.7176 - val_loss: 0.0367 - val_acc: 0.7550\n",
      "Epoch 9/20\n",
      "60000/60000 [==============================] - 1s 25us/step - loss: 0.0330 - acc: 0.7822 - val_loss: 0.0282 - val_acc: 0.8171\n",
      "Epoch 10/20\n",
      "60000/60000 [==============================] - 1s 25us/step - loss: 0.0251 - acc: 0.8422 - val_loss: 0.0219 - val_acc: 0.8598\n",
      "Epoch 11/20\n",
      "60000/60000 [==============================] - 1s 25us/step - loss: 0.0211 - acc: 0.8643 - val_loss: 0.0194 - val_acc: 0.8732\n",
      "Epoch 12/20\n",
      "60000/60000 [==============================] - 1s 25us/step - loss: 0.0192 - acc: 0.8757 - val_loss: 0.0182 - val_acc: 0.8800\n",
      "Epoch 13/20\n",
      "60000/60000 [==============================] - 1s 24us/step - loss: 0.0180 - acc: 0.8832 - val_loss: 0.0172 - val_acc: 0.8869\n",
      "Epoch 14/20\n",
      "60000/60000 [==============================] - 1s 24us/step - loss: 0.0171 - acc: 0.8886 - val_loss: 0.0163 - val_acc: 0.8933\n",
      "Epoch 15/20\n",
      "60000/60000 [==============================] - 1s 23us/step - loss: 0.0165 - acc: 0.8936 - val_loss: 0.0161 - val_acc: 0.8938\n",
      "Epoch 16/20\n",
      "60000/60000 [==============================] - 1s 23us/step - loss: 0.0160 - acc: 0.8964 - val_loss: 0.0152 - val_acc: 0.9010\n",
      "Epoch 17/20\n",
      "60000/60000 [==============================] - 1s 23us/step - loss: 0.0155 - acc: 0.8989 - val_loss: 0.0151 - val_acc: 0.9008\n",
      "Epoch 18/20\n",
      "60000/60000 [==============================] - 1s 25us/step - loss: 0.0151 - acc: 0.9013 - val_loss: 0.0145 - val_acc: 0.9058\n",
      "Epoch 19/20\n",
      "60000/60000 [==============================] - 1s 24us/step - loss: 0.0148 - acc: 0.9041 - val_loss: 0.0140 - val_acc: 0.9086\n",
      "Epoch 20/20\n",
      "60000/60000 [==============================] - 1s 24us/step - loss: 0.0145 - acc: 0.9061 - val_loss: 0.0140 - val_acc: 0.9097\n",
      "10000/10000 [==============================] - 0s 22us/step\n",
      "model_3 loss 0.013988794090598822\n",
      "model_3 正確率 0.9097\n"
     ]
    }
   ],
   "source": [
    "model_3 = Sequential()#[NCTS]DavidChi\n",
    "model_3.add(Dense(30, input_dim = 784))\n",
    "model_3.add(Activation('softplus'))\n",
    "model_3.add(Dense(20))\n",
    "model_3.add(Activation('softplus'))\n",
    "model_3.add(Dense(20))\n",
    "model_3.add(Activation('softplus'))\n",
    "model_3.add(Dense(10))\n",
    "model_3.add(Activation('softmax'))\n",
    "model_3.summary()\n",
    "model_3.compile(loss = \"mse\",optimizer = SGD(lr = 0.087), metrics = [\"accuracy\"]) \n",
    "model_3_result = model_3.fit(x_train_normalization, y_train,\n",
    "                             batch_size = 100,\n",
    "                             epochs = 20,\n",
    "                             verbose = 1,\n",
    "                             validation_data = (x_test_normalization,y_test))\n",
    "score_3 = model_3.evaluate(x_test_normalization,y_test)\n",
    "print('model_3 loss',score_3[0])\n",
    "print('model_3 正確率',score_3[1])"
   ]
  },
  {
   "cell_type": "code",
   "execution_count": 43,
   "metadata": {},
   "outputs": [
    {
     "data": {
      "image/png": "[encoded data removed]",
      "text/plain": [
       "<Figure size 432x288 with 1 Axes>"
      ]
     },
     "metadata": {},
     "output_type": "display_data"
    }
   ],
   "source": [
    "plt.plot(model_result.history['acc'])\n",
    "plt.plot(model_1_result.history['acc'])\n",
    "plt.plot(model_2_result.history['acc'])\n",
    "plt.plot(model_3_result.history['acc'])\n",
    "\n",
    "plt.title('model training accuracy')\n",
    "plt.ylabel('accuracy')\n",
    "plt.xlabel('epoch')\n",
    "plt.legend(['model','model_1','model_2','model_3'],loc = 'best')\n",
    "plt.show()"
   ]
  },
  {
   "cell_type": "markdown",
   "metadata": {},
   "source": [
    "\n",
    "【Model #4 : 調整 epochs 20 --> 100】\n"
   ]
  },
  {
   "cell_type": "code",
   "execution_count": 44,
   "metadata": {},
   "outputs": [
    {
     "name": "stdout",
     "output_type": "stream",
     "text": [
      "_________________________________________________________________\n",
      "Layer (type)                 Output Shape              Param #   \n",
      "=================================================================\n",
      "dense_15 (Dense)             (None, 30)                23550     \n",
      "_________________________________________________________________\n",
      "activation_15 (Activation)   (None, 30)                0         \n",
      "_________________________________________________________________\n",
      "dense_16 (Dense)             (None, 20)                620       \n",
      "_________________________________________________________________\n",
      "activation_16 (Activation)   (None, 20)                0         \n",
      "_________________________________________________________________\n",
      "dense_17 (Dense)             (None, 20)                420       \n",
      "_________________________________________________________________\n",
      "activation_17 (Activation)   (None, 20)                0         \n",
      "_________________________________________________________________\n",
      "dense_18 (Dense)             (None, 10)                210       \n",
      "_________________________________________________________________\n",
      "activation_18 (Activation)   (None, 10)                0         \n",
      "=================================================================\n",
      "Total params: 24,800\n",
      "Trainable params: 24,800\n",
      "Non-trainable params: 0\n",
      "_________________________________________________________________\n",
      "Train on 60000 samples, validate on 10000 samples\n",
      "Epoch 1/100\n",
      "60000/60000 [==============================] - 2s 35us/step - loss: 0.0924 - acc: 0.1679 - val_loss: 0.0900 - val_acc: 0.1981\n",
      "Epoch 2/100\n",
      "60000/60000 [==============================] - 1s 21us/step - loss: 0.0888 - acc: 0.2579 - val_loss: 0.0876 - val_acc: 0.3023\n",
      "Epoch 3/100\n",
      "60000/60000 [==============================] - 1s 24us/step - loss: 0.0857 - acc: 0.2831 - val_loss: 0.0829 - val_acc: 0.2602\n",
      "Epoch 4/100\n",
      "60000/60000 [==============================] - 1s 24us/step - loss: 0.0761 - acc: 0.3827 - val_loss: 0.0667 - val_acc: 0.5671\n",
      "Epoch 5/100\n",
      "60000/60000 [==============================] - 1s 24us/step - loss: 0.0529 - acc: 0.6810 - val_loss: 0.0410 - val_acc: 0.7299\n",
      "Epoch 6/100\n",
      "60000/60000 [==============================] - 1s 22us/step - loss: 0.0349 - acc: 0.7703 - val_loss: 0.0287 - val_acc: 0.8123\n",
      "Epoch 7/100\n",
      "60000/60000 [==============================] - 1s 23us/step - loss: 0.0265 - acc: 0.8281 - val_loss: 0.0233 - val_acc: 0.8455\n",
      "Epoch 8/100\n",
      "60000/60000 [==============================] - 1s 23us/step - loss: 0.0226 - acc: 0.8531 - val_loss: 0.0208 - val_acc: 0.8587\n",
      "Epoch 9/100\n",
      "60000/60000 [==============================] - 1s 23us/step - loss: 0.0204 - acc: 0.8678 - val_loss: 0.0189 - val_acc: 0.8737\n",
      "Epoch 10/100\n",
      "60000/60000 [==============================] - 1s 24us/step - loss: 0.0189 - acc: 0.8770 - val_loss: 0.0180 - val_acc: 0.8812\n",
      "Epoch 11/100\n",
      "60000/60000 [==============================] - 1s 22us/step - loss: 0.0178 - acc: 0.8845 - val_loss: 0.0171 - val_acc: 0.8873\n",
      "Epoch 12/100\n",
      "60000/60000 [==============================] - 1s 24us/step - loss: 0.0170 - acc: 0.8897 - val_loss: 0.0164 - val_acc: 0.8928\n",
      "Epoch 13/100\n",
      "60000/60000 [==============================] - 1s 24us/step - loss: 0.0164 - acc: 0.8937 - val_loss: 0.0161 - val_acc: 0.8926\n",
      "Epoch 14/100\n",
      "60000/60000 [==============================] - 1s 24us/step - loss: 0.0158 - acc: 0.8975 - val_loss: 0.0154 - val_acc: 0.8981\n",
      "Epoch 15/100\n",
      "60000/60000 [==============================] - 1s 24us/step - loss: 0.0154 - acc: 0.9005 - val_loss: 0.0151 - val_acc: 0.9008\n",
      "Epoch 16/100\n",
      "60000/60000 [==============================] - 1s 23us/step - loss: 0.0150 - acc: 0.9028 - val_loss: 0.0146 - val_acc: 0.9031\n",
      "Epoch 17/100\n",
      "60000/60000 [==============================] - 1s 25us/step - loss: 0.0147 - acc: 0.9050 - val_loss: 0.0144 - val_acc: 0.9069\n",
      "Epoch 18/100\n",
      "60000/60000 [==============================] - 1s 24us/step - loss: 0.0144 - acc: 0.9065 - val_loss: 0.0143 - val_acc: 0.9063\n",
      "Epoch 19/100\n",
      "60000/60000 [==============================] - 1s 24us/step - loss: 0.0141 - acc: 0.9086 - val_loss: 0.0140 - val_acc: 0.9080\n",
      "Epoch 20/100\n",
      "60000/60000 [==============================] - 1s 25us/step - loss: 0.0139 - acc: 0.9101 - val_loss: 0.0136 - val_acc: 0.9118\n",
      "Epoch 21/100\n",
      "60000/60000 [==============================] - 1s 25us/step - loss: 0.0136 - acc: 0.9116 - val_loss: 0.0135 - val_acc: 0.9126\n",
      "Epoch 22/100\n",
      "60000/60000 [==============================] - 1s 23us/step - loss: 0.0135 - acc: 0.9130 - val_loss: 0.0136 - val_acc: 0.9122\n",
      "Epoch 23/100\n",
      "60000/60000 [==============================] - 2s 27us/step - loss: 0.0133 - acc: 0.9143 - val_loss: 0.0132 - val_acc: 0.9144\n",
      "Epoch 24/100\n",
      "60000/60000 [==============================] - 1s 21us/step - loss: 0.0131 - acc: 0.9151 - val_loss: 0.0130 - val_acc: 0.9154\n",
      "Epoch 25/100\n",
      "60000/60000 [==============================] - 1s 24us/step - loss: 0.0129 - acc: 0.9163 - val_loss: 0.0133 - val_acc: 0.9141\n",
      "Epoch 26/100\n",
      "60000/60000 [==============================] - 1s 24us/step - loss: 0.0128 - acc: 0.9176 - val_loss: 0.0129 - val_acc: 0.9176\n",
      "Epoch 27/100\n",
      "60000/60000 [==============================] - 1s 23us/step - loss: 0.0126 - acc: 0.9184 - val_loss: 0.0127 - val_acc: 0.9190\n",
      "Epoch 28/100\n",
      "60000/60000 [==============================] - 1s 22us/step - loss: 0.0125 - acc: 0.9196 - val_loss: 0.0127 - val_acc: 0.9187\n",
      "Epoch 29/100\n",
      "60000/60000 [==============================] - 1s 23us/step - loss: 0.0124 - acc: 0.9204 - val_loss: 0.0125 - val_acc: 0.9192\n",
      "Epoch 30/100\n",
      "60000/60000 [==============================] - 1s 24us/step - loss: 0.0122 - acc: 0.9213 - val_loss: 0.0124 - val_acc: 0.9209\n",
      "Epoch 31/100\n",
      "60000/60000 [==============================] - 1s 24us/step - loss: 0.0121 - acc: 0.9221 - val_loss: 0.0123 - val_acc: 0.9206\n",
      "Epoch 32/100\n",
      "60000/60000 [==============================] - 1s 24us/step - loss: 0.0120 - acc: 0.9228 - val_loss: 0.0123 - val_acc: 0.9201\n",
      "Epoch 33/100\n",
      "60000/60000 [==============================] - 2s 26us/step - loss: 0.0119 - acc: 0.9239 - val_loss: 0.0122 - val_acc: 0.9211\n",
      "Epoch 34/100\n",
      "60000/60000 [==============================] - 1s 22us/step - loss: 0.0118 - acc: 0.9244 - val_loss: 0.0122 - val_acc: 0.9215\n",
      "Epoch 35/100\n",
      "60000/60000 [==============================] - 1s 24us/step - loss: 0.0117 - acc: 0.9253 - val_loss: 0.0119 - val_acc: 0.9223\n",
      "Epoch 36/100\n",
      "60000/60000 [==============================] - 1s 23us/step - loss: 0.0116 - acc: 0.9261 - val_loss: 0.0118 - val_acc: 0.9243\n",
      "Epoch 37/100\n",
      "60000/60000 [==============================] - 1s 24us/step - loss: 0.0115 - acc: 0.9273 - val_loss: 0.0118 - val_acc: 0.9238\n",
      "Epoch 38/100\n",
      "60000/60000 [==============================] - 1s 24us/step - loss: 0.0114 - acc: 0.9273 - val_loss: 0.0117 - val_acc: 0.9244\n",
      "Epoch 39/100\n",
      "60000/60000 [==============================] - 1s 23us/step - loss: 0.0113 - acc: 0.9284 - val_loss: 0.0118 - val_acc: 0.9242\n",
      "Epoch 40/100\n",
      "60000/60000 [==============================] - 1s 25us/step - loss: 0.0112 - acc: 0.9287 - val_loss: 0.0116 - val_acc: 0.9245\n",
      "Epoch 41/100\n",
      "60000/60000 [==============================] - 1s 21us/step - loss: 0.0111 - acc: 0.9297 - val_loss: 0.0116 - val_acc: 0.9249\n",
      "Epoch 42/100\n",
      "60000/60000 [==============================] - 2s 27us/step - loss: 0.0110 - acc: 0.9302 - val_loss: 0.0118 - val_acc: 0.9246\n",
      "Epoch 43/100\n",
      "60000/60000 [==============================] - 2s 30us/step - loss: 0.0109 - acc: 0.9310 - val_loss: 0.0114 - val_acc: 0.9264\n",
      "Epoch 44/100\n",
      "60000/60000 [==============================] - 2s 26us/step - loss: 0.0108 - acc: 0.9314 - val_loss: 0.0112 - val_acc: 0.9277\n",
      "Epoch 45/100\n",
      "60000/60000 [==============================] - 2s 25us/step - loss: 0.0107 - acc: 0.9323 - val_loss: 0.0114 - val_acc: 0.9264\n",
      "Epoch 46/100\n",
      "60000/60000 [==============================] - 1s 24us/step - loss: 0.0107 - acc: 0.9327 - val_loss: 0.0111 - val_acc: 0.9273\n",
      "Epoch 47/100\n",
      "60000/60000 [==============================] - 1s 24us/step - loss: 0.0106 - acc: 0.9330 - val_loss: 0.0111 - val_acc: 0.9278\n",
      "Epoch 48/100\n",
      "60000/60000 [==============================] - 1s 23us/step - loss: 0.0105 - acc: 0.9334 - val_loss: 0.0109 - val_acc: 0.9286\n",
      "Epoch 49/100\n"
     ]
    },
    {
     "name": "stdout",
     "output_type": "stream",
     "text": [
      "60000/60000 [==============================] - 1s 24us/step - loss: 0.0104 - acc: 0.9341 - val_loss: 0.0110 - val_acc: 0.9269\n",
      "Epoch 50/100\n",
      "60000/60000 [==============================] - 2s 27us/step - loss: 0.0103 - acc: 0.9345 - val_loss: 0.0109 - val_acc: 0.9297\n",
      "Epoch 51/100\n",
      "60000/60000 [==============================] - 2s 26us/step - loss: 0.0103 - acc: 0.9353 - val_loss: 0.0108 - val_acc: 0.9307\n",
      "Epoch 52/100\n",
      "60000/60000 [==============================] - 1s 25us/step - loss: 0.0101 - acc: 0.9362 - val_loss: 0.0108 - val_acc: 0.9303\n",
      "Epoch 53/100\n",
      "60000/60000 [==============================] - 2s 26us/step - loss: 0.0101 - acc: 0.9366 - val_loss: 0.0107 - val_acc: 0.9304\n",
      "Epoch 54/100\n",
      "60000/60000 [==============================] - 2s 31us/step - loss: 0.0100 - acc: 0.9369 - val_loss: 0.0106 - val_acc: 0.9304\n",
      "Epoch 55/100\n",
      "60000/60000 [==============================] - 1s 25us/step - loss: 0.0099 - acc: 0.9378 - val_loss: 0.0105 - val_acc: 0.9313\n",
      "Epoch 56/100\n",
      "60000/60000 [==============================] - 1s 25us/step - loss: 0.0098 - acc: 0.9381 - val_loss: 0.0104 - val_acc: 0.9323\n",
      "Epoch 57/100\n",
      "60000/60000 [==============================] - 1s 24us/step - loss: 0.0097 - acc: 0.9388 - val_loss: 0.0105 - val_acc: 0.9315\n",
      "Epoch 58/100\n",
      "60000/60000 [==============================] - 1s 24us/step - loss: 0.0096 - acc: 0.9394 - val_loss: 0.0104 - val_acc: 0.9322\n",
      "Epoch 59/100\n",
      "60000/60000 [==============================] - 1s 24us/step - loss: 0.0096 - acc: 0.9398 - val_loss: 0.0102 - val_acc: 0.9327\n",
      "Epoch 60/100\n",
      "60000/60000 [==============================] - 1s 24us/step - loss: 0.0095 - acc: 0.9398 - val_loss: 0.0101 - val_acc: 0.9334\n",
      "Epoch 61/100\n",
      "60000/60000 [==============================] - 1s 25us/step - loss: 0.0094 - acc: 0.9412 - val_loss: 0.0101 - val_acc: 0.9328\n",
      "Epoch 62/100\n",
      "60000/60000 [==============================] - 1s 25us/step - loss: 0.0093 - acc: 0.9416 - val_loss: 0.0101 - val_acc: 0.9344\n",
      "Epoch 63/100\n",
      "60000/60000 [==============================] - 1s 25us/step - loss: 0.0093 - acc: 0.9418 - val_loss: 0.0100 - val_acc: 0.9344\n",
      "Epoch 64/100\n",
      "60000/60000 [==============================] - 1s 25us/step - loss: 0.0092 - acc: 0.9421 - val_loss: 0.0099 - val_acc: 0.9356\n",
      "Epoch 65/100\n",
      "60000/60000 [==============================] - 1s 25us/step - loss: 0.0091 - acc: 0.9428 - val_loss: 0.0099 - val_acc: 0.9355\n",
      "Epoch 66/100\n",
      "60000/60000 [==============================] - 1s 24us/step - loss: 0.0090 - acc: 0.9434 - val_loss: 0.0098 - val_acc: 0.9366\n",
      "Epoch 67/100\n",
      "60000/60000 [==============================] - 1s 24us/step - loss: 0.0090 - acc: 0.9444 - val_loss: 0.0098 - val_acc: 0.9355\n",
      "Epoch 68/100\n",
      "60000/60000 [==============================] - 1s 24us/step - loss: 0.0089 - acc: 0.9443 - val_loss: 0.0097 - val_acc: 0.9359\n",
      "Epoch 69/100\n",
      "60000/60000 [==============================] - 1s 24us/step - loss: 0.0088 - acc: 0.9449 - val_loss: 0.0096 - val_acc: 0.9375\n",
      "Epoch 70/100\n",
      "60000/60000 [==============================] - 1s 24us/step - loss: 0.0087 - acc: 0.9456 - val_loss: 0.0096 - val_acc: 0.9372\n",
      "Epoch 71/100\n",
      "60000/60000 [==============================] - 1s 24us/step - loss: 0.0087 - acc: 0.9456 - val_loss: 0.0096 - val_acc: 0.9370\n",
      "Epoch 72/100\n",
      "60000/60000 [==============================] - 1s 24us/step - loss: 0.0086 - acc: 0.9467 - val_loss: 0.0095 - val_acc: 0.9386\n",
      "Epoch 73/100\n",
      "60000/60000 [==============================] - 1s 23us/step - loss: 0.0085 - acc: 0.9470 - val_loss: 0.0094 - val_acc: 0.9399\n",
      "Epoch 74/100\n",
      "60000/60000 [==============================] - 2s 26us/step - loss: 0.0084 - acc: 0.9471 - val_loss: 0.0093 - val_acc: 0.9390\n",
      "Epoch 75/100\n",
      "60000/60000 [==============================] - 1s 23us/step - loss: 0.0084 - acc: 0.9479 - val_loss: 0.0093 - val_acc: 0.9406\n",
      "Epoch 76/100\n",
      "60000/60000 [==============================] - 1s 24us/step - loss: 0.0083 - acc: 0.9486 - val_loss: 0.0092 - val_acc: 0.9395\n",
      "Epoch 77/100\n",
      "60000/60000 [==============================] - 2s 25us/step - loss: 0.0082 - acc: 0.9489 - val_loss: 0.0091 - val_acc: 0.9403\n",
      "Epoch 78/100\n",
      "60000/60000 [==============================] - 1s 25us/step - loss: 0.0082 - acc: 0.9497 - val_loss: 0.0091 - val_acc: 0.9411\n",
      "Epoch 79/100\n",
      "60000/60000 [==============================] - 1s 24us/step - loss: 0.0081 - acc: 0.9493 - val_loss: 0.0091 - val_acc: 0.9417\n",
      "Epoch 80/100\n",
      "60000/60000 [==============================] - 1s 24us/step - loss: 0.0080 - acc: 0.9499 - val_loss: 0.0090 - val_acc: 0.9425\n",
      "Epoch 81/100\n",
      "60000/60000 [==============================] - 1s 25us/step - loss: 0.0080 - acc: 0.9502 - val_loss: 0.0091 - val_acc: 0.9409\n",
      "Epoch 82/100\n",
      "60000/60000 [==============================] - 1s 24us/step - loss: 0.0079 - acc: 0.9512 - val_loss: 0.0088 - val_acc: 0.9427\n",
      "Epoch 83/100\n",
      "60000/60000 [==============================] - 1s 23us/step - loss: 0.0078 - acc: 0.9515 - val_loss: 0.0088 - val_acc: 0.9426\n",
      "Epoch 84/100\n",
      "60000/60000 [==============================] - 1s 24us/step - loss: 0.0078 - acc: 0.9521 - val_loss: 0.0087 - val_acc: 0.9423\n",
      "Epoch 85/100\n",
      "60000/60000 [==============================] - 1s 24us/step - loss: 0.0077 - acc: 0.9516 - val_loss: 0.0088 - val_acc: 0.9432\n",
      "Epoch 86/100\n",
      "60000/60000 [==============================] - 1s 24us/step - loss: 0.0077 - acc: 0.9528 - val_loss: 0.0086 - val_acc: 0.9437\n",
      "Epoch 87/100\n",
      "60000/60000 [==============================] - 1s 22us/step - loss: 0.0076 - acc: 0.9528 - val_loss: 0.0086 - val_acc: 0.9445\n",
      "Epoch 88/100\n",
      "60000/60000 [==============================] - 1s 23us/step - loss: 0.0075 - acc: 0.9536 - val_loss: 0.0086 - val_acc: 0.9443\n",
      "Epoch 89/100\n",
      "60000/60000 [==============================] - 1s 24us/step - loss: 0.0075 - acc: 0.9537 - val_loss: 0.0087 - val_acc: 0.9434\n",
      "Epoch 90/100\n",
      "60000/60000 [==============================] - 1s 24us/step - loss: 0.0074 - acc: 0.9542 - val_loss: 0.0084 - val_acc: 0.9454\n",
      "Epoch 91/100\n",
      "60000/60000 [==============================] - 1s 25us/step - loss: 0.0074 - acc: 0.9536 - val_loss: 0.0084 - val_acc: 0.9450\n",
      "Epoch 92/100\n",
      "60000/60000 [==============================] - 1s 25us/step - loss: 0.0073 - acc: 0.9548 - val_loss: 0.0084 - val_acc: 0.9457\n",
      "Epoch 93/100\n",
      "60000/60000 [==============================] - 1s 25us/step - loss: 0.0073 - acc: 0.9550 - val_loss: 0.0082 - val_acc: 0.9462\n",
      "Epoch 94/100\n",
      "60000/60000 [==============================] - 1s 24us/step - loss: 0.0072 - acc: 0.9554 - val_loss: 0.0082 - val_acc: 0.9468\n",
      "Epoch 95/100\n",
      "60000/60000 [==============================] - 1s 24us/step - loss: 0.0072 - acc: 0.9559 - val_loss: 0.0083 - val_acc: 0.9474\n",
      "Epoch 96/100\n",
      "60000/60000 [==============================] - 1s 23us/step - loss: 0.0071 - acc: 0.9560 - val_loss: 0.0082 - val_acc: 0.9455\n",
      "Epoch 97/100\n",
      "60000/60000 [==============================] - 1s 25us/step - loss: 0.0071 - acc: 0.9566 - val_loss: 0.0083 - val_acc: 0.9459\n",
      "Epoch 98/100\n",
      "60000/60000 [==============================] - 1s 25us/step - loss: 0.0070 - acc: 0.9570 - val_loss: 0.0081 - val_acc: 0.9469\n",
      "Epoch 99/100\n",
      "60000/60000 [==============================] - 1s 23us/step - loss: 0.0070 - acc: 0.9567 - val_loss: 0.0080 - val_acc: 0.9475\n",
      "Epoch 100/100\n",
      "60000/60000 [==============================] - 1s 24us/step - loss: 0.0069 - acc: 0.9575 - val_loss: 0.0080 - val_acc: 0.9482\n",
      "10000/10000 [==============================] - 0s 21us/step\n",
      "model_4 loss 0.007975251015849972\n",
      "model_4 正確率 0.9482\n"
     ]
    }
   ],
   "source": [
    "model_4 = Sequential()#[NCTS]DavidChi\n",
    "model_4.add(Dense(30, input_dim = 784))\n",
    "model_4.add(Activation('softplus'))\n",
    "model_4.add(Dense(20))\n",
    "model_4.add(Activation('softplus'))\n",
    "model_4.add(Dense(20))\n",
    "model_4.add(Activation('softplus'))\n",
    "model_4.add(Dense(10))\n",
    "model_4.add(Activation('softmax'))\n",
    "model_4.summary()\n",
    "model_4.compile(loss = \"mse\", optimizer = SGD(lr = 0.087), metrics = [\"accuracy\"]) \n",
    "model_4_result = model_4.fit(x_train_normalization, y_train,\n",
    "                             batch_size = 100,\n",
    "                             epochs = 100,\n",
    "                             verbose = 1, \n",
    "                             validation_data = (x_test_normalization,y_test))\n",
    "score_4 = model_4.evaluate(x_test_normalization,y_test)\n",
    "print('model_4 loss',score_4[0])\n",
    "print('model_4 正確率',score_4[1])"
   ]
  },
  {
   "cell_type": "code",
   "execution_count": 45,
   "metadata": {
    "scrolled": true
   },
   "outputs": [
    {
     "data": {
      "image/png": "[encoded data removed]",
      "text/plain": [
       "<Figure size 432x288 with 1 Axes>"
      ]
     },
     "metadata": {},
     "output_type": "display_data"
    }
   ],
   "source": [
    "plt.plot(model_result.history['acc'])\n",
    "plt.plot(model_1_result.history['acc'])\n",
    "plt.plot(model_2_result.history['acc'])\n",
    "plt.plot(model_3_result.history['acc'])\n",
    "plt.plot(model_4_result.history['acc'])\n",
    "\n",
    "plt.title('model training accuracy')\n",
    "plt.ylabel('accuracy')\n",
    "plt.xlabel('epoch')\n",
    "plt.legend(['model','model_1','model_2','model_3','model_4'],loc = 'best')\n",
    "plt.show()"
   ]
  },
  {
   "cell_type": "code",
   "execution_count": 46,
   "metadata": {},
   "outputs": [
    {
     "name": "stdout",
     "output_type": "stream",
     "text": [
      "10000/10000 [==============================] - 0s 21us/step\n",
      "10000/10000 [==============================] - 0s 22us/step\n",
      "10000/10000 [==============================] - 0s 22us/step\n",
      "10000/10000 [==============================] - 0s 24us/step\n",
      "10000/10000 [==============================] - 0s 24us/step\n",
      "model   loss: 0.06574825743436813 model 正確率: 0.4593\n",
      "model_1 loss: 0.012398877220414578 model_1 正確率: 0.9206\n",
      "model_2 loss: 0.025556167763471603 model_2 正確率: 0.8562\n",
      "model_3 loss: 0.013988794090598822 model_3 正確率: 0.9097\n",
      "model_4 loss: 0.007975251015849972 model_4 正確率: 0.9482\n"
     ]
    }
   ],
   "source": [
    "score = model.evaluate(x_test_normalization,y_test)\n",
    "score_1 = model_1.evaluate(x_test_normalization,y_test)\n",
    "score_2 = model_2.evaluate(x_test_normalization,y_test)\n",
    "score_3 = model_3.evaluate(x_test_normalization,y_test)\n",
    "score_4 = model_4.evaluate(x_test_normalization,y_test)\n",
    "print('model   loss:',score[0],'model 正確率:',score[1])\n",
    "print('model_1 loss:',score_1[0],'model_1 正確率:',score_1[1])\n",
    "print('model_2 loss:',score_2[0],'model_2 正確率:',score_2[1])\n",
    "print('model_3 loss:',score_3[0],'model_3 正確率:',score_3[1])\n",
    "print('model_4 loss:',score_4[0],'model_4 正確率:',score_4[1])"
   ]
  },
  {
   "cell_type": "code",
   "execution_count": 47,
   "metadata": {},
   "outputs": [
    {
     "data": {
      "image/png": "[encoded data removed]",
      "text/plain": [
       "<Figure size 432x288 with 1 Axes>"
      ]
     },
     "metadata": {},
     "output_type": "display_data"
    }
   ],
   "source": [
    "plt.plot(model_result.history['acc'])\n",
    "plt.plot(model_1_result.history['acc'])\n",
    "plt.plot(model_2_result.history['acc'])\n",
    "plt.plot(model_3_result.history['acc'])\n",
    "plt.plot(model_4_result.history['acc'])\n",
    "plt.title('model training accuracy')\n",
    "plt.ylabel('accuracy')\n",
    "plt.xlabel('epoch')\n",
    "plt.legend(['model','model_1','modle_2','model_3','model_4'],loc = 'best')\n",
    "plt.show()"
   ]
  },
  {
   "cell_type": "code",
   "execution_count": 48,
   "metadata": {},
   "outputs": [],
   "source": [
    "model_json = model.to_json()\n",
    "open('[NCTS]_Homework_Q7-1_NeuronNetwork_DavidChi.json', 'w').write(model_json)\n",
    "model.save_weights('[NCTS]_Homework_Q7-1_NeuronNetwork_DavidChi.h5')"
   ]
  }
 ],
 "metadata": {
  "kernelspec": {
   "display_name": "Python 3",
   "language": "python",
   "name": "python3"
  },
  "language_info": {
   "codemirror_mode": {
    "name": "ipython",
    "version": 3
   },
   "file_extension": ".py",
   "mimetype": "text/x-python",
   "name": "python",
   "nbconvert_exporter": "python",
   "pygments_lexer": "ipython3",
   "version": "3.6.5"
  }
 },
 "nbformat": 4,
 "nbformat_minor": 2
}
