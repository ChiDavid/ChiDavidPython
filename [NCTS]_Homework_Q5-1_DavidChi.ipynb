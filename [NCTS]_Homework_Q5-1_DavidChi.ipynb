{
 "cells": [
  {
   "cell_type": "code",
   "execution_count": 4,
   "metadata": {},
   "outputs": [],
   "source": [
    "%matplotlib inline\n",
    "\n",
    "import numpy as np\n",
    "import matplotlib.pyplot as plt\n",
    "from matplotlib.font_manager import FontProperties\n",
    "import matplotlib as mpl\n",
    "import pandas as pd\n",
    "import locale\n",
    "import time\n",
    "from ipywidgets import interact\n",
    "from sklearn.linear_model import LinearRegression\n",
    "from sklearn.model_selection import train_test_split\n",
    "myfont = FontProperties(fname=r'c:\\windows\\fonts\\simsun.ttc', size=14)"
   ]
  },
  {
   "cell_type": "code",
   "execution_count": 5,
   "metadata": {},
   "outputs": [
    {
     "data": {
      "text/html": [
       "<div>\n",
       "<style scoped>\n",
       "    .dataframe tbody tr th:only-of-type {\n",
       "        vertical-align: middle;\n",
       "    }\n",
       "\n",
       "    .dataframe tbody tr th {\n",
       "        vertical-align: top;\n",
       "    }\n",
       "\n",
       "    .dataframe thead th {\n",
       "        text-align: right;\n",
       "    }\n",
       "</style>\n",
       "<table border=\"1\" class=\"dataframe\">\n",
       "  <thead>\n",
       "    <tr style=\"text-align: right;\">\n",
       "      <th></th>\n",
       "      <th>Unnamed: 0</th>\n",
       "      <th>汽車登記數(輛)[含特種車不含拖車]</th>\n",
       "      <th>機車登記數(輛)</th>\n",
       "      <th>汽車停車格位數</th>\n",
       "      <th>機車停車格位數</th>\n",
       "      <th>高雄捷運系統營運---載客人次</th>\n",
       "      <th>高雄捷運系統營運---車次</th>\n",
       "      <th>公車客運---公車系統總運量(人次)</th>\n",
       "      <th>公車客運 ---市區公車運量(人次)</th>\n",
       "      <th>公車客運---捷運接駁公車運量(人次)</th>\n",
       "      <th>...</th>\n",
       "      <th>交通事故---車輛肇事受傷人數(A1+A2纇)</th>\n",
       "      <th>交通事故---車輛肇事死亡人數(A1纇)</th>\n",
       "      <th>交通事故---違反交通管理案件數</th>\n",
       "      <th>主要觀光遊憩區人次</th>\n",
       "      <th>主要觀光遊憩區人次--- 旗津風景區</th>\n",
       "      <th>主要觀光遊憩區人次---蓮池潭</th>\n",
       "      <th>主要觀光遊憩區人次---壽山動物園</th>\n",
       "      <th>主要觀光遊憩區人次---佛光山</th>\n",
       "      <th>主要觀光遊憩區人次---澄清湖</th>\n",
       "      <th>主要觀光遊憩區人次---美濃客家文物館</th>\n",
       "    </tr>\n",
       "  </thead>\n",
       "  <tbody>\n",
       "    <tr>\n",
       "      <th>0</th>\n",
       "      <td>2013年12月</td>\n",
       "      <td>845438</td>\n",
       "      <td>2089526</td>\n",
       "      <td>96705.0</td>\n",
       "      <td>50061.0</td>\n",
       "      <td>5548220</td>\n",
       "      <td>19510</td>\n",
       "      <td>…</td>\n",
       "      <td>…</td>\n",
       "      <td>…</td>\n",
       "      <td>...</td>\n",
       "      <td>6626.0</td>\n",
       "      <td>20</td>\n",
       "      <td>102563</td>\n",
       "      <td>2387315.0</td>\n",
       "      <td>53492.0</td>\n",
       "      <td>94568.0</td>\n",
       "      <td>53638.0</td>\n",
       "      <td>521475.0</td>\n",
       "      <td>154243.0</td>\n",
       "      <td>12936.0</td>\n",
       "    </tr>\n",
       "    <tr>\n",
       "      <th>1</th>\n",
       "      <td>2014年1月</td>\n",
       "      <td>847001</td>\n",
       "      <td>2091758</td>\n",
       "      <td>96675.0</td>\n",
       "      <td>51232.0</td>\n",
       "      <td>5199190</td>\n",
       "      <td>19214</td>\n",
       "      <td>4366366</td>\n",
       "      <td>2708635</td>\n",
       "      <td>1383398</td>\n",
       "      <td>...</td>\n",
       "      <td>6600.0</td>\n",
       "      <td>24</td>\n",
       "      <td>120518</td>\n",
       "      <td>2766679.0</td>\n",
       "      <td>91696.0</td>\n",
       "      <td>124560.0</td>\n",
       "      <td>93786.0</td>\n",
       "      <td>608252.0</td>\n",
       "      <td>131083.0</td>\n",
       "      <td>9012.0</td>\n",
       "    </tr>\n",
       "    <tr>\n",
       "      <th>2</th>\n",
       "      <td>2014年2月</td>\n",
       "      <td>846938</td>\n",
       "      <td>2086305</td>\n",
       "      <td>97263.0</td>\n",
       "      <td>51861.0</td>\n",
       "      <td>5346222</td>\n",
       "      <td>17760</td>\n",
       "      <td>4401387</td>\n",
       "      <td>2935316</td>\n",
       "      <td>1191465</td>\n",
       "      <td>...</td>\n",
       "      <td>5123.0</td>\n",
       "      <td>8</td>\n",
       "      <td>110744</td>\n",
       "      <td>5843497.0</td>\n",
       "      <td>50684.0</td>\n",
       "      <td>201940.0</td>\n",
       "      <td>155893.0</td>\n",
       "      <td>2944854.0</td>\n",
       "      <td>177916.0</td>\n",
       "      <td>27609.0</td>\n",
       "    </tr>\n",
       "    <tr>\n",
       "      <th>3</th>\n",
       "      <td>2014年3月</td>\n",
       "      <td>847416</td>\n",
       "      <td>2082435</td>\n",
       "      <td>97384.0</td>\n",
       "      <td>52299.0</td>\n",
       "      <td>5069447</td>\n",
       "      <td>19326</td>\n",
       "      <td>4539754</td>\n",
       "      <td>2997295</td>\n",
       "      <td>1283249</td>\n",
       "      <td>...</td>\n",
       "      <td>5735.0</td>\n",
       "      <td>20</td>\n",
       "      <td>129812</td>\n",
       "      <td>2460559.0</td>\n",
       "      <td>41905.0</td>\n",
       "      <td>95376.0</td>\n",
       "      <td>92441.0</td>\n",
       "      <td>473967.0</td>\n",
       "      <td>167695.0</td>\n",
       "      <td>12180.0</td>\n",
       "    </tr>\n",
       "    <tr>\n",
       "      <th>4</th>\n",
       "      <td>2014年4月</td>\n",
       "      <td>849083</td>\n",
       "      <td>2081795</td>\n",
       "      <td>98046.0</td>\n",
       "      <td>53731.0</td>\n",
       "      <td>4854796</td>\n",
       "      <td>18670</td>\n",
       "      <td>4666521</td>\n",
       "      <td>3122337</td>\n",
       "      <td>1275007</td>\n",
       "      <td>...</td>\n",
       "      <td>5665.0</td>\n",
       "      <td>14</td>\n",
       "      <td>122820</td>\n",
       "      <td>2340455.0</td>\n",
       "      <td>43368.0</td>\n",
       "      <td>91752.0</td>\n",
       "      <td>85475.0</td>\n",
       "      <td>404360.0</td>\n",
       "      <td>149070.0</td>\n",
       "      <td>12248.0</td>\n",
       "    </tr>\n",
       "  </tbody>\n",
       "</table>\n",
       "<p>5 rows × 43 columns</p>\n",
       "</div>"
      ],
      "text/plain": [
       "  Unnamed: 0  汽車登記數(輛)[含特種車不含拖車]  機車登記數(輛)  汽車停車格位數  機車停車格位數  高雄捷運系統營運---載客人次  \\\n",
       "0   2013年12月              845438   2089526  96705.0  50061.0          5548220   \n",
       "1    2014年1月              847001   2091758  96675.0  51232.0          5199190   \n",
       "2    2014年2月              846938   2086305  97263.0  51861.0          5346222   \n",
       "3    2014年3月              847416   2082435  97384.0  52299.0          5069447   \n",
       "4    2014年4月              849083   2081795  98046.0  53731.0          4854796   \n",
       "\n",
       "   高雄捷運系統營運---車次 公車客運---公車系統總運量(人次) 公車客運 ---市區公車運量(人次) 公車客運---捷運接駁公車運量(人次)  \\\n",
       "0          19510                  …                  …                   …   \n",
       "1          19214            4366366            2708635             1383398   \n",
       "2          17760            4401387            2935316             1191465   \n",
       "3          19326            4539754            2997295             1283249   \n",
       "4          18670            4666521            3122337             1275007   \n",
       "\n",
       "          ...         交通事故---車輛肇事受傷人數(A1+A2纇) 交通事故---車輛肇事死亡人數(A1纇)  \\\n",
       "0         ...                          6626.0                   20   \n",
       "1         ...                          6600.0                   24   \n",
       "2         ...                          5123.0                    8   \n",
       "3         ...                          5735.0                   20   \n",
       "4         ...                          5665.0                   14   \n",
       "\n",
       "  交通事故---違反交通管理案件數  主要觀光遊憩區人次  主要觀光遊憩區人次--- 旗津風景區  主要觀光遊憩區人次---蓮池潭  \\\n",
       "0           102563  2387315.0             53492.0          94568.0   \n",
       "1           120518  2766679.0             91696.0         124560.0   \n",
       "2           110744  5843497.0             50684.0         201940.0   \n",
       "3           129812  2460559.0             41905.0          95376.0   \n",
       "4           122820  2340455.0             43368.0          91752.0   \n",
       "\n",
       "   主要觀光遊憩區人次---壽山動物園  主要觀光遊憩區人次---佛光山 主要觀光遊憩區人次---澄清湖 主要觀光遊憩區人次---美濃客家文物館  \n",
       "0            53638.0         521475.0        154243.0             12936.0  \n",
       "1            93786.0         608252.0        131083.0              9012.0  \n",
       "2           155893.0        2944854.0        177916.0             27609.0  \n",
       "3            92441.0         473967.0        167695.0             12180.0  \n",
       "4            85475.0         404360.0        149070.0             12248.0  \n",
       "\n",
       "[5 rows x 43 columns]"
      ]
     },
     "execution_count": 5,
     "metadata": {},
     "output_type": "execute_result"
    }
   ],
   "source": [
    "path = ('https://data.kcg.gov.tw/dataset/f620e491-1076-415c-83dd-abbe94506479/resource/2da251ea-b1e5-4ca1-984a-cb73b66e7cec/download/6.csv')\n",
    "df = pd.read_csv(path, encoding = \"Big5\")#[NCTS]DavidChi\n",
    "df.head()"
   ]
  },
  {
   "cell_type": "code",
   "execution_count": 6,
   "metadata": {},
   "outputs": [
    {
     "data": {
      "text/plain": [
       "RangeIndex(start=0, stop=62, step=1)"
      ]
     },
     "execution_count": 6,
     "metadata": {},
     "output_type": "execute_result"
    }
   ],
   "source": [
    "df.index"
   ]
  },
  {
   "cell_type": "code",
   "execution_count": 7,
   "metadata": {},
   "outputs": [
    {
     "data": {
      "text/plain": [
       "Unnamed: 0                  False\n",
       "汽車登記數(輛)[含特種車不含拖車]          False\n",
       "機車登記數(輛)                    False\n",
       "汽車停車格位數                      True\n",
       "機車停車格位數                      True\n",
       "高雄捷運系統營運---載客人次             False\n",
       "高雄捷運系統營運---車次               False\n",
       "公車客運---公車系統總運量(人次)           True\n",
       "公車客運 ---市區公車運量(人次)           True\n",
       "公車客運---捷運接駁公車運量(人次)          True\n",
       "公車客運---公路客運運量(人次)            True\n",
       "計程車系統運量                      True\n",
       "水上巴士系統---客運人數總計(人次)          True\n",
       "水上巴士系統---愛之船客運人次             True\n",
       "水上巴士系統---鴨子船客運人次            False\n",
       "公共自行車租賃次數                   False\n",
       "高鐵左營站---進站旅客人數(人次)           True\n",
       "高鐵左營站---車次                   True\n",
       "高雄港---進出港貨櫃數(TEU)           False\n",
       "高雄港---進出港貨物吞吐量(公噸)           True\n",
       "小港機場旅客---國際線(人次)             True\n",
       "小港機場旅客---國內線(人次)             True\n",
       "小港機場班次---到(架次)               True\n",
       "小港機場班次---離(架次)               True\n",
       "拖吊違規停車車輛數---汽車(輛)           False\n",
       "拖吊違規停車車輛數---機車(輛)           False\n",
       "觀光旅館---總住房人次                 True\n",
       "觀光旅館---本國旅客                  True\n",
       "觀光旅館---日本旅客                  True\n",
       "觀光旅館---大陸旅客                  True\n",
       "觀光旅館---其他國籍                  True\n",
       "觀光旅館---總住房率(%)               True\n",
       "交通事故---車輛肇事案件發生數(A1+A2纇)     True\n",
       "交通事故---車輛肇事受傷人數(A1+A2纇)      True\n",
       "交通事故---車輛肇事死亡人數(A1纇)        False\n",
       "交通事故---違反交通管理案件數            False\n",
       "主要觀光遊憩區人次                    True\n",
       "主要觀光遊憩區人次--- 旗津風景區           True\n",
       "主要觀光遊憩區人次---蓮池潭              True\n",
       "主要觀光遊憩區人次---壽山動物園            True\n",
       "主要觀光遊憩區人次---佛光山              True\n",
       "主要觀光遊憩區人次---澄清湖              True\n",
       "主要觀光遊憩區人次---美濃客家文物館          True\n",
       "dtype: bool"
      ]
     },
     "execution_count": 7,
     "metadata": {},
     "output_type": "execute_result"
    }
   ],
   "source": [
    "df.isnull().any() "
   ]
  },
  {
   "cell_type": "code",
   "execution_count": 8,
   "metadata": {},
   "outputs": [
    {
     "name": "stdout",
     "output_type": "stream",
     "text": [
      "<class 'pandas.core.frame.DataFrame'>\n",
      "RangeIndex: 62 entries, 0 to 61\n",
      "Data columns (total 43 columns):\n",
      "Unnamed: 0                  62 non-null object\n",
      "汽車登記數(輛)[含特種車不含拖車]          62 non-null int64\n",
      "機車登記數(輛)                    62 non-null int64\n",
      "汽車停車格位數                     61 non-null float64\n",
      "機車停車格位數                     61 non-null float64\n",
      "高雄捷運系統營運---載客人次             62 non-null int64\n",
      "高雄捷運系統營運---車次               62 non-null int64\n",
      "公車客運---公車系統總運量(人次)          61 non-null object\n",
      "公車客運 ---市區公車運量(人次)          61 non-null object\n",
      "公車客運---捷運接駁公車運量(人次)         61 non-null object\n",
      "公車客運---公路客運運量(人次)           61 non-null object\n",
      "計程車系統運量                     61 non-null object\n",
      "水上巴士系統---客運人數總計(人次)         61 non-null object\n",
      "水上巴士系統---愛之船客運人次            61 non-null float64\n",
      "水上巴士系統---鴨子船客運人次            62 non-null int64\n",
      "公共自行車租賃次數                   62 non-null int64\n",
      "高鐵左營站---進站旅客人數(人次)          61 non-null float64\n",
      "高鐵左營站---車次                  61 non-null float64\n",
      "高雄港---進出港貨櫃數(TEU)           62 non-null object\n",
      "高雄港---進出港貨物吞吐量(公噸)          60 non-null object\n",
      "小港機場旅客---國際線(人次)            61 non-null float64\n",
      "小港機場旅客---國內線(人次)            61 non-null float64\n",
      "小港機場班次---到(架次)              61 non-null float64\n",
      "小港機場班次---離(架次)              61 non-null float64\n",
      "拖吊違規停車車輛數---汽車(輛)           62 non-null int64\n",
      "拖吊違規停車車輛數---機車(輛)           62 non-null int64\n",
      "觀光旅館---總住房人次                53 non-null float64\n",
      "觀光旅館---本國旅客                 53 non-null float64\n",
      "觀光旅館---日本旅客                 53 non-null float64\n",
      "觀光旅館---大陸旅客                 53 non-null float64\n",
      "觀光旅館---其他國籍                 53 non-null float64\n",
      "觀光旅館---總住房率(%)              53 non-null float64\n",
      "交通事故---車輛肇事案件發生數(A1+A2纇)    61 non-null float64\n",
      "交通事故---車輛肇事受傷人數(A1+A2纇)     61 non-null float64\n",
      "交通事故---車輛肇事死亡人數(A1纇)        62 non-null int64\n",
      "交通事故---違反交通管理案件數            62 non-null int64\n",
      "主要觀光遊憩區人次                   61 non-null float64\n",
      "主要觀光遊憩區人次--- 旗津風景區          61 non-null float64\n",
      "主要觀光遊憩區人次---蓮池潭             61 non-null float64\n",
      "主要觀光遊憩區人次---壽山動物園           61 non-null float64\n",
      "主要觀光遊憩區人次---佛光山             61 non-null float64\n",
      "主要觀光遊憩區人次---澄清湖             61 non-null float64\n",
      "主要觀光遊憩區人次---美濃客家文物館         61 non-null float64\n",
      "dtypes: float64(24), int64(10), object(9)\n",
      "memory usage: 20.9+ KB\n"
     ]
    }
   ],
   "source": [
    "df.info()"
   ]
  },
  {
   "cell_type": "code",
   "execution_count": 9,
   "metadata": {},
   "outputs": [
    {
     "data": {
      "text/plain": [
       "array([['2013年12月', 845438, 2089526, ..., 521475.0, 154243.0, 12936.0],\n",
       "       ['2014年1月', 847001, 2091758, ..., 608252.0, 131083.0, 9012.0],\n",
       "       ['2014年2月', 846938, 2086305, ..., 2944854.0, 177916.0, 27609.0],\n",
       "       ...,\n",
       "       ['2018年11月', 906520, 2008052, ..., 816357.0, 139164.0, 8567.0],\n",
       "       ['2018年12月', 907200, 2008475, ..., 860844.0, 159966.0, 8590.0],\n",
       "       ['2019年1月', 907650, 2009542, ..., nan, nan, nan]], dtype=object)"
      ]
     },
     "execution_count": 9,
     "metadata": {},
     "output_type": "execute_result"
    }
   ],
   "source": [
    "df.values"
   ]
  },
  {
   "cell_type": "code",
   "execution_count": 10,
   "metadata": {},
   "outputs": [
    {
     "data": {
      "text/plain": [
       "<matplotlib.collections.PathCollection at 0x2d6a7d21c50>"
      ]
     },
     "execution_count": 10,
     "metadata": {},
     "output_type": "execute_result"
    },
    {
     "data": {
      "image/png": "[encoded data removed]",
      "text/plain": [
       "<Figure size 432x288 with 1 Axes>"
      ]
     },
     "metadata": {},
     "output_type": "display_data"
    }
   ],
   "source": [
    "x = np.array(df['公共自行車租賃次數'])\n",
    "y = np.array(df['交通事故---違反交通管理案件數'])\n",
    "\n",
    "plt.scatter(x,y)"
   ]
  },
  {
   "cell_type": "code",
   "execution_count": 11,
   "metadata": {},
   "outputs": [
    {
     "data": {
      "text/plain": [
       "LinearRegression(copy_X=True, fit_intercept=True, n_jobs=1, normalize=False)"
      ]
     },
     "execution_count": 11,
     "metadata": {},
     "output_type": "execute_result"
    }
   ],
   "source": [
    "regr = LinearRegression()\n",
    "X = x.reshape(len(x),1)\n",
    "Y = y.reshape(len(y),1)\n",
    "regr.fit(X,Y) "
   ]
  },
  {
   "cell_type": "code",
   "execution_count": 12,
   "metadata": {},
   "outputs": [
    {
     "data": {
      "text/plain": [
       "<matplotlib.collections.PathCollection at 0x2d6a7eb9710>"
      ]
     },
     "execution_count": 12,
     "metadata": {},
     "output_type": "execute_result"
    },
    {
     "data": {
      "image/png": "[encoded data removed]",
      "text/plain": [
       "<Figure size 432x288 with 1 Axes>"
      ]
     },
     "metadata": {},
     "output_type": "display_data"
    }
   ],
   "source": [
    "x_train,x_test,y_train,y_test = train_test_split(X,Y,test_size=0.3,random_state = 520)\n",
    "regr.fit(x_train,y_train) \n",
    "\n",
    "y_predict = regr.predict(x_test)\n",
    "regr.predict([x_test[10]])  # TEST item 10\n",
    "plt.scatter(x_train,y_train)"
   ]
  },
  {
   "cell_type": "code",
   "execution_count": 13,
   "metadata": {},
   "outputs": [
    {
     "data": {
      "text/plain": [
       "0.021117889162815207"
      ]
     },
     "execution_count": 13,
     "metadata": {},
     "output_type": "execute_result"
    }
   ],
   "source": [
    "regr.score(x_test,y_test)"
   ]
  },
  {
   "cell_type": "code",
   "execution_count": 14,
   "metadata": {},
   "outputs": [
    {
     "data": {
      "text/plain": [
       "<matplotlib.collections.PathCollection at 0x2d6a7f14e80>"
      ]
     },
     "execution_count": 14,
     "metadata": {},
     "output_type": "execute_result"
    },
    {
     "data": {
      "image/png": "[encoded data removed]",
      "text/plain": [
       "<Figure size 432x288 with 1 Axes>"
      ]
     },
     "metadata": {},
     "output_type": "display_data"
    }
   ],
   "source": [
    "plt.plot(x_test,y_predict ,color='R',  linewidth=2, label=\"best line\")\n",
    "plt.scatter(x_train,y_train)"
   ]
  },
  {
   "cell_type": "code",
   "execution_count": null,
   "metadata": {},
   "outputs": [],
   "source": []
  }
 ],
 "metadata": {
  "kernelspec": {
   "display_name": "Python 3",
   "language": "python",
   "name": "python3"
  },
  "language_info": {
   "codemirror_mode": {
    "name": "ipython",
    "version": 3
   },
   "file_extension": ".py",
   "mimetype": "text/x-python",
   "name": "python",
   "nbconvert_exporter": "python",
   "pygments_lexer": "ipython3",
   "version": "3.6.5"
  }
 },
 "nbformat": 4,
 "nbformat_minor": 2
}
