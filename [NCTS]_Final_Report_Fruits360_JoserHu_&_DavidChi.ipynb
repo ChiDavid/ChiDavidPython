{
 "cells": [
  {
   "cell_type": "markdown",
   "metadata": {},
   "source": [
    "## 【期末題目】 : \n",
    "\n",
    "## 使用深度學習來識別蔬果"
   ]
  },
  {
   "cell_type": "markdown",
   "metadata": {},
   "source": [
    "# 【小組成員】：\n",
    "\n",
    "M10726910　胡嘉展\n",
    "\n",
    "M10726914　紀弘俊\n"
   ]
  },
  {
   "cell_type": "markdown",
   "metadata": {},
   "source": [
    "# 【內容說明】：\n",
    "識別蔬果圖像內容包括：\n",
    "蘋果、梨、香蕉、仙人掌果、哈密瓜、櫻桃、\n",
    "萊姆、番茄、葡萄、葡萄柚、番石榴、榛子、\n",
    "桃、柿子、大頭菜、檸檬、荔枝、柑、芒果、\n",
    "芒果、甜瓜、桑樹、橙、木瓜、百香果、桃、\n",
    "鳳梨、辣椒、菠蘿、石榴、柚子蜜、木瓜、\n",
    "紅毛丹、覆盆子、紅醋栗、草莓....."
   ]
  },
  {
   "cell_type": "markdown",
   "metadata": {},
   "source": [
    "# 【輸入】\n",
    "圖像大小：100x100 Pixel\n",
    "訓練圖像數量: ~50000張圖。\n",
    "測試圖像數量: ~20000張圖。\n",
    "\n",
    "# 【輸出】\n",
    "可分辨蔬果分類數量：101 種水果\n"
   ]
  },
  {
   "cell_type": "markdown",
   "metadata": {},
   "source": [
    "# 【識別圖像來源】 : \n",
    "由現成的測試圖像進行識別，再由 Web camera 擷取，並透過OpenCV 將圖像轉成訓練圖像大小，再識別出水果種類。"
   ]
  },
  {
   "cell_type": "markdown",
   "metadata": {},
   "source": [
    "# 【專案排程】:\n",
    "\n",
    " [W17] 1. 訓練資料蒐集與標註 ---> Finished\n",
    " \n",
    " [W18] 2. 將驗證集劃分為測試和驗證集 ---> Finished\n",
    " \n",
    " [W19] 3. 將數據轉換為像素矩陣及數組 ---> Finished\n",
    " \n",
    " [W20] 4. 檢查訓練圖像 ---> Finished\n",
    "\n",
    "# 【目前進度】\n",
    "\n",
    "# [W21] 5. 採用CNN 圖形辨識，固定結構神經網路的函數空間(activation functions,weight,biases)，研讀並選擇合適的Loss functions  ---> On-Going\n",
    "\n",
    " \n",
    "# [W21] 6. 建立CNN 模型及訓練(Convolutional layer, filters, Max-Pooling Laer)  ---> On-Going\n",
    " \n",
    " [W22] 7. 訓練優化(Loss functions & Optimizer)損失優化\n",
    " \n",
    " [W22] 8. 可視化測試預測\n",
    " \n",
    " [W23] 9. 繪製測試圖像的隨機樣本，預測標籤和實際\n",
    " \n",
    " [W23] 10. 檢查損失和準確性\n",
    " \n",
    " [W24] 11. 效果展示\n",
    " \n",
    " [W24] 12. 問題總結"
   ]
  },
  {
   "cell_type": "markdown",
   "metadata": {},
   "source": [
    "# 【訓練資料結構】 : \n",
    "1. 建立101種 \"英文水果名稱\" 目錄，按照英文字母由a~z排列出順序，大約 (0~100) 個目錄。\n",
    "\n",
    "2. 標記號碼 (y_train) : 水果目錄順序碼。\n",
    "\n",
    "3. 訓練資料 (x_train) : 水果目錄下圖像檔案測試資料結構與訓練資料結構相同。"
   ]
  },
  {
   "cell_type": "markdown",
   "metadata": {},
   "source": [
    "## Model Summary()\n",
    "Layer (type)                 Output Shape              Param #   \n",
    "=================================================================\n",
    "conv2d_5 (Conv2D)            (None, 100, 100, 16)      208       \n",
    "_________________________________________________________________\n",
    "activation_3 (Activation)    (None, 100, 100, 16)      0         \n",
    "_________________________________________________________________\n",
    "max_pooling2d_5 (MaxPooling2 (None, 50, 50, 16)        0         \n",
    "_________________________________________________________________\n",
    "conv2d_6 (Conv2D)            (None, 50, 50, 32)        2080      \n",
    "_________________________________________________________________\n",
    "max_pooling2d_6 (MaxPooling2 (None, 25, 25, 32)        0         \n",
    "_________________________________________________________________\n",
    "conv2d_7 (Conv2D)            (None, 25, 25, 64)        8256      \n",
    "_________________________________________________________________\n",
    "max_pooling2d_7 (MaxPooling2 (None, 12, 12, 64)        0         \n",
    "_________________________________________________________________\n",
    "conv2d_8 (Conv2D)            (None, 12, 12, 128)       32896     \n",
    "_________________________________________________________________\n",
    "max_pooling2d_8 (MaxPooling2 (None, 6, 6, 128)         0         \n",
    "_________________________________________________________________\n",
    "dropout_3 (Dropout)          (None, 6, 6, 128)         0         \n",
    "_________________________________________________________________\n",
    "flatten_2 (Flatten)          (None, 4608)              0         \n",
    "_________________________________________________________________\n",
    "dense_3 (Dense)              (None, 150)               691350    \n",
    "_________________________________________________________________\n",
    "activation_4 (Activation)    (None, 150)               0         \n",
    "_________________________________________________________________\n",
    "dropout_4 (Dropout)          (None, 150)               0         \n",
    "_________________________________________________________________\n",
    "dense_4 (Dense)              (None, 101)               15251     \n",
    "=================================================================\n",
    "Total params: 750,041\n",
    "Trainable params: 750,041\n",
    "Non-trainable params: 0"
   ]
  },
  {
   "cell_type": "code",
   "execution_count": null,
   "metadata": {},
   "outputs": [],
   "source": []
  }
 ],
 "metadata": {
  "kernelspec": {
   "display_name": "Python 3",
   "language": "python",
   "name": "python3"
  },
  "language_info": {
   "codemirror_mode": {
    "name": "ipython",
    "version": 3
   },
   "file_extension": ".py",
   "mimetype": "text/x-python",
   "name": "python",
   "nbconvert_exporter": "python",
   "pygments_lexer": "ipython3",
   "version": "3.6.5"
  }
 },
 "nbformat": 4,
 "nbformat_minor": 2
}
