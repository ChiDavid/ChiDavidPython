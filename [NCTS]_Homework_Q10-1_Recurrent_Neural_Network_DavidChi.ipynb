{
 "cells": [
  {
   "cell_type": "markdown",
   "metadata": {},
   "source": [
    "## RNN- Recurrent Neural Network"
   ]
  },
  {
   "cell_type": "code",
   "execution_count": 1,
   "metadata": {},
   "outputs": [
    {
     "name": "stdout",
     "output_type": "stream",
     "text": [
      "env: KERAS_BACKEND=tensorflow\n"
     ]
    },
    {
     "name": "stderr",
     "output_type": "stream",
     "text": [
      "Using TensorFlow backend.\n"
     ]
    }
   ],
   "source": [
    "%matplotlib inline\n",
    "%env KERAS_BACKEND = tensorflow\n",
    "\n",
    "import time\n",
    "import locale\n",
    "import random\n",
    "import keras\n",
    "import numpy as np\n",
    "import pandas as pd\n",
    "import matplotlib as mpl\n",
    "import matplotlib.pyplot as plt\n",
    "from keras.utils.vis_utils import plot_model\n",
    "from ipywidgets import interact\n",
    "from ipywidgets import interact_manual\n",
    "from sklearn.linear_model import LinearRegression\n",
    "from matplotlib.font_manager import FontProperties\n",
    "from sklearn.model_selection import train_test_split\n",
    "\n",
    "myfont = FontProperties(fname = r'c:\\windows\\fonts\\simsun.ttc', size = 14)"
   ]
  },
  {
   "cell_type": "code",
   "execution_count": 2,
   "metadata": {},
   "outputs": [],
   "source": [
    "# 由 Keras 讀入 IMDB\n",
    "from keras.datasets import imdb\n",
    "\n",
    "#RNN\n",
    "from keras.models import Sequential, Model\n",
    "from keras.layers import Dense, Embedding, LSTM\n",
    "from keras.layers import Conv2D, MaxPool2D\n",
    "from keras.optimizers import SGD, Adam\n",
    "\n",
    "# something userful\n",
    "from keras.utils import np_utils\n",
    "from keras.preprocessing import sequence\n",
    "\n",
    "(x_train, y_train), (x_test, y_test) = imdb.load_data(num_words=10000)"
   ]
  },
  {
   "cell_type": "code",
   "execution_count": 3,
   "metadata": {},
   "outputs": [
    {
     "name": "stdout",
     "output_type": "stream",
     "text": [
      "訓練總筆數 25000\n"
     ]
    }
   ],
   "source": [
    "print('訓練總筆數',len(x_train))"
   ]
  },
  {
   "cell_type": "code",
   "execution_count": 4,
   "metadata": {
    "scrolled": true
   },
   "outputs": [
    {
     "name": "stdout",
     "output_type": "stream",
     "text": [
      "測試總筆數 25000\n"
     ]
    }
   ],
   "source": [
    "print('測試總筆數',len(x_test))"
   ]
  },
  {
   "cell_type": "code",
   "execution_count": 5,
   "metadata": {},
   "outputs": [
    {
     "data": {
      "text/plain": [
       "array([1, 0, 0, 1, 0, 0, 1, 0, 1, 0], dtype=int64)"
      ]
     },
     "execution_count": 5,
     "metadata": {},
     "output_type": "execute_result"
    }
   ],
   "source": [
    "y_train[:10]"
   ]
  },
  {
   "cell_type": "code",
   "execution_count": 6,
   "metadata": {},
   "outputs": [
    {
     "data": {
      "text/plain": [
       "153"
      ]
     },
     "execution_count": 6,
     "metadata": {},
     "output_type": "execute_result"
    }
   ],
   "source": [
    "len(x_train[24999])"
   ]
  },
  {
   "cell_type": "code",
   "execution_count": 7,
   "metadata": {},
   "outputs": [],
   "source": [
    "x_train_maxlen = sequence.pad_sequences(x_train, maxlen=150)\n",
    "x_test_maxlen = sequence.pad_sequences(x_test, maxlen=150)"
   ]
  },
  {
   "cell_type": "code",
   "execution_count": 8,
   "metadata": {},
   "outputs": [
    {
     "data": {
      "text/plain": [
       "(25000,)"
      ]
     },
     "execution_count": 8,
     "metadata": {},
     "output_type": "execute_result"
    }
   ],
   "source": [
    "x_train.shape"
   ]
  },
  {
   "cell_type": "code",
   "execution_count": 9,
   "metadata": {},
   "outputs": [],
   "source": [
    "N1 = 2 #文字要壓到N維 (2^1)\n",
    "K1 = 4 #LSTM有K個神經元 (2^2)"
   ]
  },
  {
   "cell_type": "markdown",
   "metadata": {},
   "source": [
    "## 建構神經網路"
   ]
  },
  {
   "cell_type": "markdown",
   "metadata": {},
   "source": [
    "## 【Model 1】打開一個空白的神經網路。"
   ]
  },
  {
   "cell_type": "code",
   "execution_count": 10,
   "metadata": {},
   "outputs": [],
   "source": [
    "model_01 = Sequential()"
   ]
  },
  {
   "cell_type": "code",
   "execution_count": 11,
   "metadata": {},
   "outputs": [],
   "source": [
    "model_01.add(Embedding(10000,N1))\n",
    "model_01.add(LSTM(K1))\n",
    "\n",
    "model_01.add(Dense(1, activation='sigmoid'))"
   ]
  },
  {
   "cell_type": "code",
   "execution_count": 12,
   "metadata": {},
   "outputs": [
    {
     "data": {
      "image/png": "[encoded data removed]",
      "text/plain": [
       "<IPython.core.display.Image object>"
      ]
     },
     "execution_count": 12,
     "metadata": {},
     "output_type": "execute_result"
    }
   ],
   "source": [
    "import os\n",
    "os.environ[\"PATH\"] += os.pathsep + 'C:/Program Files (x86)/Graphviz2.38/bin/'\n",
    "\n",
    "import pydot\n",
    "from keras.utils.vis_utils import plot_model\n",
    "plot_model(model_01, to_file='Q10-1_RNN_model_01.png')\n",
    "from IPython.display import Image\n",
    "Image(filename=\"Q10-1_RNN_model_01.png\")"
   ]
  },
  {
   "cell_type": "markdown",
   "metadata": {},
   "source": [
    "## 【Compile & Training】"
   ]
  },
  {
   "cell_type": "code",
   "execution_count": 13,
   "metadata": {},
   "outputs": [],
   "source": [
    "model_01.compile(loss = 'binary_crossentropy', optimizer = 'adam', metrics = ['accuracy'])"
   ]
  },
  {
   "cell_type": "code",
   "execution_count": 14,
   "metadata": {},
   "outputs": [
    {
     "name": "stdout",
     "output_type": "stream",
     "text": [
      "_________________________________________________________________\n",
      "Layer (type)                 Output Shape              Param #   \n",
      "=================================================================\n",
      "embedding_1 (Embedding)      (None, None, 2)           20000     \n",
      "_________________________________________________________________\n",
      "lstm_1 (LSTM)                (None, 4)                 112       \n",
      "_________________________________________________________________\n",
      "dense_1 (Dense)              (None, 1)                 5         \n",
      "=================================================================\n",
      "Total params: 20,117\n",
      "Trainable params: 20,117\n",
      "Non-trainable params: 0\n",
      "_________________________________________________________________\n"
     ]
    }
   ],
   "source": [
    "model_01.summary()"
   ]
  },
  {
   "cell_type": "code",
   "execution_count": 15,
   "metadata": {},
   "outputs": [
    {
     "name": "stdout",
     "output_type": "stream",
     "text": [
      "Train on 25000 samples, validate on 25000 samples\n",
      "Epoch 1/5\n",
      "25000/25000 [==============================] - 99s 4ms/step - loss: 0.5178 - acc: 0.7466 - val_loss: 0.3658 - val_acc: 0.8528\n",
      "Epoch 2/5\n",
      "25000/25000 [==============================] - 97s 4ms/step - loss: 0.2927 - acc: 0.8876 - val_loss: 0.3625 - val_acc: 0.8456\n",
      "Epoch 3/5\n",
      "25000/25000 [==============================] - 98s 4ms/step - loss: 0.2261 - acc: 0.9187 - val_loss: 0.3397 - val_acc: 0.8603\n",
      "Epoch 4/5\n",
      "25000/25000 [==============================] - 98s 4ms/step - loss: 0.1925 - acc: 0.9339 - val_loss: 0.3502 - val_acc: 0.8582\n",
      "Epoch 5/5\n",
      "25000/25000 [==============================] - 100s 4ms/step - loss: 0.1660 - acc: 0.9461 - val_loss: 0.3750 - val_acc: 0.8549\n"
     ]
    }
   ],
   "source": [
    "model_01_result = model_01.fit(x_train_maxlen, y_train, batch_size = 32, epochs = 5, validation_data = (x_test_maxlen,y_test))"
   ]
  },
  {
   "cell_type": "markdown",
   "metadata": {},
   "source": [
    "## 【Model 2】"
   ]
  },
  {
   "cell_type": "code",
   "execution_count": 16,
   "metadata": {},
   "outputs": [
    {
     "data": {
      "image/png": "[encoded data removed]",
      "text/plain": [
       "<IPython.core.display.Image object>"
      ]
     },
     "execution_count": 16,
     "metadata": {},
     "output_type": "execute_result"
    }
   ],
   "source": [
    "N2 = 4 #文字要壓到N維 (2^2)\n",
    "K2 = 8 #LSTM有K個神經元 (2^3)\n",
    "\n",
    "model_02 = Sequential()\n",
    "\n",
    "model_02.add(Embedding(10000,N2))\n",
    "model_02.add(LSTM(K2))\n",
    "\n",
    "model_02.add(Dense(1, activation='sigmoid'))\n",
    "\n",
    "model_02.compile(loss='binary_crossentropy',\n",
    "             optimizer='adam',\n",
    "             metrics=['accuracy'])\n",
    "\n",
    "from keras.utils.vis_utils import plot_model\n",
    "plot_model(model_02, to_file='Q10-1_RNN_model_02.png')\n",
    "Image(filename=\"Q10-1_RNN_model_02.png\")"
   ]
  },
  {
   "cell_type": "code",
   "execution_count": 17,
   "metadata": {},
   "outputs": [
    {
     "name": "stdout",
     "output_type": "stream",
     "text": [
      "Train on 25000 samples, validate on 25000 samples\n",
      "Epoch 1/5\n",
      "25000/25000 [==============================] - 104s 4ms/step - loss: 0.5166 - acc: 0.7510 - val_loss: 0.3889 - val_acc: 0.8333\n",
      "Epoch 2/5\n",
      "25000/25000 [==============================] - 97s 4ms/step - loss: 0.3090 - acc: 0.8777 - val_loss: 0.3459 - val_acc: 0.8576\n",
      "Epoch 3/5\n",
      "25000/25000 [==============================] - 104s 4ms/step - loss: 0.2328 - acc: 0.9102 - val_loss: 0.3381 - val_acc: 0.8566\n",
      "Epoch 4/5\n",
      "25000/25000 [==============================] - 101s 4ms/step - loss: 0.1917 - acc: 0.9320 - val_loss: 0.3648 - val_acc: 0.8546\n",
      "Epoch 5/5\n",
      "25000/25000 [==============================] - 102s 4ms/step - loss: 0.1678 - acc: 0.9422 - val_loss: 0.3788 - val_acc: 0.8543\n"
     ]
    }
   ],
   "source": [
    "model_02_result = model_02.fit(x_train_maxlen, y_train, batch_size = 32, epochs = 5, validation_data = (x_test_maxlen,y_test))"
   ]
  },
  {
   "cell_type": "code",
   "execution_count": 18,
   "metadata": {
    "scrolled": true
   },
   "outputs": [
    {
     "name": "stdout",
     "output_type": "stream",
     "text": [
      "_________________________________________________________________\n",
      "Layer (type)                 Output Shape              Param #   \n",
      "=================================================================\n",
      "embedding_2 (Embedding)      (None, None, 4)           40000     \n",
      "_________________________________________________________________\n",
      "lstm_2 (LSTM)                (None, 8)                 416       \n",
      "_________________________________________________________________\n",
      "dense_2 (Dense)              (None, 1)                 9         \n",
      "=================================================================\n",
      "Total params: 40,425\n",
      "Trainable params: 40,425\n",
      "Non-trainable params: 0\n",
      "_________________________________________________________________\n"
     ]
    }
   ],
   "source": [
    "model_02.summary()"
   ]
  },
  {
   "cell_type": "markdown",
   "metadata": {},
   "source": [
    "## 【Model 3】當 N < K時反而讓準確率降低"
   ]
  },
  {
   "cell_type": "code",
   "execution_count": 19,
   "metadata": {},
   "outputs": [
    {
     "data": {
      "image/png": "[encoded data removed]",
      "text/plain": [
       "<IPython.core.display.Image object>"
      ]
     },
     "execution_count": 19,
     "metadata": {},
     "output_type": "execute_result"
    }
   ],
   "source": [
    "N3 = 128 #文字要壓到N維 (2^7)\n",
    "K3 = 256 #LSTM有K個神經元 (2^8)\n",
    "\n",
    "model_03 = Sequential()\n",
    "\n",
    "model_03.add(Embedding(10000,N3))\n",
    "model_03.add(LSTM(K3))\n",
    "\n",
    "model_03.add(Dense(1, activation='sigmoid'))\n",
    "\n",
    "model_03.compile(loss='binary_crossentropy',\n",
    "             optimizer='adam',\n",
    "             metrics=['accuracy'])\n",
    "\n",
    "from keras.utils.vis_utils import plot_model\n",
    "plot_model(model_03, to_file='Q10-1_RNN_model_03.png')\n",
    "Image(filename=\"Q10-1_RNN_model_03.png\")"
   ]
  },
  {
   "cell_type": "code",
   "execution_count": 20,
   "metadata": {},
   "outputs": [
    {
     "name": "stdout",
     "output_type": "stream",
     "text": [
      "Train on 25000 samples, validate on 25000 samples\n",
      "Epoch 1/5\n",
      "25000/25000 [==============================] - 537s 21ms/step - loss: 0.4560 - acc: 0.7862 - val_loss: 0.3535 - val_acc: 0.8504\n",
      "Epoch 2/5\n",
      "25000/25000 [==============================] - 311s 12ms/step - loss: 0.2769 - acc: 0.8880 - val_loss: 0.3500 - val_acc: 0.8482\n",
      "Epoch 3/5\n",
      "25000/25000 [==============================] - 333s 13ms/step - loss: 0.2006 - acc: 0.9223 - val_loss: 0.3617 - val_acc: 0.8544\n",
      "Epoch 4/5\n",
      "25000/25000 [==============================] - 339s 14ms/step - loss: 0.1445 - acc: 0.9458 - val_loss: 0.4356 - val_acc: 0.8447\n",
      "Epoch 5/5\n",
      "25000/25000 [==============================] - 371s 15ms/step - loss: 0.0981 - acc: 0.9662 - val_loss: 0.5024 - val_acc: 0.8524\n"
     ]
    }
   ],
   "source": [
    "model_03_result = model_03.fit(x_train_maxlen, y_train, batch_size = 32, epochs = 5, validation_data = (x_test_maxlen,y_test))"
   ]
  },
  {
   "cell_type": "code",
   "execution_count": 21,
   "metadata": {},
   "outputs": [
    {
     "name": "stdout",
     "output_type": "stream",
     "text": [
      "_________________________________________________________________\n",
      "Layer (type)                 Output Shape              Param #   \n",
      "=================================================================\n",
      "embedding_3 (Embedding)      (None, None, 128)         1280000   \n",
      "_________________________________________________________________\n",
      "lstm_3 (LSTM)                (None, 256)               394240    \n",
      "_________________________________________________________________\n",
      "dense_3 (Dense)              (None, 1)                 257       \n",
      "=================================================================\n",
      "Total params: 1,674,497\n",
      "Trainable params: 1,674,497\n",
      "Non-trainable params: 0\n",
      "_________________________________________________________________\n"
     ]
    }
   ],
   "source": [
    "model_03.summary()"
   ]
  },
  {
   "cell_type": "markdown",
   "metadata": {},
   "source": [
    "## 【Model 4】 當 N >> K 時會提升相關的準確率"
   ]
  },
  {
   "cell_type": "code",
   "execution_count": 26,
   "metadata": {},
   "outputs": [
    {
     "data": {
      "image/png": "[encoded data removed]",
      "text/plain": [
       "<IPython.core.display.Image object>"
      ]
     },
     "execution_count": 26,
     "metadata": {},
     "output_type": "execute_result"
    }
   ],
   "source": [
    "N4 = 256 #文字要壓到N維 (2^8)\n",
    "K4 = 32 #LSTM有K個神經元 (2^5)\n",
    "\n",
    "model_04 = Sequential()\n",
    "\n",
    "model_04.add(Embedding(10000,N4))\n",
    "model_04.add(LSTM(K4))\n",
    "\n",
    "model_04.add(Dense(1, activation='sigmoid'))\n",
    "\n",
    "model_04.compile(loss='binary_crossentropy',\n",
    "             optimizer='adam',\n",
    "             metrics=['accuracy'])\n",
    "\n",
    "from keras.utils.vis_utils import plot_model\n",
    "plot_model(model_04, to_file='Q10-1_RNN_model_04.png')\n",
    "Image(filename=\"Q10-1_RNN_model_04.png\")"
   ]
  },
  {
   "cell_type": "code",
   "execution_count": 27,
   "metadata": {},
   "outputs": [
    {
     "name": "stdout",
     "output_type": "stream",
     "text": [
      "Train on 25000 samples, validate on 25000 samples\n",
      "Epoch 1/5\n",
      "25000/25000 [==============================] - 110s 4ms/step - loss: 0.4116 - acc: 0.8115 - val_loss: 0.3195 - val_acc: 0.8648\n",
      "Epoch 2/5\n",
      "25000/25000 [==============================] - 127s 5ms/step - loss: 0.2333 - acc: 0.9078 - val_loss: 0.3173 - val_acc: 0.8694\n",
      "Epoch 3/5\n",
      "25000/25000 [==============================] - 150s 6ms/step - loss: 0.1635 - acc: 0.9380 - val_loss: 0.3464 - val_acc: 0.8687\n",
      "Epoch 4/5\n",
      "25000/25000 [==============================] - 144s 6ms/step - loss: 0.1105 - acc: 0.9599 - val_loss: 0.4109 - val_acc: 0.8614\n",
      "Epoch 5/5\n",
      "25000/25000 [==============================] - 134s 5ms/step - loss: 0.0808 - acc: 0.9715 - val_loss: 0.5237 - val_acc: 0.8605\n"
     ]
    }
   ],
   "source": [
    "model_04_result = model_04.fit(x_train_maxlen, y_train, batch_size = 32, epochs = 5, validation_data = (x_test_maxlen,y_test))"
   ]
  },
  {
   "cell_type": "code",
   "execution_count": 29,
   "metadata": {},
   "outputs": [
    {
     "name": "stdout",
     "output_type": "stream",
     "text": [
      "_________________________________________________________________\n",
      "Layer (type)                 Output Shape              Param #   \n",
      "=================================================================\n",
      "embedding_4 (Embedding)      (None, None, 256)         2560000   \n",
      "_________________________________________________________________\n",
      "lstm_4 (LSTM)                (None, 32)                36992     \n",
      "_________________________________________________________________\n",
      "dense_4 (Dense)              (None, 1)                 33        \n",
      "=================================================================\n",
      "Total params: 2,597,025\n",
      "Trainable params: 2,597,025\n",
      "Non-trainable params: 0\n",
      "_________________________________________________________________\n"
     ]
    }
   ],
   "source": [
    "model_04.summary()"
   ]
  },
  {
   "cell_type": "markdown",
   "metadata": {},
   "source": [
    "## 【Model 5】"
   ]
  },
  {
   "cell_type": "code",
   "execution_count": 30,
   "metadata": {},
   "outputs": [
    {
     "data": {
      "image/png": "[encoded data removed]",
      "text/plain": [
       "<IPython.core.display.Image object>"
      ]
     },
     "execution_count": 30,
     "metadata": {},
     "output_type": "execute_result"
    }
   ],
   "source": [
    "N5 = 128 #文字要壓到N維 (2^7)\n",
    "K5 = 16 #LSTM有K個神經元 (2^4)\n",
    "\n",
    "model_05 = Sequential()\n",
    "\n",
    "model_05.add(Embedding(10000,N5))\n",
    "model_05.add(LSTM(K5))\n",
    "\n",
    "model_05.add(Dense(1, activation='sigmoid'))\n",
    "\n",
    "model_05.compile(loss='binary_crossentropy',\n",
    "             optimizer='adam',\n",
    "             metrics=['accuracy'])\n",
    "\n",
    "from keras.utils.vis_utils import plot_model\n",
    "plot_model(model_05, to_file='Q10-1_RNN_model_05.png')\n",
    "Image(filename=\"Q10-1_RNN_model_05.png\")"
   ]
  },
  {
   "cell_type": "code",
   "execution_count": 31,
   "metadata": {},
   "outputs": [
    {
     "name": "stdout",
     "output_type": "stream",
     "text": [
      "Train on 25000 samples, validate on 25000 samples\n",
      "Epoch 1/5\n",
      "25000/25000 [==============================] - 98s 4ms/step - loss: 0.4241 - acc: 0.8025 - val_loss: 0.3314 - val_acc: 0.8576\n",
      "Epoch 2/5\n",
      "25000/25000 [==============================] - 103s 4ms/step - loss: 0.2450 - acc: 0.9031 - val_loss: 0.3373 - val_acc: 0.8613\n",
      "Epoch 3/5\n",
      "25000/25000 [==============================] - 109s 4ms/step - loss: 0.1726 - acc: 0.9360 - val_loss: 0.3506 - val_acc: 0.8612\n",
      "Epoch 4/5\n",
      "25000/25000 [==============================] - 136s 5ms/step - loss: 0.1180 - acc: 0.9591 - val_loss: 0.4660 - val_acc: 0.8554\n",
      "Epoch 5/5\n",
      "25000/25000 [==============================] - 101s 4ms/step - loss: 0.0936 - acc: 0.9678 - val_loss: 0.4298 - val_acc: 0.8580\n"
     ]
    }
   ],
   "source": [
    "model_05_result = model_05.fit(x_train_maxlen, y_train, batch_size = 32, epochs = 5, validation_data = (x_test_maxlen,y_test))"
   ]
  },
  {
   "cell_type": "code",
   "execution_count": 32,
   "metadata": {},
   "outputs": [
    {
     "name": "stdout",
     "output_type": "stream",
     "text": [
      "_________________________________________________________________\n",
      "Layer (type)                 Output Shape              Param #   \n",
      "=================================================================\n",
      "embedding_5 (Embedding)      (None, None, 128)         1280000   \n",
      "_________________________________________________________________\n",
      "lstm_5 (LSTM)                (None, 16)                9280      \n",
      "_________________________________________________________________\n",
      "dense_5 (Dense)              (None, 1)                 17        \n",
      "=================================================================\n",
      "Total params: 1,289,297\n",
      "Trainable params: 1,289,297\n",
      "Non-trainable params: 0\n",
      "_________________________________________________________________\n"
     ]
    }
   ],
   "source": [
    "model_05.summary()"
   ]
  },
  {
   "cell_type": "code",
   "execution_count": 33,
   "metadata": {},
   "outputs": [
    {
     "name": "stdout",
     "output_type": "stream",
     "text": [
      "25000/25000 [==============================] - 8s 313us/step\n",
      "model_01 loss 0.3750397346305847\n",
      "model_01 正確率 85.492 %\n",
      "25000/25000 [==============================] - 8s 301us/step\n",
      "model_02 loss 0.3787676734256744\n",
      "model_02 正確率 85.432 %\n",
      "25000/25000 [==============================] - 83s 3ms/step\n",
      "model_03 loss 0.5023854149246216\n",
      "model_03 正確率 85.24000000000001 %\n",
      "25000/25000 [==============================] - 23s 914us/step\n",
      "model_04 loss 0.52373855427742\n",
      "model_04 正確率 86.048 %\n",
      "25000/25000 [==============================] - 14s 560us/step\n",
      "model_05 loss 0.4298072579932213\n",
      "model_05 正確率 85.804 %\n"
     ]
    }
   ],
   "source": [
    "score_01 = model_01.evaluate(x_test_maxlen, y_test)\n",
    "print('model_01 loss',score_01[0])\n",
    "print('model_01 正確率',score_01[1] * 100 ,'%')\n",
    "\n",
    "score_02 = model_02.evaluate(x_test_maxlen, y_test)\n",
    "print('model_02 loss',score_02[0])\n",
    "print('model_02 正確率',score_02[1] * 100 ,'%')\n",
    "\n",
    "score_03 = model_03.evaluate(x_test_maxlen, y_test)\n",
    "print('model_03 loss',score_03[0])\n",
    "print('model_03 正確率',score_03[1] * 100 ,'%')\n",
    "\n",
    "score_04 = model_04.evaluate(x_test_maxlen, y_test)\n",
    "print('model_04 loss',score_04[0])\n",
    "print('model_04 正確率',score_04[1] * 100 ,'%')\n",
    "\n",
    "score_05 = model_05.evaluate(x_test_maxlen, y_test)\n",
    "print('model_05 loss',score_05[0])\n",
    "print('model_05 正確率',score_05[1] * 100 ,'%')"
   ]
  },
  {
   "cell_type": "code",
   "execution_count": 34,
   "metadata": {},
   "outputs": [
    {
     "data": {
      "image/png": "[encoded data removed]",
      "text/plain": [
       "<Figure size 432x288 with 1 Axes>"
      ]
     },
     "metadata": {},
     "output_type": "display_data"
    }
   ],
   "source": [
    "plt.plot(model_01_result.history['acc'])\n",
    "plt.plot(model_02_result.history['acc'])\n",
    "plt.plot(model_03_result.history['acc'])\n",
    "plt.plot(model_04_result.history['acc'])\n",
    "plt.plot(model_05_result.history['acc'])\n",
    "\n",
    "plt.title('model training accuracy')\n",
    "plt.ylabel('accuracy')\n",
    "plt.xlabel('epoch')\n",
    "plt.legend(['model_01','model_02','model_03','model_04','model_05'],loc = 'best')\n",
    "plt.show()"
   ]
  },
  {
   "cell_type": "code",
   "execution_count": 35,
   "metadata": {},
   "outputs": [],
   "source": [
    "model_json = model_01.to_json()\n",
    "open('[NCTS]_Homework_Q10-1_Recurrent_Neural_Network_Model_01_DavidChi.json', 'w').write(model_json)\n",
    "model_01.save_weights('[NCTS]_Homework_Q10-1_Recurrent_Neural_Network_Model_01_DavidChi.h5')\n",
    "\n",
    "model_json = model_02.to_json()\n",
    "open('[NCTS]_Homework_Q10-1_Recurrent_Neural_Network_Model_02_DavidChi.json', 'w').write(model_json)\n",
    "model_02.save_weights('[NCTS]_Homework_Q10-1_Recurrent_Neural_Network_Model_02_DavidChi.h5')\n",
    "\n",
    "model_json = model_03.to_json()\n",
    "open('[NCTS]_Homework_Q10-1_Recurrent_Neural_Network_Model_03_DavidChi.json', 'w').write(model_json)\n",
    "model_03.save_weights('[NCTS]_Homework_Q10-1_Recurrent_Neural_Network_Model_03_DavidChi.h5')\n",
    "\n",
    "model_json = model_04.to_json()\n",
    "open('[NCTS]_Homework_Q10-1_Recurrent_Neural_Network_Model_04_DavidChi.json', 'w').write(model_json)\n",
    "model_04.save_weights('[NCTS]_Homework_Q10-1_Recurrent_Neural_Network_Model_04_DavidChi.h5')\n",
    "\n",
    "model_json = model_05.to_json()\n",
    "open('[NCTS]_Homework_Q10-1_Recurrent_Neural_Network_Model_05_DavidChi.json', 'w').write(model_json)\n",
    "model_05.save_weights('[NCTS]_Homework_Q10-1_Recurrent_Neural_Network_Model_05_DavidChi.h5')"
   ]
  }
 ],
 "metadata": {
  "kernelspec": {
   "display_name": "Python 3",
   "language": "python",
   "name": "python3"
  },
  "language_info": {
   "codemirror_mode": {
    "name": "ipython",
    "version": 3
   },
   "file_extension": ".py",
   "mimetype": "text/x-python",
   "name": "python",
   "nbconvert_exporter": "python",
   "pygments_lexer": "ipython3",
   "version": "3.6.5"
  }
 },
 "nbformat": 4,
 "nbformat_minor": 2
}
