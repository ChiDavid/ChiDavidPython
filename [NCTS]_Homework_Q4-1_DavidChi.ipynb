{
 "cells": [
  {
   "cell_type": "code",
   "execution_count": 1,
   "metadata": {},
   "outputs": [],
   "source": [
    "%matplotlib inline\n",
    "\n",
    "import numpy as np\n",
    "import matplotlib.pyplot as plt\n",
    "from matplotlib.font_manager import FontProperties\n",
    "import matplotlib as mpl\n",
    "import pandas as pd\n",
    "import locale\n",
    "import time\n",
    "from ipywidgets import interact\n",
    "myfont = FontProperties(fname=r'c:\\windows\\fonts\\simsun.ttc', size=14)"
   ]
  },
  {
   "cell_type": "code",
   "execution_count": 2,
   "metadata": {},
   "outputs": [],
   "source": [
    "path = ('http://datacenter.taichung.gov.tw/swagger/OpenData/d9cad116-1255-4e97-94fc-d8dc58cd9ff9')\n",
    "df = pd.read_csv(path,index_col=\"區\")#[NCTS]DavidChi"
   ]
  },
  {
   "cell_type": "code",
   "execution_count": 3,
   "metadata": {},
   "outputs": [
    {
     "data": {
      "text/plain": [
       "Index(['大雅區', '西屯區', '北屯區', '西區', '龍井區', '大雅區', '豐原區', '霧峰區', '北區', '東區',\n",
       "       ...\n",
       "       '大里區', '神岡區', '大安區', '神岡區', '潭子區', '南區', '南屯區', '北屯區', '東區', '新社區'],\n",
       "      dtype='object', name='區', length=8592)"
      ]
     },
     "execution_count": 3,
     "metadata": {},
     "output_type": "execute_result"
    }
   ],
   "source": [
    "df.index"
   ]
  },
  {
   "cell_type": "code",
   "execution_count": 4,
   "metadata": {
    "scrolled": true
   },
   "outputs": [
    {
     "data": {
      "text/html": [
       "<div>\n",
       "<style scoped>\n",
       "    .dataframe tbody tr th:only-of-type {\n",
       "        vertical-align: middle;\n",
       "    }\n",
       "\n",
       "    .dataframe tbody tr th {\n",
       "        vertical-align: top;\n",
       "    }\n",
       "\n",
       "    .dataframe thead th {\n",
       "        text-align: right;\n",
       "    }\n",
       "</style>\n",
       "<table border=\"1\" class=\"dataframe\">\n",
       "  <thead>\n",
       "    <tr style=\"text-align: right;\">\n",
       "      <th></th>\n",
       "      <th>發生時間</th>\n",
       "      <th>事故類別</th>\n",
       "      <th>市</th>\n",
       "      <th>里</th>\n",
       "      <th>鄰</th>\n",
       "      <th>事故地點</th>\n",
       "      <th>鄰近</th>\n",
       "      <th>肇事逃逸</th>\n",
       "      <th>酒駕案件</th>\n",
       "    </tr>\n",
       "    <tr>\n",
       "      <th>區</th>\n",
       "      <th></th>\n",
       "      <th></th>\n",
       "      <th></th>\n",
       "      <th></th>\n",
       "      <th></th>\n",
       "      <th></th>\n",
       "      <th></th>\n",
       "      <th></th>\n",
       "      <th></th>\n",
       "    </tr>\n",
       "  </thead>\n",
       "  <tbody>\n",
       "    <tr>\n",
       "      <th>大雅區</th>\n",
       "      <td>10410010025</td>\n",
       "      <td>A2</td>\n",
       "      <td>臺中市</td>\n",
       "      <td>西寶里</td>\n",
       "      <td>NaN</td>\n",
       "      <td>雅潭路四段35號前</td>\n",
       "      <td>NaN</td>\n",
       "      <td>否</td>\n",
       "      <td>否</td>\n",
       "    </tr>\n",
       "    <tr>\n",
       "      <th>西屯區</th>\n",
       "      <td>10410010131</td>\n",
       "      <td>A3</td>\n",
       "      <td>臺中市</td>\n",
       "      <td>何福里</td>\n",
       "      <td>NaN</td>\n",
       "      <td>漢口路二段110之1號前</td>\n",
       "      <td>NaN</td>\n",
       "      <td>否</td>\n",
       "      <td>否</td>\n",
       "    </tr>\n",
       "    <tr>\n",
       "      <th>北屯區</th>\n",
       "      <td>10410010145</td>\n",
       "      <td>A2</td>\n",
       "      <td>臺中市</td>\n",
       "      <td>平和里</td>\n",
       "      <td>NaN</td>\n",
       "      <td>梅川西路四段與瀋陽路一段(口)</td>\n",
       "      <td>NaN</td>\n",
       "      <td>否</td>\n",
       "      <td>否</td>\n",
       "    </tr>\n",
       "    <tr>\n",
       "      <th>西區</th>\n",
       "      <td>10410010213</td>\n",
       "      <td>A2</td>\n",
       "      <td>臺中市</td>\n",
       "      <td>公民里</td>\n",
       "      <td>NaN</td>\n",
       "      <td>自立街</td>\n",
       "      <td>與忠仁街</td>\n",
       "      <td>否</td>\n",
       "      <td>否</td>\n",
       "    </tr>\n",
       "    <tr>\n",
       "      <th>龍井區</th>\n",
       "      <td>10410010407</td>\n",
       "      <td>A3</td>\n",
       "      <td>臺中市</td>\n",
       "      <td>東海里</td>\n",
       "      <td>NaN</td>\n",
       "      <td>遊園北路382號前</td>\n",
       "      <td>NaN</td>\n",
       "      <td>是</td>\n",
       "      <td>否</td>\n",
       "    </tr>\n",
       "  </tbody>\n",
       "</table>\n",
       "</div>"
      ],
      "text/plain": [
       "            發生時間 事故類別    市    里    鄰             事故地點    鄰近 肇事逃逸 酒駕案件\n",
       "區                                                                    \n",
       "大雅區  10410010025   A2  臺中市  西寶里  NaN        雅潭路四段35號前   NaN    否    否\n",
       "西屯區  10410010131   A3  臺中市  何福里  NaN     漢口路二段110之1號前   NaN    否    否\n",
       "北屯區  10410010145   A2  臺中市  平和里  NaN  梅川西路四段與瀋陽路一段(口)   NaN    否    否\n",
       "西區   10410010213   A2  臺中市  公民里  NaN              自立街  與忠仁街    否    否\n",
       "龍井區  10410010407   A3  臺中市  東海里  NaN        遊園北路382號前   NaN    是    否"
      ]
     },
     "execution_count": 4,
     "metadata": {},
     "output_type": "execute_result"
    }
   ],
   "source": [
    "df.head()"
   ]
  },
  {
   "cell_type": "code",
   "execution_count": 5,
   "metadata": {},
   "outputs": [
    {
     "name": "stdout",
     "output_type": "stream",
     "text": [
      "<class 'pandas.core.frame.DataFrame'>\n",
      "Index: 8592 entries, 大雅區 to 新社區\n",
      "Data columns (total 9 columns):\n",
      "發生時間    8592 non-null int64\n",
      "事故類別    8592 non-null object\n",
      "市       8592 non-null object\n",
      "里       8346 non-null object\n",
      "鄰       6 non-null object\n",
      "事故地點    8592 non-null object\n",
      "鄰近      2249 non-null object\n",
      "肇事逃逸    8592 non-null object\n",
      "酒駕案件    8592 non-null object\n",
      "dtypes: int64(1), object(8)\n",
      "memory usage: 671.2+ KB\n"
     ]
    }
   ],
   "source": [
    "df.info()"
   ]
  },
  {
   "cell_type": "code",
   "execution_count": 6,
   "metadata": {},
   "outputs": [
    {
     "data": {
      "image/png": "[encoded data removed]",
      "text/plain": [
       "<Figure size 432x288 with 1 Axes>"
      ]
     },
     "metadata": {},
     "output_type": "display_data"
    }
   ],
   "source": [
    "df2 = df[(df.肇事逃逸.str.contains('是')) | (df.酒駕案件.str.contains('是'))]\n",
    "df3 = df2.sort_values(by = ['區'], ascending=False)\n",
    "df3.hist() \n",
    "\n",
    "plt.title('酒駕區域分佈',fontproperties=myfont) \n",
    "plt.xlabel('區',fontproperties=myfont)  \n",
    "plt.ylabel('次數',fontproperties=myfont)\n",
    "plt.show()"
   ]
  },
  {
   "cell_type": "code",
   "execution_count": null,
   "metadata": {},
   "outputs": [],
   "source": []
  }
 ],
 "metadata": {
  "kernelspec": {
   "display_name": "Python 3",
   "language": "python",
   "name": "python3"
  },
  "language_info": {
   "codemirror_mode": {
    "name": "ipython",
    "version": 3
   },
   "file_extension": ".py",
   "mimetype": "text/x-python",
   "name": "python",
   "nbconvert_exporter": "python",
   "pygments_lexer": "ipython3",
   "version": "3.6.5"
  }
 },
 "nbformat": 4,
 "nbformat_minor": 2
}
